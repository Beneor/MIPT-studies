{
 "cells": [
  {
   "cell_type": "code",
   "execution_count": 15,
   "id": "611da944",
   "metadata": {},
   "outputs": [],
   "source": [
    "## I. ПОДГОТОВКА ФАЙЛОВ ДЛЯ АНАЛИЗА\n",
    "\n",
    "import os\n",
    "os.chdir ('A:/MIPT')\n",
    "import pandas as pd"
   ]
  },
  {
   "cell_type": "code",
   "execution_count": 2,
   "id": "076bcc66-1cff-49b5-b332-69456af7b87c",
   "metadata": {},
   "outputs": [],
   "source": [
    "# 1. Cоздание общей таблицы признаков для train и questions"
   ]
  },
  {
   "cell_type": "code",
   "execution_count": 3,
   "id": "e4c7f552-2aea-44c3-b539-b1c037127dd5",
   "metadata": {},
   "outputs": [
    {
     "data": {
      "text/html": [
       "<div>\n",
       "<style scoped>\n",
       "    .dataframe tbody tr th:only-of-type {\n",
       "        vertical-align: middle;\n",
       "    }\n",
       "\n",
       "    .dataframe tbody tr th {\n",
       "        vertical-align: top;\n",
       "    }\n",
       "\n",
       "    .dataframe thead th {\n",
       "        text-align: right;\n",
       "    }\n",
       "</style>\n",
       "<table border=\"1\" class=\"dataframe\">\n",
       "  <thead>\n",
       "    <tr style=\"text-align: right;\">\n",
       "      <th></th>\n",
       "      <th>question_id</th>\n",
       "      <th>bundle_id</th>\n",
       "      <th>correct_answer</th>\n",
       "      <th>part</th>\n",
       "      <th>tags</th>\n",
       "    </tr>\n",
       "  </thead>\n",
       "  <tbody>\n",
       "    <tr>\n",
       "      <th>0</th>\n",
       "      <td>0</td>\n",
       "      <td>0</td>\n",
       "      <td>0</td>\n",
       "      <td>1</td>\n",
       "      <td>51 131 162 38</td>\n",
       "    </tr>\n",
       "    <tr>\n",
       "      <th>1</th>\n",
       "      <td>1</td>\n",
       "      <td>1</td>\n",
       "      <td>1</td>\n",
       "      <td>1</td>\n",
       "      <td>131 36 81</td>\n",
       "    </tr>\n",
       "    <tr>\n",
       "      <th>2</th>\n",
       "      <td>2</td>\n",
       "      <td>2</td>\n",
       "      <td>0</td>\n",
       "      <td>1</td>\n",
       "      <td>131 101 162 92</td>\n",
       "    </tr>\n",
       "    <tr>\n",
       "      <th>3</th>\n",
       "      <td>3</td>\n",
       "      <td>3</td>\n",
       "      <td>0</td>\n",
       "      <td>1</td>\n",
       "      <td>131 149 162 29</td>\n",
       "    </tr>\n",
       "    <tr>\n",
       "      <th>4</th>\n",
       "      <td>4</td>\n",
       "      <td>4</td>\n",
       "      <td>3</td>\n",
       "      <td>1</td>\n",
       "      <td>131 5 162 38</td>\n",
       "    </tr>\n",
       "    <tr>\n",
       "      <th>...</th>\n",
       "      <td>...</td>\n",
       "      <td>...</td>\n",
       "      <td>...</td>\n",
       "      <td>...</td>\n",
       "      <td>...</td>\n",
       "    </tr>\n",
       "    <tr>\n",
       "      <th>13518</th>\n",
       "      <td>13518</td>\n",
       "      <td>13518</td>\n",
       "      <td>3</td>\n",
       "      <td>5</td>\n",
       "      <td>14</td>\n",
       "    </tr>\n",
       "    <tr>\n",
       "      <th>13519</th>\n",
       "      <td>13519</td>\n",
       "      <td>13519</td>\n",
       "      <td>3</td>\n",
       "      <td>5</td>\n",
       "      <td>8</td>\n",
       "    </tr>\n",
       "    <tr>\n",
       "      <th>13520</th>\n",
       "      <td>13520</td>\n",
       "      <td>13520</td>\n",
       "      <td>2</td>\n",
       "      <td>5</td>\n",
       "      <td>73</td>\n",
       "    </tr>\n",
       "    <tr>\n",
       "      <th>13521</th>\n",
       "      <td>13521</td>\n",
       "      <td>13521</td>\n",
       "      <td>0</td>\n",
       "      <td>5</td>\n",
       "      <td>125</td>\n",
       "    </tr>\n",
       "    <tr>\n",
       "      <th>13522</th>\n",
       "      <td>13522</td>\n",
       "      <td>13522</td>\n",
       "      <td>3</td>\n",
       "      <td>5</td>\n",
       "      <td>55</td>\n",
       "    </tr>\n",
       "  </tbody>\n",
       "</table>\n",
       "<p>13523 rows × 5 columns</p>\n",
       "</div>"
      ],
      "text/plain": [
       "       question_id  bundle_id  correct_answer  part            tags\n",
       "0                0          0               0     1   51 131 162 38\n",
       "1                1          1               1     1       131 36 81\n",
       "2                2          2               0     1  131 101 162 92\n",
       "3                3          3               0     1  131 149 162 29\n",
       "4                4          4               3     1    131 5 162 38\n",
       "...            ...        ...             ...   ...             ...\n",
       "13518        13518      13518               3     5              14\n",
       "13519        13519      13519               3     5               8\n",
       "13520        13520      13520               2     5              73\n",
       "13521        13521      13521               0     5             125\n",
       "13522        13522      13522               3     5              55\n",
       "\n",
       "[13523 rows x 5 columns]"
      ]
     },
     "metadata": {},
     "output_type": "display_data"
    }
   ],
   "source": [
    "questions= pd.read_csv('questions.csv', sep =',')\n",
    "display(questions)"
   ]
  },
  {
   "cell_type": "code",
   "execution_count": 4,
   "id": "fdd486dd-552c-4e27-a4ee-5e0067b89b1c",
   "metadata": {},
   "outputs": [
    {
     "data": {
      "text/html": [
       "<div>\n",
       "<style scoped>\n",
       "    .dataframe tbody tr th:only-of-type {\n",
       "        vertical-align: middle;\n",
       "    }\n",
       "\n",
       "    .dataframe tbody tr th {\n",
       "        vertical-align: top;\n",
       "    }\n",
       "\n",
       "    .dataframe thead th {\n",
       "        text-align: right;\n",
       "    }\n",
       "</style>\n",
       "<table border=\"1\" class=\"dataframe\">\n",
       "  <thead>\n",
       "    <tr style=\"text-align: right;\">\n",
       "      <th></th>\n",
       "      <th>row_id</th>\n",
       "      <th>timestamp</th>\n",
       "      <th>user_id</th>\n",
       "      <th>content_id</th>\n",
       "      <th>content_type_id</th>\n",
       "      <th>task_container_id</th>\n",
       "      <th>user_answer</th>\n",
       "      <th>answered_correctly</th>\n",
       "      <th>prior_question_elapsed_time</th>\n",
       "      <th>prior_question_had_explanation</th>\n",
       "    </tr>\n",
       "  </thead>\n",
       "  <tbody>\n",
       "    <tr>\n",
       "      <th>0</th>\n",
       "      <td>0</td>\n",
       "      <td>0</td>\n",
       "      <td>115</td>\n",
       "      <td>5692</td>\n",
       "      <td>0</td>\n",
       "      <td>1</td>\n",
       "      <td>3</td>\n",
       "      <td>1</td>\n",
       "      <td>NaN</td>\n",
       "      <td>&lt;NA&gt;</td>\n",
       "    </tr>\n",
       "    <tr>\n",
       "      <th>1</th>\n",
       "      <td>1</td>\n",
       "      <td>56943</td>\n",
       "      <td>115</td>\n",
       "      <td>5716</td>\n",
       "      <td>0</td>\n",
       "      <td>2</td>\n",
       "      <td>2</td>\n",
       "      <td>1</td>\n",
       "      <td>37000.0</td>\n",
       "      <td>False</td>\n",
       "    </tr>\n",
       "    <tr>\n",
       "      <th>2</th>\n",
       "      <td>2</td>\n",
       "      <td>118363</td>\n",
       "      <td>115</td>\n",
       "      <td>128</td>\n",
       "      <td>0</td>\n",
       "      <td>0</td>\n",
       "      <td>0</td>\n",
       "      <td>1</td>\n",
       "      <td>55000.0</td>\n",
       "      <td>False</td>\n",
       "    </tr>\n",
       "    <tr>\n",
       "      <th>3</th>\n",
       "      <td>3</td>\n",
       "      <td>131167</td>\n",
       "      <td>115</td>\n",
       "      <td>7860</td>\n",
       "      <td>0</td>\n",
       "      <td>3</td>\n",
       "      <td>0</td>\n",
       "      <td>1</td>\n",
       "      <td>19000.0</td>\n",
       "      <td>False</td>\n",
       "    </tr>\n",
       "    <tr>\n",
       "      <th>4</th>\n",
       "      <td>4</td>\n",
       "      <td>137965</td>\n",
       "      <td>115</td>\n",
       "      <td>7922</td>\n",
       "      <td>0</td>\n",
       "      <td>4</td>\n",
       "      <td>1</td>\n",
       "      <td>1</td>\n",
       "      <td>11000.0</td>\n",
       "      <td>False</td>\n",
       "    </tr>\n",
       "    <tr>\n",
       "      <th>5</th>\n",
       "      <td>5</td>\n",
       "      <td>157063</td>\n",
       "      <td>115</td>\n",
       "      <td>156</td>\n",
       "      <td>0</td>\n",
       "      <td>5</td>\n",
       "      <td>2</td>\n",
       "      <td>1</td>\n",
       "      <td>5000.0</td>\n",
       "      <td>False</td>\n",
       "    </tr>\n",
       "    <tr>\n",
       "      <th>6</th>\n",
       "      <td>6</td>\n",
       "      <td>176092</td>\n",
       "      <td>115</td>\n",
       "      <td>51</td>\n",
       "      <td>0</td>\n",
       "      <td>6</td>\n",
       "      <td>0</td>\n",
       "      <td>1</td>\n",
       "      <td>17000.0</td>\n",
       "      <td>False</td>\n",
       "    </tr>\n",
       "    <tr>\n",
       "      <th>7</th>\n",
       "      <td>7</td>\n",
       "      <td>194190</td>\n",
       "      <td>115</td>\n",
       "      <td>50</td>\n",
       "      <td>0</td>\n",
       "      <td>7</td>\n",
       "      <td>3</td>\n",
       "      <td>1</td>\n",
       "      <td>17000.0</td>\n",
       "      <td>False</td>\n",
       "    </tr>\n",
       "    <tr>\n",
       "      <th>8</th>\n",
       "      <td>8</td>\n",
       "      <td>212463</td>\n",
       "      <td>115</td>\n",
       "      <td>7896</td>\n",
       "      <td>0</td>\n",
       "      <td>8</td>\n",
       "      <td>2</td>\n",
       "      <td>1</td>\n",
       "      <td>16000.0</td>\n",
       "      <td>False</td>\n",
       "    </tr>\n",
       "    <tr>\n",
       "      <th>9</th>\n",
       "      <td>9</td>\n",
       "      <td>230983</td>\n",
       "      <td>115</td>\n",
       "      <td>7863</td>\n",
       "      <td>0</td>\n",
       "      <td>9</td>\n",
       "      <td>0</td>\n",
       "      <td>1</td>\n",
       "      <td>16000.0</td>\n",
       "      <td>False</td>\n",
       "    </tr>\n",
       "  </tbody>\n",
       "</table>\n",
       "</div>"
      ],
      "text/plain": [
       "   row_id  timestamp  user_id  content_id  content_type_id  task_container_id  \\\n",
       "0       0          0      115        5692                0                  1   \n",
       "1       1      56943      115        5716                0                  2   \n",
       "2       2     118363      115         128                0                  0   \n",
       "3       3     131167      115        7860                0                  3   \n",
       "4       4     137965      115        7922                0                  4   \n",
       "5       5     157063      115         156                0                  5   \n",
       "6       6     176092      115          51                0                  6   \n",
       "7       7     194190      115          50                0                  7   \n",
       "8       8     212463      115        7896                0                  8   \n",
       "9       9     230983      115        7863                0                  9   \n",
       "\n",
       "   user_answer  answered_correctly  prior_question_elapsed_time  \\\n",
       "0            3                   1                          NaN   \n",
       "1            2                   1                      37000.0   \n",
       "2            0                   1                      55000.0   \n",
       "3            0                   1                      19000.0   \n",
       "4            1                   1                      11000.0   \n",
       "5            2                   1                       5000.0   \n",
       "6            0                   1                      17000.0   \n",
       "7            3                   1                      17000.0   \n",
       "8            2                   1                      16000.0   \n",
       "9            0                   1                      16000.0   \n",
       "\n",
       "   prior_question_had_explanation  \n",
       "0                            <NA>  \n",
       "1                           False  \n",
       "2                           False  \n",
       "3                           False  \n",
       "4                           False  \n",
       "5                           False  \n",
       "6                           False  \n",
       "7                           False  \n",
       "8                           False  \n",
       "9                           False  "
      ]
     },
     "metadata": {},
     "output_type": "display_data"
    }
   ],
   "source": [
    "train= pd.read_csv('train.zip', sep =',', dtype = {'row_id':'int32', 'user_id': 'int32', 'content_id': 'int16', \n",
    "                                        'content_type_id':'int8', 'task_container_id':'int16','user_answer':'int8',\n",
    "                            'answered_correctly':'int8', 'prior_question_elapsed_time':'float32','prior_question_had_explanation': 'boolean'})\n",
    "\n",
    "display(train.head(10))"
   ]
  },
  {
   "cell_type": "code",
   "execution_count": 5,
   "id": "dcc01cdf-ca43-43c5-8084-66a7b895e38b",
   "metadata": {},
   "outputs": [],
   "source": [
    "train_questions = train.copy()"
   ]
  },
  {
   "cell_type": "code",
   "execution_count": 6,
   "id": "26d75a41-4cb8-426c-848a-88e54beb5e94",
   "metadata": {},
   "outputs": [],
   "source": [
    "train_questions['question_id'] = 'NAN'"
   ]
  },
  {
   "cell_type": "code",
   "execution_count": 7,
   "id": "f405eaf2-1776-41b2-bdac-cbb4794a2921",
   "metadata": {},
   "outputs": [],
   "source": [
    "train_questions['question_id'] = train_questions[train_questions['content_type_id'] == 0]['content_id']"
   ]
  },
  {
   "cell_type": "code",
   "execution_count": 8,
   "id": "7281344c-c738-4ec0-b6d2-1ecd53a23fe4",
   "metadata": {},
   "outputs": [],
   "source": [
    "train_questions.drop(train_questions[train_questions['content_type_id'] == 1].index, inplace = True)"
   ]
  },
  {
   "cell_type": "code",
   "execution_count": 9,
   "id": "79a2b9b8-6adb-4127-aeba-0ea45e80c5f4",
   "metadata": {},
   "outputs": [],
   "source": [
    "# Cлияние таблиц по ключу \"question_id\"\n",
    "train_questions_new = pd.merge(train_questions, questions, left_on=\"question_id\", right_index=True, how=\"left\", sort=False)"
   ]
  },
  {
   "cell_type": "code",
   "execution_count": 10,
   "id": "c5751add-9196-49e6-ab00-7e5ac89c0de6",
   "metadata": {},
   "outputs": [],
   "source": [
    "# Удаление ненужных признаков:\n",
    "train_questions_new.drop(['row_id','content_type_id', 'question_id_x','question_id_y', 'correct_answer'], axis=1, inplace = True)"
   ]
  },
  {
   "cell_type": "code",
   "execution_count": 11,
   "id": "520847fb-72cf-4a32-b31b-599df1db340c",
   "metadata": {},
   "outputs": [
    {
     "data": {
      "text/html": [
       "<div>\n",
       "<style scoped>\n",
       "    .dataframe tbody tr th:only-of-type {\n",
       "        vertical-align: middle;\n",
       "    }\n",
       "\n",
       "    .dataframe tbody tr th {\n",
       "        vertical-align: top;\n",
       "    }\n",
       "\n",
       "    .dataframe thead th {\n",
       "        text-align: right;\n",
       "    }\n",
       "</style>\n",
       "<table border=\"1\" class=\"dataframe\">\n",
       "  <thead>\n",
       "    <tr style=\"text-align: right;\">\n",
       "      <th></th>\n",
       "      <th>timestamp</th>\n",
       "      <th>user_id</th>\n",
       "      <th>content_id</th>\n",
       "      <th>task_container_id</th>\n",
       "      <th>user_answer</th>\n",
       "      <th>answered_correctly</th>\n",
       "      <th>prior_question_elapsed_time</th>\n",
       "      <th>prior_question_had_explanation</th>\n",
       "      <th>bundle_id</th>\n",
       "      <th>part</th>\n",
       "      <th>tags</th>\n",
       "    </tr>\n",
       "  </thead>\n",
       "  <tbody>\n",
       "    <tr>\n",
       "      <th>0</th>\n",
       "      <td>0</td>\n",
       "      <td>115</td>\n",
       "      <td>5692</td>\n",
       "      <td>1</td>\n",
       "      <td>3</td>\n",
       "      <td>1</td>\n",
       "      <td>NaN</td>\n",
       "      <td>&lt;NA&gt;</td>\n",
       "      <td>5692</td>\n",
       "      <td>5</td>\n",
       "      <td>151</td>\n",
       "    </tr>\n",
       "    <tr>\n",
       "      <th>1</th>\n",
       "      <td>56943</td>\n",
       "      <td>115</td>\n",
       "      <td>5716</td>\n",
       "      <td>2</td>\n",
       "      <td>2</td>\n",
       "      <td>1</td>\n",
       "      <td>37000.0</td>\n",
       "      <td>False</td>\n",
       "      <td>5716</td>\n",
       "      <td>5</td>\n",
       "      <td>168</td>\n",
       "    </tr>\n",
       "    <tr>\n",
       "      <th>2</th>\n",
       "      <td>118363</td>\n",
       "      <td>115</td>\n",
       "      <td>128</td>\n",
       "      <td>0</td>\n",
       "      <td>0</td>\n",
       "      <td>1</td>\n",
       "      <td>55000.0</td>\n",
       "      <td>False</td>\n",
       "      <td>128</td>\n",
       "      <td>1</td>\n",
       "      <td>131 149 92</td>\n",
       "    </tr>\n",
       "    <tr>\n",
       "      <th>3</th>\n",
       "      <td>131167</td>\n",
       "      <td>115</td>\n",
       "      <td>7860</td>\n",
       "      <td>3</td>\n",
       "      <td>0</td>\n",
       "      <td>1</td>\n",
       "      <td>19000.0</td>\n",
       "      <td>False</td>\n",
       "      <td>7860</td>\n",
       "      <td>1</td>\n",
       "      <td>131 104 81</td>\n",
       "    </tr>\n",
       "    <tr>\n",
       "      <th>4</th>\n",
       "      <td>137965</td>\n",
       "      <td>115</td>\n",
       "      <td>7922</td>\n",
       "      <td>4</td>\n",
       "      <td>1</td>\n",
       "      <td>1</td>\n",
       "      <td>11000.0</td>\n",
       "      <td>False</td>\n",
       "      <td>7922</td>\n",
       "      <td>1</td>\n",
       "      <td>131 149 92</td>\n",
       "    </tr>\n",
       "    <tr>\n",
       "      <th>5</th>\n",
       "      <td>157063</td>\n",
       "      <td>115</td>\n",
       "      <td>156</td>\n",
       "      <td>5</td>\n",
       "      <td>2</td>\n",
       "      <td>1</td>\n",
       "      <td>5000.0</td>\n",
       "      <td>False</td>\n",
       "      <td>156</td>\n",
       "      <td>1</td>\n",
       "      <td>131 101 162 38</td>\n",
       "    </tr>\n",
       "    <tr>\n",
       "      <th>6</th>\n",
       "      <td>176092</td>\n",
       "      <td>115</td>\n",
       "      <td>51</td>\n",
       "      <td>6</td>\n",
       "      <td>0</td>\n",
       "      <td>1</td>\n",
       "      <td>17000.0</td>\n",
       "      <td>False</td>\n",
       "      <td>51</td>\n",
       "      <td>1</td>\n",
       "      <td>131 187 81</td>\n",
       "    </tr>\n",
       "    <tr>\n",
       "      <th>7</th>\n",
       "      <td>194190</td>\n",
       "      <td>115</td>\n",
       "      <td>50</td>\n",
       "      <td>7</td>\n",
       "      <td>3</td>\n",
       "      <td>1</td>\n",
       "      <td>17000.0</td>\n",
       "      <td>False</td>\n",
       "      <td>50</td>\n",
       "      <td>1</td>\n",
       "      <td>131 101 38</td>\n",
       "    </tr>\n",
       "    <tr>\n",
       "      <th>8</th>\n",
       "      <td>212463</td>\n",
       "      <td>115</td>\n",
       "      <td>7896</td>\n",
       "      <td>8</td>\n",
       "      <td>2</td>\n",
       "      <td>1</td>\n",
       "      <td>16000.0</td>\n",
       "      <td>False</td>\n",
       "      <td>7896</td>\n",
       "      <td>1</td>\n",
       "      <td>131 104 162 81</td>\n",
       "    </tr>\n",
       "    <tr>\n",
       "      <th>9</th>\n",
       "      <td>230983</td>\n",
       "      <td>115</td>\n",
       "      <td>7863</td>\n",
       "      <td>9</td>\n",
       "      <td>0</td>\n",
       "      <td>1</td>\n",
       "      <td>16000.0</td>\n",
       "      <td>False</td>\n",
       "      <td>7863</td>\n",
       "      <td>1</td>\n",
       "      <td>131 68 92</td>\n",
       "    </tr>\n",
       "  </tbody>\n",
       "</table>\n",
       "</div>"
      ],
      "text/plain": [
       "   timestamp  user_id  content_id  task_container_id  user_answer  \\\n",
       "0          0      115        5692                  1            3   \n",
       "1      56943      115        5716                  2            2   \n",
       "2     118363      115         128                  0            0   \n",
       "3     131167      115        7860                  3            0   \n",
       "4     137965      115        7922                  4            1   \n",
       "5     157063      115         156                  5            2   \n",
       "6     176092      115          51                  6            0   \n",
       "7     194190      115          50                  7            3   \n",
       "8     212463      115        7896                  8            2   \n",
       "9     230983      115        7863                  9            0   \n",
       "\n",
       "   answered_correctly  prior_question_elapsed_time  \\\n",
       "0                   1                          NaN   \n",
       "1                   1                      37000.0   \n",
       "2                   1                      55000.0   \n",
       "3                   1                      19000.0   \n",
       "4                   1                      11000.0   \n",
       "5                   1                       5000.0   \n",
       "6                   1                      17000.0   \n",
       "7                   1                      17000.0   \n",
       "8                   1                      16000.0   \n",
       "9                   1                      16000.0   \n",
       "\n",
       "   prior_question_had_explanation  bundle_id  part            tags  \n",
       "0                            <NA>       5692     5             151  \n",
       "1                           False       5716     5             168  \n",
       "2                           False        128     1      131 149 92  \n",
       "3                           False       7860     1      131 104 81  \n",
       "4                           False       7922     1      131 149 92  \n",
       "5                           False        156     1  131 101 162 38  \n",
       "6                           False         51     1      131 187 81  \n",
       "7                           False         50     1      131 101 38  \n",
       "8                           False       7896     1  131 104 162 81  \n",
       "9                           False       7863     1       131 68 92  "
      ]
     },
     "metadata": {},
     "output_type": "display_data"
    }
   ],
   "source": [
    "display(train_questions_new.head(10))"
   ]
  },
  {
   "cell_type": "code",
   "execution_count": 12,
   "id": "a91df7e2-f098-43ee-bbfd-f5675b9880e4",
   "metadata": {},
   "outputs": [],
   "source": [
    "# Конвертация базы данных в csv для освобождения оперативной памяти\n",
    "train_questions_new.to_csv('train_questions.csv', index = False, sep = ',') # Конвертация базы данных в файл csv."
   ]
  },
  {
   "cell_type": "code",
   "execution_count": 13,
   "id": "8ca44837-9885-4bf3-9faa-a9ff296556b5",
   "metadata": {},
   "outputs": [],
   "source": [
    "del train_questions"
   ]
  },
  {
   "cell_type": "code",
   "execution_count": 14,
   "id": "5fc33701-80ba-44c2-b883-1156d0b89a09",
   "metadata": {},
   "outputs": [],
   "source": [
    "del train_questions_new"
   ]
  },
  {
   "cell_type": "code",
   "execution_count": null,
   "id": "bcb876ee-e4e3-4df2-a5ac-c7c17765d619",
   "metadata": {},
   "outputs": [],
   "source": [
    "# 2. Cоздание общей таблицы признаков для train и lectures"
   ]
  },
  {
   "cell_type": "code",
   "execution_count": 15,
   "id": "d7e944f9-66c1-4814-99ff-2cf47b855b4f",
   "metadata": {},
   "outputs": [
    {
     "data": {
      "text/html": [
       "<div>\n",
       "<style scoped>\n",
       "    .dataframe tbody tr th:only-of-type {\n",
       "        vertical-align: middle;\n",
       "    }\n",
       "\n",
       "    .dataframe tbody tr th {\n",
       "        vertical-align: top;\n",
       "    }\n",
       "\n",
       "    .dataframe thead th {\n",
       "        text-align: right;\n",
       "    }\n",
       "</style>\n",
       "<table border=\"1\" class=\"dataframe\">\n",
       "  <thead>\n",
       "    <tr style=\"text-align: right;\">\n",
       "      <th></th>\n",
       "      <th>lecture_id</th>\n",
       "      <th>tag</th>\n",
       "      <th>part</th>\n",
       "      <th>type_of</th>\n",
       "    </tr>\n",
       "  </thead>\n",
       "  <tbody>\n",
       "    <tr>\n",
       "      <th>0</th>\n",
       "      <td>89</td>\n",
       "      <td>159</td>\n",
       "      <td>5</td>\n",
       "      <td>concept</td>\n",
       "    </tr>\n",
       "    <tr>\n",
       "      <th>1</th>\n",
       "      <td>100</td>\n",
       "      <td>70</td>\n",
       "      <td>1</td>\n",
       "      <td>concept</td>\n",
       "    </tr>\n",
       "    <tr>\n",
       "      <th>2</th>\n",
       "      <td>185</td>\n",
       "      <td>45</td>\n",
       "      <td>6</td>\n",
       "      <td>concept</td>\n",
       "    </tr>\n",
       "    <tr>\n",
       "      <th>3</th>\n",
       "      <td>192</td>\n",
       "      <td>79</td>\n",
       "      <td>5</td>\n",
       "      <td>solving question</td>\n",
       "    </tr>\n",
       "    <tr>\n",
       "      <th>4</th>\n",
       "      <td>317</td>\n",
       "      <td>156</td>\n",
       "      <td>5</td>\n",
       "      <td>solving question</td>\n",
       "    </tr>\n",
       "    <tr>\n",
       "      <th>...</th>\n",
       "      <td>...</td>\n",
       "      <td>...</td>\n",
       "      <td>...</td>\n",
       "      <td>...</td>\n",
       "    </tr>\n",
       "    <tr>\n",
       "      <th>413</th>\n",
       "      <td>32535</td>\n",
       "      <td>8</td>\n",
       "      <td>5</td>\n",
       "      <td>solving question</td>\n",
       "    </tr>\n",
       "    <tr>\n",
       "      <th>414</th>\n",
       "      <td>32570</td>\n",
       "      <td>113</td>\n",
       "      <td>3</td>\n",
       "      <td>solving question</td>\n",
       "    </tr>\n",
       "    <tr>\n",
       "      <th>415</th>\n",
       "      <td>32604</td>\n",
       "      <td>24</td>\n",
       "      <td>6</td>\n",
       "      <td>concept</td>\n",
       "    </tr>\n",
       "    <tr>\n",
       "      <th>416</th>\n",
       "      <td>32625</td>\n",
       "      <td>142</td>\n",
       "      <td>2</td>\n",
       "      <td>concept</td>\n",
       "    </tr>\n",
       "    <tr>\n",
       "      <th>417</th>\n",
       "      <td>32736</td>\n",
       "      <td>82</td>\n",
       "      <td>3</td>\n",
       "      <td>concept</td>\n",
       "    </tr>\n",
       "  </tbody>\n",
       "</table>\n",
       "<p>418 rows × 4 columns</p>\n",
       "</div>"
      ],
      "text/plain": [
       "     lecture_id  tag  part           type_of\n",
       "0            89  159     5           concept\n",
       "1           100   70     1           concept\n",
       "2           185   45     6           concept\n",
       "3           192   79     5  solving question\n",
       "4           317  156     5  solving question\n",
       "..          ...  ...   ...               ...\n",
       "413       32535    8     5  solving question\n",
       "414       32570  113     3  solving question\n",
       "415       32604   24     6           concept\n",
       "416       32625  142     2           concept\n",
       "417       32736   82     3           concept\n",
       "\n",
       "[418 rows x 4 columns]"
      ]
     },
     "metadata": {},
     "output_type": "display_data"
    }
   ],
   "source": [
    "lectures= pd.read_csv('lectures.csv', sep =',')\n",
    "display(lectures)"
   ]
  },
  {
   "cell_type": "code",
   "execution_count": 16,
   "id": "4d1a7b7b-6d7b-4528-b9c2-fe47f2bc0861",
   "metadata": {},
   "outputs": [],
   "source": [
    "train_lectures = train.copy()"
   ]
  },
  {
   "cell_type": "code",
   "execution_count": 17,
   "id": "7e04a0f9-a6b7-435c-8f1c-4dad1ed07028",
   "metadata": {},
   "outputs": [],
   "source": [
    "del train"
   ]
  },
  {
   "cell_type": "code",
   "execution_count": 18,
   "id": "98e7464f-8342-4227-90e6-46ecabb2316f",
   "metadata": {
    "slideshow": {
     "slide_type": "slide"
    },
    "tags": []
   },
   "outputs": [],
   "source": [
    "train_lectures['lecture_id'] = 'NAN'"
   ]
  },
  {
   "cell_type": "code",
   "execution_count": 19,
   "id": "2be6615a-386a-45f0-9c3e-88a144b574e9",
   "metadata": {},
   "outputs": [],
   "source": [
    "train_lectures['lecture_id'] = train_lectures[train_lectures['content_type_id'] == 1]['content_id']"
   ]
  },
  {
   "cell_type": "code",
   "execution_count": 20,
   "id": "988fa5e5-1412-4a4b-83d6-0904e423aff7",
   "metadata": {},
   "outputs": [],
   "source": [
    "train_lectures.drop(train_lectures[train_lectures['content_type_id'] == 0].index, inplace = True)"
   ]
  },
  {
   "cell_type": "code",
   "execution_count": 24,
   "id": "e8c21f22-81a6-4691-8da5-e005eff6b39e",
   "metadata": {
    "tags": []
   },
   "outputs": [],
   "source": [
    "# Cлияние таблиц по ключу \"lecture_id\"\n",
    "train_lectures_new = pd.merge(train_lectures, lectures, left_on=\"lecture_id\", right_on=\"lecture_id\", sort=False)"
   ]
  },
  {
   "cell_type": "code",
   "execution_count": 25,
   "id": "58ecbca8-58b2-442b-9026-a01e02f9de2b",
   "metadata": {},
   "outputs": [],
   "source": [
    "# Удаление ненужных признаков\n",
    "train_lectures_new.drop(['row_id','content_type_id', 'user_answer', 'answered_correctly', 'lecture_id', 'prior_question_had_explanation', 'prior_question_elapsed_time'], axis=1, inplace = True)"
   ]
  },
  {
   "cell_type": "code",
   "execution_count": 26,
   "id": "645c83ea-d19c-4123-a28c-ac044591ef56",
   "metadata": {},
   "outputs": [
    {
     "data": {
      "text/html": [
       "<div>\n",
       "<style scoped>\n",
       "    .dataframe tbody tr th:only-of-type {\n",
       "        vertical-align: middle;\n",
       "    }\n",
       "\n",
       "    .dataframe tbody tr th {\n",
       "        vertical-align: top;\n",
       "    }\n",
       "\n",
       "    .dataframe thead th {\n",
       "        text-align: right;\n",
       "    }\n",
       "</style>\n",
       "<table border=\"1\" class=\"dataframe\">\n",
       "  <thead>\n",
       "    <tr style=\"text-align: right;\">\n",
       "      <th></th>\n",
       "      <th>timestamp</th>\n",
       "      <th>user_id</th>\n",
       "      <th>content_id</th>\n",
       "      <th>task_container_id</th>\n",
       "      <th>tag</th>\n",
       "      <th>part</th>\n",
       "      <th>type_of</th>\n",
       "    </tr>\n",
       "  </thead>\n",
       "  <tbody>\n",
       "    <tr>\n",
       "      <th>0</th>\n",
       "      <td>653762</td>\n",
       "      <td>2746</td>\n",
       "      <td>6808</td>\n",
       "      <td>14</td>\n",
       "      <td>129</td>\n",
       "      <td>2</td>\n",
       "      <td>intention</td>\n",
       "    </tr>\n",
       "    <tr>\n",
       "      <th>1</th>\n",
       "      <td>1623661788</td>\n",
       "      <td>24418</td>\n",
       "      <td>6808</td>\n",
       "      <td>121</td>\n",
       "      <td>129</td>\n",
       "      <td>2</td>\n",
       "      <td>intention</td>\n",
       "    </tr>\n",
       "    <tr>\n",
       "      <th>2</th>\n",
       "      <td>600004996</td>\n",
       "      <td>91216</td>\n",
       "      <td>6808</td>\n",
       "      <td>312</td>\n",
       "      <td>129</td>\n",
       "      <td>2</td>\n",
       "      <td>intention</td>\n",
       "    </tr>\n",
       "    <tr>\n",
       "      <th>3</th>\n",
       "      <td>2461208170</td>\n",
       "      <td>138650</td>\n",
       "      <td>6808</td>\n",
       "      <td>182</td>\n",
       "      <td>129</td>\n",
       "      <td>2</td>\n",
       "      <td>intention</td>\n",
       "    </tr>\n",
       "    <tr>\n",
       "      <th>4</th>\n",
       "      <td>10318788851</td>\n",
       "      <td>166728</td>\n",
       "      <td>6808</td>\n",
       "      <td>331</td>\n",
       "      <td>129</td>\n",
       "      <td>2</td>\n",
       "      <td>intention</td>\n",
       "    </tr>\n",
       "    <tr>\n",
       "      <th>...</th>\n",
       "      <td>...</td>\n",
       "      <td>...</td>\n",
       "      <td>...</td>\n",
       "      <td>...</td>\n",
       "      <td>...</td>\n",
       "      <td>...</td>\n",
       "      <td>...</td>\n",
       "    </tr>\n",
       "    <tr>\n",
       "      <th>1959027</th>\n",
       "      <td>14026750449</td>\n",
       "      <td>1456724937</td>\n",
       "      <td>23239</td>\n",
       "      <td>5439</td>\n",
       "      <td>18</td>\n",
       "      <td>7</td>\n",
       "      <td>concept</td>\n",
       "    </tr>\n",
       "    <tr>\n",
       "      <th>1959028</th>\n",
       "      <td>1760693247</td>\n",
       "      <td>2082225870</td>\n",
       "      <td>23239</td>\n",
       "      <td>240</td>\n",
       "      <td>18</td>\n",
       "      <td>7</td>\n",
       "      <td>concept</td>\n",
       "    </tr>\n",
       "    <tr>\n",
       "      <th>1959029</th>\n",
       "      <td>6215530535</td>\n",
       "      <td>1536722837</td>\n",
       "      <td>18903</td>\n",
       "      <td>4167</td>\n",
       "      <td>28</td>\n",
       "      <td>6</td>\n",
       "      <td>concept</td>\n",
       "    </tr>\n",
       "    <tr>\n",
       "      <th>1959030</th>\n",
       "      <td>34201989989</td>\n",
       "      <td>1828007622</td>\n",
       "      <td>18903</td>\n",
       "      <td>7574</td>\n",
       "      <td>28</td>\n",
       "      <td>6</td>\n",
       "      <td>concept</td>\n",
       "    </tr>\n",
       "    <tr>\n",
       "      <th>1959031</th>\n",
       "      <td>19708998613</td>\n",
       "      <td>1660941992</td>\n",
       "      <td>14429</td>\n",
       "      <td>6026</td>\n",
       "      <td>25</td>\n",
       "      <td>6</td>\n",
       "      <td>solving question</td>\n",
       "    </tr>\n",
       "  </tbody>\n",
       "</table>\n",
       "<p>1959032 rows × 7 columns</p>\n",
       "</div>"
      ],
      "text/plain": [
       "           timestamp     user_id  content_id  task_container_id  tag  part  \\\n",
       "0             653762        2746        6808                 14  129     2   \n",
       "1         1623661788       24418        6808                121  129     2   \n",
       "2          600004996       91216        6808                312  129     2   \n",
       "3         2461208170      138650        6808                182  129     2   \n",
       "4        10318788851      166728        6808                331  129     2   \n",
       "...              ...         ...         ...                ...  ...   ...   \n",
       "1959027  14026750449  1456724937       23239               5439   18     7   \n",
       "1959028   1760693247  2082225870       23239                240   18     7   \n",
       "1959029   6215530535  1536722837       18903               4167   28     6   \n",
       "1959030  34201989989  1828007622       18903               7574   28     6   \n",
       "1959031  19708998613  1660941992       14429               6026   25     6   \n",
       "\n",
       "                  type_of  \n",
       "0               intention  \n",
       "1               intention  \n",
       "2               intention  \n",
       "3               intention  \n",
       "4               intention  \n",
       "...                   ...  \n",
       "1959027           concept  \n",
       "1959028           concept  \n",
       "1959029           concept  \n",
       "1959030           concept  \n",
       "1959031  solving question  \n",
       "\n",
       "[1959032 rows x 7 columns]"
      ]
     },
     "execution_count": 26,
     "metadata": {},
     "output_type": "execute_result"
    }
   ],
   "source": [
    "train_lectures_new"
   ]
  },
  {
   "cell_type": "code",
   "execution_count": 27,
   "id": "8cfb7536-9618-458d-89d5-e906d26dcda4",
   "metadata": {},
   "outputs": [],
   "source": [
    "train_lectures_new.to_csv('train_lectures.csv', index = False, sep = ',') # Конвертация базы данных в файл csv."
   ]
  },
  {
   "cell_type": "code",
   "execution_count": 28,
   "id": "4edf9602-856b-4577-b00b-0b59a1cabfe7",
   "metadata": {},
   "outputs": [],
   "source": [
    "del train_lectures"
   ]
  },
  {
   "cell_type": "code",
   "execution_count": 29,
   "id": "451cc7ee-558e-4fe9-bccb-2a398b6d193d",
   "metadata": {},
   "outputs": [],
   "source": [
    "del train_lectures_new"
   ]
  },
  {
   "cell_type": "code",
   "execution_count": 30,
   "id": "3eead0f8-dd9e-4786-858a-a5e66272602f",
   "metadata": {},
   "outputs": [],
   "source": [
    "# II. АНАЛИЗ ФАЙЛОВ"
   ]
  },
  {
   "cell_type": "code",
   "execution_count": 31,
   "id": "90c44d17-ba76-4120-820f-bebe541f8860",
   "metadata": {},
   "outputs": [],
   "source": [
    "# 1. АНАЛИЗ ДАННЫХ В ТАБЛИЦЕ train_questions:"
   ]
  },
  {
   "cell_type": "code",
   "execution_count": 16,
   "id": "6c6fcfcc-ccdd-4cc2-8d76-a7603ad84b78",
   "metadata": {},
   "outputs": [],
   "source": [
    "# Загрузка файла c данными:\n",
    "train_questions= pd.read_csv('train_questions.csv', sep =',', dtype = {'user_id': 'int32', 'content_id': 'int16', \n",
    "                                        'task_container_id':'int16','user_answer':'int8',\n",
    "                            'answered_correctly':'int8', 'prior_question_elapsed_time':'float32','prior_question_had_explanation': 'boolean',\n",
    "                                                                   'bundle_id': 'int32', 'part':'int8'})"
   ]
  },
  {
   "cell_type": "code",
   "execution_count": 17,
   "id": "d5059818-c779-4085-b152-40ac2d577b4c",
   "metadata": {},
   "outputs": [
    {
     "data": {
      "text/html": [
       "<div>\n",
       "<style scoped>\n",
       "    .dataframe tbody tr th:only-of-type {\n",
       "        vertical-align: middle;\n",
       "    }\n",
       "\n",
       "    .dataframe tbody tr th {\n",
       "        vertical-align: top;\n",
       "    }\n",
       "\n",
       "    .dataframe thead th {\n",
       "        text-align: right;\n",
       "    }\n",
       "</style>\n",
       "<table border=\"1\" class=\"dataframe\">\n",
       "  <thead>\n",
       "    <tr style=\"text-align: right;\">\n",
       "      <th></th>\n",
       "      <th>timestamp</th>\n",
       "      <th>user_id</th>\n",
       "      <th>content_id</th>\n",
       "      <th>task_container_id</th>\n",
       "      <th>user_answer</th>\n",
       "      <th>answered_correctly</th>\n",
       "      <th>prior_question_elapsed_time</th>\n",
       "      <th>prior_question_had_explanation</th>\n",
       "      <th>bundle_id</th>\n",
       "      <th>part</th>\n",
       "      <th>tags</th>\n",
       "    </tr>\n",
       "  </thead>\n",
       "  <tbody>\n",
       "    <tr>\n",
       "      <th>0</th>\n",
       "      <td>0</td>\n",
       "      <td>115</td>\n",
       "      <td>5692</td>\n",
       "      <td>1</td>\n",
       "      <td>3</td>\n",
       "      <td>1</td>\n",
       "      <td>NaN</td>\n",
       "      <td>&lt;NA&gt;</td>\n",
       "      <td>5692</td>\n",
       "      <td>5</td>\n",
       "      <td>151</td>\n",
       "    </tr>\n",
       "    <tr>\n",
       "      <th>1</th>\n",
       "      <td>56943</td>\n",
       "      <td>115</td>\n",
       "      <td>5716</td>\n",
       "      <td>2</td>\n",
       "      <td>2</td>\n",
       "      <td>1</td>\n",
       "      <td>37000.0</td>\n",
       "      <td>False</td>\n",
       "      <td>5716</td>\n",
       "      <td>5</td>\n",
       "      <td>168</td>\n",
       "    </tr>\n",
       "    <tr>\n",
       "      <th>2</th>\n",
       "      <td>118363</td>\n",
       "      <td>115</td>\n",
       "      <td>128</td>\n",
       "      <td>0</td>\n",
       "      <td>0</td>\n",
       "      <td>1</td>\n",
       "      <td>55000.0</td>\n",
       "      <td>False</td>\n",
       "      <td>128</td>\n",
       "      <td>1</td>\n",
       "      <td>131 149 92</td>\n",
       "    </tr>\n",
       "    <tr>\n",
       "      <th>3</th>\n",
       "      <td>131167</td>\n",
       "      <td>115</td>\n",
       "      <td>7860</td>\n",
       "      <td>3</td>\n",
       "      <td>0</td>\n",
       "      <td>1</td>\n",
       "      <td>19000.0</td>\n",
       "      <td>False</td>\n",
       "      <td>7860</td>\n",
       "      <td>1</td>\n",
       "      <td>131 104 81</td>\n",
       "    </tr>\n",
       "    <tr>\n",
       "      <th>4</th>\n",
       "      <td>137965</td>\n",
       "      <td>115</td>\n",
       "      <td>7922</td>\n",
       "      <td>4</td>\n",
       "      <td>1</td>\n",
       "      <td>1</td>\n",
       "      <td>11000.0</td>\n",
       "      <td>False</td>\n",
       "      <td>7922</td>\n",
       "      <td>1</td>\n",
       "      <td>131 149 92</td>\n",
       "    </tr>\n",
       "    <tr>\n",
       "      <th>...</th>\n",
       "      <td>...</td>\n",
       "      <td>...</td>\n",
       "      <td>...</td>\n",
       "      <td>...</td>\n",
       "      <td>...</td>\n",
       "      <td>...</td>\n",
       "      <td>...</td>\n",
       "      <td>...</td>\n",
       "      <td>...</td>\n",
       "      <td>...</td>\n",
       "      <td>...</td>\n",
       "    </tr>\n",
       "    <tr>\n",
       "      <th>99271295</th>\n",
       "      <td>428564420</td>\n",
       "      <td>2147482888</td>\n",
       "      <td>3586</td>\n",
       "      <td>22</td>\n",
       "      <td>0</td>\n",
       "      <td>1</td>\n",
       "      <td>18000.0</td>\n",
       "      <td>True</td>\n",
       "      <td>3586</td>\n",
       "      <td>5</td>\n",
       "      <td>8</td>\n",
       "    </tr>\n",
       "    <tr>\n",
       "      <th>99271296</th>\n",
       "      <td>428585000</td>\n",
       "      <td>2147482888</td>\n",
       "      <td>6341</td>\n",
       "      <td>23</td>\n",
       "      <td>3</td>\n",
       "      <td>1</td>\n",
       "      <td>14000.0</td>\n",
       "      <td>True</td>\n",
       "      <td>6341</td>\n",
       "      <td>5</td>\n",
       "      <td>60</td>\n",
       "    </tr>\n",
       "    <tr>\n",
       "      <th>99271297</th>\n",
       "      <td>428613475</td>\n",
       "      <td>2147482888</td>\n",
       "      <td>4212</td>\n",
       "      <td>24</td>\n",
       "      <td>3</td>\n",
       "      <td>1</td>\n",
       "      <td>14000.0</td>\n",
       "      <td>True</td>\n",
       "      <td>4212</td>\n",
       "      <td>5</td>\n",
       "      <td>95</td>\n",
       "    </tr>\n",
       "    <tr>\n",
       "      <th>99271298</th>\n",
       "      <td>428649406</td>\n",
       "      <td>2147482888</td>\n",
       "      <td>6343</td>\n",
       "      <td>25</td>\n",
       "      <td>1</td>\n",
       "      <td>0</td>\n",
       "      <td>22000.0</td>\n",
       "      <td>True</td>\n",
       "      <td>6343</td>\n",
       "      <td>5</td>\n",
       "      <td>60</td>\n",
       "    </tr>\n",
       "    <tr>\n",
       "      <th>99271299</th>\n",
       "      <td>428692118</td>\n",
       "      <td>2147482888</td>\n",
       "      <td>7995</td>\n",
       "      <td>26</td>\n",
       "      <td>3</td>\n",
       "      <td>1</td>\n",
       "      <td>29000.0</td>\n",
       "      <td>True</td>\n",
       "      <td>7995</td>\n",
       "      <td>5</td>\n",
       "      <td>80</td>\n",
       "    </tr>\n",
       "  </tbody>\n",
       "</table>\n",
       "<p>99271300 rows × 11 columns</p>\n",
       "</div>"
      ],
      "text/plain": [
       "          timestamp     user_id  content_id  task_container_id  user_answer  \\\n",
       "0                 0         115        5692                  1            3   \n",
       "1             56943         115        5716                  2            2   \n",
       "2            118363         115         128                  0            0   \n",
       "3            131167         115        7860                  3            0   \n",
       "4            137965         115        7922                  4            1   \n",
       "...             ...         ...         ...                ...          ...   \n",
       "99271295  428564420  2147482888        3586                 22            0   \n",
       "99271296  428585000  2147482888        6341                 23            3   \n",
       "99271297  428613475  2147482888        4212                 24            3   \n",
       "99271298  428649406  2147482888        6343                 25            1   \n",
       "99271299  428692118  2147482888        7995                 26            3   \n",
       "\n",
       "          answered_correctly  prior_question_elapsed_time  \\\n",
       "0                          1                          NaN   \n",
       "1                          1                      37000.0   \n",
       "2                          1                      55000.0   \n",
       "3                          1                      19000.0   \n",
       "4                          1                      11000.0   \n",
       "...                      ...                          ...   \n",
       "99271295                   1                      18000.0   \n",
       "99271296                   1                      14000.0   \n",
       "99271297                   1                      14000.0   \n",
       "99271298                   0                      22000.0   \n",
       "99271299                   1                      29000.0   \n",
       "\n",
       "          prior_question_had_explanation  bundle_id  part        tags  \n",
       "0                                   <NA>       5692     5         151  \n",
       "1                                  False       5716     5         168  \n",
       "2                                  False        128     1  131 149 92  \n",
       "3                                  False       7860     1  131 104 81  \n",
       "4                                  False       7922     1  131 149 92  \n",
       "...                                  ...        ...   ...         ...  \n",
       "99271295                            True       3586     5           8  \n",
       "99271296                            True       6341     5          60  \n",
       "99271297                            True       4212     5          95  \n",
       "99271298                            True       6343     5          60  \n",
       "99271299                            True       7995     5          80  \n",
       "\n",
       "[99271300 rows x 11 columns]"
      ]
     },
     "metadata": {},
     "output_type": "display_data"
    }
   ],
   "source": [
    "display(train_questions)"
   ]
  },
  {
   "cell_type": "code",
   "execution_count": 18,
   "id": "70ba697b-6765-4c41-9752-baf5c8f336b8",
   "metadata": {},
   "outputs": [
    {
     "name": "stdout",
     "output_type": "stream",
     "text": [
      "<class 'pandas.core.frame.DataFrame'>\n",
      "RangeIndex: 99271300 entries, 0 to 99271299\n",
      "Data columns (total 11 columns):\n",
      " #   Column                          Dtype  \n",
      "---  ------                          -----  \n",
      " 0   timestamp                       int64  \n",
      " 1   user_id                         int32  \n",
      " 2   content_id                      int16  \n",
      " 3   task_container_id               int16  \n",
      " 4   user_answer                     int8   \n",
      " 5   answered_correctly              int8   \n",
      " 6   prior_question_elapsed_time     float32\n",
      " 7   prior_question_had_explanation  boolean\n",
      " 8   bundle_id                       int32  \n",
      " 9   part                            int8   \n",
      " 10  tags                            object \n",
      "dtypes: boolean(1), float32(1), int16(2), int32(2), int64(1), int8(3), object(1)\n",
      "memory usage: 3.4+ GB\n"
     ]
    }
   ],
   "source": [
    "train_questions.info()"
   ]
  },
  {
   "cell_type": "code",
   "execution_count": 5,
   "id": "cfc84781-d55c-463d-a869-353aec5dc8d9",
   "metadata": {},
   "outputs": [],
   "source": [
    "# В файле 99271300 строк и 11 колонок, из которых 8 имеют тип целочисленный тип данных,\n",
    "# одна - тип переменных с плавающей точкой float, одна - тип boolean и одна - тип object. \n",
    "# Объем используемой памяти - 3.4 Гб."
   ]
  },
  {
   "cell_type": "code",
   "execution_count": 5,
   "id": "a521e9fb-9432-4345-b080-3d401d014a73",
   "metadata": {},
   "outputs": [
    {
     "data": {
      "text/html": [
       "<div>\n",
       "<style scoped>\n",
       "    .dataframe tbody tr th:only-of-type {\n",
       "        vertical-align: middle;\n",
       "    }\n",
       "\n",
       "    .dataframe tbody tr th {\n",
       "        vertical-align: top;\n",
       "    }\n",
       "\n",
       "    .dataframe thead th {\n",
       "        text-align: right;\n",
       "    }\n",
       "</style>\n",
       "<table border=\"1\" class=\"dataframe\">\n",
       "  <thead>\n",
       "    <tr style=\"text-align: right;\">\n",
       "      <th></th>\n",
       "      <th>timestamp</th>\n",
       "      <th>user_id</th>\n",
       "      <th>content_id</th>\n",
       "      <th>task_container_id</th>\n",
       "      <th>user_answer</th>\n",
       "      <th>answered_correctly</th>\n",
       "      <th>prior_question_elapsed_time</th>\n",
       "      <th>prior_question_had_explanation</th>\n",
       "      <th>bundle_id</th>\n",
       "      <th>part</th>\n",
       "    </tr>\n",
       "  </thead>\n",
       "  <tbody>\n",
       "    <tr>\n",
       "      <th>count</th>\n",
       "      <td>9.927130e+07</td>\n",
       "      <td>9.927130e+07</td>\n",
       "      <td>9.927130e+07</td>\n",
       "      <td>9.927130e+07</td>\n",
       "      <td>9.927130e+07</td>\n",
       "      <td>9.927130e+07</td>\n",
       "      <td>9.887879e+07</td>\n",
       "      <td>98878794</td>\n",
       "      <td>9.927130e+07</td>\n",
       "      <td>9.927130e+07</td>\n",
       "    </tr>\n",
       "    <tr>\n",
       "      <th>unique</th>\n",
       "      <td>NaN</td>\n",
       "      <td>NaN</td>\n",
       "      <td>NaN</td>\n",
       "      <td>NaN</td>\n",
       "      <td>NaN</td>\n",
       "      <td>NaN</td>\n",
       "      <td>NaN</td>\n",
       "      <td>2</td>\n",
       "      <td>NaN</td>\n",
       "      <td>NaN</td>\n",
       "    </tr>\n",
       "    <tr>\n",
       "      <th>top</th>\n",
       "      <td>NaN</td>\n",
       "      <td>NaN</td>\n",
       "      <td>NaN</td>\n",
       "      <td>NaN</td>\n",
       "      <td>NaN</td>\n",
       "      <td>NaN</td>\n",
       "      <td>NaN</td>\n",
       "      <td>True</td>\n",
       "      <td>NaN</td>\n",
       "      <td>NaN</td>\n",
       "    </tr>\n",
       "    <tr>\n",
       "      <th>freq</th>\n",
       "      <td>NaN</td>\n",
       "      <td>NaN</td>\n",
       "      <td>NaN</td>\n",
       "      <td>NaN</td>\n",
       "      <td>NaN</td>\n",
       "      <td>NaN</td>\n",
       "      <td>NaN</td>\n",
       "      <td>89685560</td>\n",
       "      <td>NaN</td>\n",
       "      <td>NaN</td>\n",
       "    </tr>\n",
       "    <tr>\n",
       "      <th>mean</th>\n",
       "      <td>7.702058e+09</td>\n",
       "      <td>1.076745e+09</td>\n",
       "      <td>4.994398e+03</td>\n",
       "      <td>9.078112e+02</td>\n",
       "      <td>1.423013e+00</td>\n",
       "      <td>6.572355e-01</td>\n",
       "      <td>2.542385e+04</td>\n",
       "      <td>NaN</td>\n",
       "      <td>4.993985e+03</td>\n",
       "      <td>4.083499e+00</td>\n",
       "    </tr>\n",
       "    <tr>\n",
       "      <th>std</th>\n",
       "      <td>1.159498e+10</td>\n",
       "      <td>6.196995e+08</td>\n",
       "      <td>3.288955e+03</td>\n",
       "      <td>1.364974e+03</td>\n",
       "      <td>1.156489e+00</td>\n",
       "      <td>4.746335e-01</td>\n",
       "      <td>1.994815e+04</td>\n",
       "      <td>NaN</td>\n",
       "      <td>3.288847e+03</td>\n",
       "      <td>1.672031e+00</td>\n",
       "    </tr>\n",
       "    <tr>\n",
       "      <th>min</th>\n",
       "      <td>0.000000e+00</td>\n",
       "      <td>1.150000e+02</td>\n",
       "      <td>0.000000e+00</td>\n",
       "      <td>0.000000e+00</td>\n",
       "      <td>0.000000e+00</td>\n",
       "      <td>0.000000e+00</td>\n",
       "      <td>0.000000e+00</td>\n",
       "      <td>NaN</td>\n",
       "      <td>0.000000e+00</td>\n",
       "      <td>1.000000e+00</td>\n",
       "    </tr>\n",
       "    <tr>\n",
       "      <th>25%</th>\n",
       "      <td>5.195280e+08</td>\n",
       "      <td>5.408370e+08</td>\n",
       "      <td>2.016000e+03</td>\n",
       "      <td>1.030000e+02</td>\n",
       "      <td>0.000000e+00</td>\n",
       "      <td>0.000000e+00</td>\n",
       "      <td>1.600000e+04</td>\n",
       "      <td>NaN</td>\n",
       "      <td>2.015000e+03</td>\n",
       "      <td>2.000000e+00</td>\n",
       "    </tr>\n",
       "    <tr>\n",
       "      <th>50%</th>\n",
       "      <td>2.669611e+09</td>\n",
       "      <td>1.071807e+09</td>\n",
       "      <td>4.984000e+03</td>\n",
       "      <td>3.810000e+02</td>\n",
       "      <td>1.000000e+00</td>\n",
       "      <td>1.000000e+00</td>\n",
       "      <td>2.100000e+04</td>\n",
       "      <td>NaN</td>\n",
       "      <td>4.984000e+03</td>\n",
       "      <td>5.000000e+00</td>\n",
       "    </tr>\n",
       "    <tr>\n",
       "      <th>75%</th>\n",
       "      <td>9.929147e+09</td>\n",
       "      <td>1.615742e+09</td>\n",
       "      <td>7.218000e+03</td>\n",
       "      <td>1.099000e+03</td>\n",
       "      <td>3.000000e+00</td>\n",
       "      <td>1.000000e+00</td>\n",
       "      <td>2.966600e+04</td>\n",
       "      <td>NaN</td>\n",
       "      <td>7.216000e+03</td>\n",
       "      <td>5.000000e+00</td>\n",
       "    </tr>\n",
       "    <tr>\n",
       "      <th>max</th>\n",
       "      <td>8.742577e+10</td>\n",
       "      <td>2.147483e+09</td>\n",
       "      <td>1.352200e+04</td>\n",
       "      <td>9.999000e+03</td>\n",
       "      <td>3.000000e+00</td>\n",
       "      <td>1.000000e+00</td>\n",
       "      <td>3.000000e+05</td>\n",
       "      <td>NaN</td>\n",
       "      <td>1.352200e+04</td>\n",
       "      <td>7.000000e+00</td>\n",
       "    </tr>\n",
       "  </tbody>\n",
       "</table>\n",
       "</div>"
      ],
      "text/plain": [
       "           timestamp       user_id    content_id  task_container_id  \\\n",
       "count   9.927130e+07  9.927130e+07  9.927130e+07       9.927130e+07   \n",
       "unique           NaN           NaN           NaN                NaN   \n",
       "top              NaN           NaN           NaN                NaN   \n",
       "freq             NaN           NaN           NaN                NaN   \n",
       "mean    7.702058e+09  1.076745e+09  4.994398e+03       9.078112e+02   \n",
       "std     1.159498e+10  6.196995e+08  3.288955e+03       1.364974e+03   \n",
       "min     0.000000e+00  1.150000e+02  0.000000e+00       0.000000e+00   \n",
       "25%     5.195280e+08  5.408370e+08  2.016000e+03       1.030000e+02   \n",
       "50%     2.669611e+09  1.071807e+09  4.984000e+03       3.810000e+02   \n",
       "75%     9.929147e+09  1.615742e+09  7.218000e+03       1.099000e+03   \n",
       "max     8.742577e+10  2.147483e+09  1.352200e+04       9.999000e+03   \n",
       "\n",
       "         user_answer  answered_correctly  prior_question_elapsed_time  \\\n",
       "count   9.927130e+07        9.927130e+07                 9.887879e+07   \n",
       "unique           NaN                 NaN                          NaN   \n",
       "top              NaN                 NaN                          NaN   \n",
       "freq             NaN                 NaN                          NaN   \n",
       "mean    1.423013e+00        6.572355e-01                 2.542385e+04   \n",
       "std     1.156489e+00        4.746335e-01                 1.994815e+04   \n",
       "min     0.000000e+00        0.000000e+00                 0.000000e+00   \n",
       "25%     0.000000e+00        0.000000e+00                 1.600000e+04   \n",
       "50%     1.000000e+00        1.000000e+00                 2.100000e+04   \n",
       "75%     3.000000e+00        1.000000e+00                 2.966600e+04   \n",
       "max     3.000000e+00        1.000000e+00                 3.000000e+05   \n",
       "\n",
       "       prior_question_had_explanation     bundle_id          part  \n",
       "count                        98878794  9.927130e+07  9.927130e+07  \n",
       "unique                              2           NaN           NaN  \n",
       "top                              True           NaN           NaN  \n",
       "freq                         89685560           NaN           NaN  \n",
       "mean                              NaN  4.993985e+03  4.083499e+00  \n",
       "std                               NaN  3.288847e+03  1.672031e+00  \n",
       "min                               NaN  0.000000e+00  1.000000e+00  \n",
       "25%                               NaN  2.015000e+03  2.000000e+00  \n",
       "50%                               NaN  4.984000e+03  5.000000e+00  \n",
       "75%                               NaN  7.216000e+03  5.000000e+00  \n",
       "max                               NaN  1.352200e+04  7.000000e+00  "
      ]
     },
     "execution_count": 5,
     "metadata": {},
     "output_type": "execute_result"
    }
   ],
   "source": [
    "train_questions.describe()"
   ]
  },
  {
   "cell_type": "code",
   "execution_count": 7,
   "id": "64403884-c5bf-4e6e-ad2f-66b99dddc1f8",
   "metadata": {},
   "outputs": [
    {
     "data": {
      "text/plain": [
       "True     89685560\n",
       "False     9193234\n",
       "Name: prior_question_had_explanation, dtype: Int64"
      ]
     },
     "execution_count": 7,
     "metadata": {},
     "output_type": "execute_result"
    }
   ],
   "source": [
    "train_questions['prior_question_had_explanation'].value_counts()"
   ]
  },
  {
   "cell_type": "code",
   "execution_count": 8,
   "id": "ea6c32f6-482e-440d-9752-a8b679351fd6",
   "metadata": {},
   "outputs": [
    {
     "data": {
      "text/plain": [
       "393656"
      ]
     },
     "execution_count": 8,
     "metadata": {},
     "output_type": "execute_result"
    }
   ],
   "source": [
    "train_questions['user_id'].nunique()"
   ]
  },
  {
   "cell_type": "code",
   "execution_count": 9,
   "id": "d8bd9788-aa92-43cc-85ff-c427624bbaae",
   "metadata": {},
   "outputs": [],
   "source": [
    "# В таблице представлены основные статистические параметры для столбцов с численным типом данных.\n",
    "\n",
    "# Значения временного интервала (\"timestamp\") между взаимодействием с пользователем\n",
    "# и первым завершением событий от этого пользователя варьирует от 0 до примерно 8.74*e+10,\n",
    "# при среднем значении примерно 7.70e+9.\n",
    "\n",
    "# Идентификатор пользователя (\"user_id\") варьирует от 115 до 2.147483e+09, при среднем значении 1.076732e+09.\n",
    "# Самый частый идентификатор - 801103753 (использован 17609 раз). Есть идентификаторы, которые использованы\n",
    "# только по одному разу. Всего 393656 уникальных идентификаторов пользователя.\n",
    "\n",
    "# Код для взаимодействия с пользователем (\"content_id\") варьирует от 0 до 1.352200e+04, при среднем значении\n",
    "# 4.994398e+03. Чаще всего используется код 6116 (использован 213605 раз).\n",
    "\n",
    "# Значения кода для пакета вопросов (\"task_container_id\"), определяющий порядок следований вопросов и лекций, \n",
    "# последовательно возрастают от 0 до 9999. Чаще всего используется код 14 (801910 раз), \n",
    "# реже всего - код 9937 (169 раз).\n",
    "\n",
    "# Значения ответов на вопрос (\"user_answer\") последовательно варьируют от 0 до 3. \n",
    "\n",
    "# Значения правильных ответов на вопрос (\"answered_correctly\") варьируют от 0 (34026673 раз) до 1 (65244627 раз).\n",
    "\n",
    "# Cреднее значения времени для ответа на вопрос из предыдущего пакета вопросов без учета лекции \n",
    "# (\"prior_question_elapsed_time\") варьируют от 0 до 3.000000e+05, при среднем значении 2.542385e+04.\n",
    "# Для первого пакета вопросов значение равно 0.\n",
    "# Максимальное значение составляет 17000 (5154588 раз).\n",
    "\n",
    "# Значения пакетов лекций (\"bundle_id\") варьируют от 0 до 13522.\n",
    "\n",
    "# Значения частей теста (\"parts\") варьирует от 1 до 7.\n",
    "\n"
   ]
  },
  {
   "cell_type": "code",
   "execution_count": 10,
   "id": "8605a89b-4db3-4b45-bf9c-ce2660979a06",
   "metadata": {},
   "outputs": [
    {
     "data": {
      "text/html": [
       "<div>\n",
       "<style scoped>\n",
       "    .dataframe tbody tr th:only-of-type {\n",
       "        vertical-align: middle;\n",
       "    }\n",
       "\n",
       "    .dataframe tbody tr th {\n",
       "        vertical-align: top;\n",
       "    }\n",
       "\n",
       "    .dataframe thead th {\n",
       "        text-align: right;\n",
       "    }\n",
       "</style>\n",
       "<table border=\"1\" class=\"dataframe\">\n",
       "  <thead>\n",
       "    <tr style=\"text-align: right;\">\n",
       "      <th></th>\n",
       "      <th>prior_question_had_explanation</th>\n",
       "    </tr>\n",
       "  </thead>\n",
       "  <tbody>\n",
       "    <tr>\n",
       "      <th>count</th>\n",
       "      <td>98878794</td>\n",
       "    </tr>\n",
       "    <tr>\n",
       "      <th>unique</th>\n",
       "      <td>2</td>\n",
       "    </tr>\n",
       "    <tr>\n",
       "      <th>top</th>\n",
       "      <td>True</td>\n",
       "    </tr>\n",
       "    <tr>\n",
       "      <th>freq</th>\n",
       "      <td>89685560</td>\n",
       "    </tr>\n",
       "  </tbody>\n",
       "</table>\n",
       "</div>"
      ],
      "text/plain": [
       "       prior_question_had_explanation\n",
       "count                        98878794\n",
       "unique                              2\n",
       "top                              True\n",
       "freq                         89685560"
      ]
     },
     "execution_count": 10,
     "metadata": {},
     "output_type": "execute_result"
    }
   ],
   "source": [
    "train_questions.describe(include=['boolean'])"
   ]
  },
  {
   "cell_type": "code",
   "execution_count": 36,
   "id": "522dc47f-db93-467b-ac3b-b3530b92f0a6",
   "metadata": {},
   "outputs": [],
   "source": [
    "# Число испытаний, при которых предыдущий вопрос имел объяснение - 89685560 (True), не имел - 9193234 (False)."
   ]
  },
  {
   "cell_type": "code",
   "execution_count": 19,
   "id": "5dddae7f-86b5-4319-9203-6efb1ffd0354",
   "metadata": {},
   "outputs": [
    {
     "data": {
      "text/html": [
       "<div>\n",
       "<style scoped>\n",
       "    .dataframe tbody tr th:only-of-type {\n",
       "        vertical-align: middle;\n",
       "    }\n",
       "\n",
       "    .dataframe tbody tr th {\n",
       "        vertical-align: top;\n",
       "    }\n",
       "\n",
       "    .dataframe thead th {\n",
       "        text-align: right;\n",
       "    }\n",
       "</style>\n",
       "<table border=\"1\" class=\"dataframe\">\n",
       "  <thead>\n",
       "    <tr style=\"text-align: right;\">\n",
       "      <th></th>\n",
       "      <th>tags</th>\n",
       "    </tr>\n",
       "  </thead>\n",
       "  <tbody>\n",
       "    <tr>\n",
       "      <th>count</th>\n",
       "      <td>99271299</td>\n",
       "    </tr>\n",
       "    <tr>\n",
       "      <th>unique</th>\n",
       "      <td>1519</td>\n",
       "    </tr>\n",
       "    <tr>\n",
       "      <th>top</th>\n",
       "      <td>73</td>\n",
       "    </tr>\n",
       "    <tr>\n",
       "      <th>freq</th>\n",
       "      <td>3056309</td>\n",
       "    </tr>\n",
       "  </tbody>\n",
       "</table>\n",
       "</div>"
      ],
      "text/plain": [
       "            tags\n",
       "count   99271299\n",
       "unique      1519\n",
       "top           73\n",
       "freq     3056309"
      ]
     },
     "execution_count": 19,
     "metadata": {},
     "output_type": "execute_result"
    }
   ],
   "source": [
    "train_questions.describe(include=['object'])"
   ]
  },
  {
   "cell_type": "code",
   "execution_count": null,
   "id": "d0b9c097-6fee-4e92-a793-887a0bd1b009",
   "metadata": {},
   "outputs": [],
   "source": [
    "# Всего в таблице 1519 уникальных тагов вопросов. Самым частым является таг 73 (3056309 раз)."
   ]
  },
  {
   "cell_type": "code",
   "execution_count": null,
   "id": "e4676b8f-2ee7-43dd-8c05-45aa5a512702",
   "metadata": {},
   "outputs": [],
   "source": [
    "# АНАЛИЗ ВЛИЯНИЯ НА УСПЕВАЕМОСТЬ\n",
    "\n",
    "# !!! Показателем успеваемости будем считать среднее число правильных ответов, данных на вопрос."
   ]
  },
  {
   "cell_type": "code",
   "execution_count": 47,
   "id": "1ded0bc0-193a-4860-b7a4-55482b1e476e",
   "metadata": {},
   "outputs": [],
   "source": [
    "# 1. Cреднее число правильных ответов в зависимости от среднего значения кода для пакета вопросов (\"task_container_id\"):"
   ]
  },
  {
   "cell_type": "code",
   "execution_count": 12,
   "id": "e3bc266a-04b7-4b13-82c3-5f514f0c78bd",
   "metadata": {},
   "outputs": [],
   "source": [
    "a = train_questions[train_questions['task_container_id'] < train_questions['task_container_id'].mean()]['answered_correctly'].mean()"
   ]
  },
  {
   "cell_type": "code",
   "execution_count": 13,
   "id": "7794aef8-04c1-4341-ac12-eaf140d907da",
   "metadata": {},
   "outputs": [],
   "source": [
    "b = train_questions[train_questions['task_container_id'] >= train_questions['task_container_id'].mean()]['answered_correctly'].mean()"
   ]
  },
  {
   "cell_type": "code",
   "execution_count": 14,
   "id": "f1696286-44d3-435c-b9cc-5cbb2c09f21b",
   "metadata": {},
   "outputs": [
    {
     "data": {
      "text/plain": [
       "(0.6402751879325421, 0.6980200313617445)"
      ]
     },
     "execution_count": 14,
     "metadata": {},
     "output_type": "execute_result"
    }
   ],
   "source": [
    "a,b\n"
   ]
  },
  {
   "cell_type": "code",
   "execution_count": 15,
   "id": "e8817e10-c4b5-4fe9-be2e-846197b19a7e",
   "metadata": {},
   "outputs": [],
   "source": [
    "def comparison(a,b): \n",
    "    x = ''\n",
    "    c = round(abs((a-b)/b)*100,2) # Percent of difference \n",
    "    d = a-b\n",
    "    if d >=0:\n",
    "        x = 'больше'\n",
    "    else:\n",
    "        x = 'меньше'\n",
    "    return(x,c)"
   ]
  },
  {
   "cell_type": "code",
   "execution_count": 16,
   "id": "55141a29-6308-4e05-a13f-f73e26fb69b0",
   "metadata": {},
   "outputs": [
    {
     "name": "stdout",
     "output_type": "stream",
     "text": [
      "Вывод: cреднее число правильных ответов меньше на 8.27 процента, если значение кода для пакета вопросов меньше среднего.\n"
     ]
    }
   ],
   "source": [
    "x,c = comparison(a,b)\n",
    "print (f'Вывод: cреднее число правильных ответов {x} на {c} процента, если значение кода для пакета вопросов меньше среднего.')"
   ]
  },
  {
   "cell_type": "code",
   "execution_count": 16,
   "id": "eba497e4-2d0e-44b7-9378-26d2f09c2651",
   "metadata": {},
   "outputs": [],
   "source": [
    "# 1.2. Cредние значения правильных ответов в зависимости от cреднего значения для \"сontent_id\":"
   ]
  },
  {
   "cell_type": "code",
   "execution_count": 51,
   "id": "685c34d2-2942-4f4f-a09d-2ec7f927d22e",
   "metadata": {},
   "outputs": [],
   "source": [
    "a = train_questions[train_questions['content_id'] < train_questions['content_id'].mean()]['answered_correctly'].mean()"
   ]
  },
  {
   "cell_type": "code",
   "execution_count": 52,
   "id": "d34b21ae-266c-4404-b013-c65393c724de",
   "metadata": {},
   "outputs": [],
   "source": [
    "b = train_questions[train_questions['content_id'] >= train_questions['content_id'].mean()]['answered_correctly'].mean()"
   ]
  },
  {
   "cell_type": "code",
   "execution_count": 53,
   "id": "7e5f05bf-ec89-4779-946b-cb0a5f0bbacd",
   "metadata": {},
   "outputs": [
    {
     "data": {
      "text/plain": [
       "(0.6690141631018106, 0.645369707108341)"
      ]
     },
     "execution_count": 53,
     "metadata": {},
     "output_type": "execute_result"
    }
   ],
   "source": [
    "a,b"
   ]
  },
  {
   "cell_type": "code",
   "execution_count": 55,
   "id": "b6fea2e4-af59-4905-bae6-6923bebebcb1",
   "metadata": {},
   "outputs": [
    {
     "name": "stdout",
     "output_type": "stream",
     "text": [
      "Вывод: cреднее число правильных ответов больше на 3.66 процента, если значение кода для сontent_id меньше cреднего значения.\n"
     ]
    }
   ],
   "source": [
    "x,c = comparison(a,b)\n",
    "print (f'Вывод: cреднее число правильных ответов {x} на {c} процента, если значение кода для сontent_id меньше cреднего значения.')"
   ]
  },
  {
   "cell_type": "code",
   "execution_count": 21,
   "id": "beab1e5d-1e1f-4277-aab6-4437f7fb94e0",
   "metadata": {},
   "outputs": [],
   "source": [
    "# 2. Cреднее число правильных ответов в зависимости от ответа, данного пользователем:"
   ]
  },
  {
   "cell_type": "code",
   "execution_count": 19,
   "id": "3576d7f3-1964-4d71-9826-9629e8e7b569",
   "metadata": {},
   "outputs": [],
   "source": [
    "a = train_questions[train_questions['user_answer'] == 0]['answered_correctly'].mean()"
   ]
  },
  {
   "cell_type": "code",
   "execution_count": 20,
   "id": "e7ada337-6723-4351-81e2-3baf1ebb0287",
   "metadata": {},
   "outputs": [],
   "source": [
    "b = train_questions[train_questions['user_answer'] == 1]['answered_correctly'].mean()"
   ]
  },
  {
   "cell_type": "code",
   "execution_count": 21,
   "id": "01761e03-820b-44a9-95df-034a6935e1d1",
   "metadata": {},
   "outputs": [],
   "source": [
    "c = train_questions[train_questions['user_answer'] == 2]['answered_correctly'].mean()"
   ]
  },
  {
   "cell_type": "code",
   "execution_count": 22,
   "id": "10526c97-9d6f-4853-8059-1e2bd3d2667a",
   "metadata": {},
   "outputs": [],
   "source": [
    "d = train_questions[train_questions['user_answer'] == 3]['answered_correctly'].mean()"
   ]
  },
  {
   "cell_type": "code",
   "execution_count": 23,
   "id": "4adc9ba8-3298-45bb-9a7f-cb1fc3415f43",
   "metadata": {},
   "outputs": [
    {
     "data": {
      "text/plain": [
       "(0.6578251729046495,\n",
       " 0.6475750821405863,\n",
       " 0.6686539493015554,\n",
       " 0.6587103807338408)"
      ]
     },
     "execution_count": 23,
     "metadata": {},
     "output_type": "execute_result"
    }
   ],
   "source": [
    "a,b,c,d"
   ]
  },
  {
   "cell_type": "code",
   "execution_count": 24,
   "id": "8e1dfb68-e699-463c-9a87-a15c0c044e7e",
   "metadata": {},
   "outputs": [
    {
     "data": {
      "text/plain": [
       "[2, 3, 0, 1]"
      ]
     },
     "execution_count": 24,
     "metadata": {},
     "output_type": "execute_result"
    }
   ],
   "source": [
    "dct = {a:0, b:1, c:2, d:3}\n",
    "lst = sorted([a,b,c,d], reverse = True)\n",
    "lst2 = []\n",
    "for i in lst:\n",
    "    lst2.append(dct[i])\n",
    "lst2"
   ]
  },
  {
   "cell_type": "code",
   "execution_count": 25,
   "id": "5c24179d-7e64-4237-9721-7cabb99c3468",
   "metadata": {},
   "outputs": [
    {
     "name": "stdout",
     "output_type": "stream",
     "text": [
      "Вывод: cреднее число правильных ответов убывает в следующем ряду: [2, 3, 0, 1] (номера ответов на вопросы.\n"
     ]
    }
   ],
   "source": [
    "print(f'Вывод: cреднее число правильных ответов убывает в следующем ряду: {lst2} (номера ответов на вопросы.')"
   ]
  },
  {
   "cell_type": "code",
   "execution_count": null,
   "id": "621af861-c358-4362-99e3-73f3a15d84a7",
   "metadata": {},
   "outputs": [],
   "source": [
    "# 3. Cреднее число правильных ответов в зависимости от среднего времени, затраченного на предыдущий вопрос:"
   ]
  },
  {
   "cell_type": "code",
   "execution_count": 27,
   "id": "16044709-4af4-4c2b-b38c-5fb91fa1730a",
   "metadata": {},
   "outputs": [],
   "source": [
    "a = train_questions[train_questions['prior_question_elapsed_time'] < train_questions['prior_question_elapsed_time'].mean()]['answered_correctly'].mean()"
   ]
  },
  {
   "cell_type": "code",
   "execution_count": 28,
   "id": "3782b456-3778-44ea-ae14-12e41bf1710d",
   "metadata": {},
   "outputs": [],
   "source": [
    "b = train_questions[train_questions['prior_question_elapsed_time'] >= train_questions['prior_question_elapsed_time'].mean()]['answered_correctly'].mean()"
   ]
  },
  {
   "cell_type": "code",
   "execution_count": 29,
   "id": "24f8b76b-1d64-4bc3-9599-c2e5533a6336",
   "metadata": {},
   "outputs": [
    {
     "data": {
      "text/plain": [
       "(0.6637204686685919, 0.6445621165467694)"
      ]
     },
     "execution_count": 29,
     "metadata": {},
     "output_type": "execute_result"
    }
   ],
   "source": [
    "a,b"
   ]
  },
  {
   "cell_type": "code",
   "execution_count": 30,
   "id": "2e970f68-cdc5-49f3-84e2-db8a2d5157ec",
   "metadata": {},
   "outputs": [
    {
     "name": "stdout",
     "output_type": "stream",
     "text": [
      "Вывод: cреднее число правильных ответов больше на 2.97 процента, если время ответа на предыдущий вопрос меньше среднего.\n"
     ]
    }
   ],
   "source": [
    "x,c = comparison(a,b)\n",
    "print (f'Вывод: cреднее число правильных ответов {x} на {c} процента, если время ответа на предыдущий вопрос меньше среднего.')"
   ]
  },
  {
   "cell_type": "code",
   "execution_count": null,
   "id": "fc1dfb0f-7c1d-4660-9e02-0707c50d4fad",
   "metadata": {},
   "outputs": [],
   "source": [
    "# 4. Cреднее число правильных ответов в зависимости от того, был ли объяснен предыдущий вопрос"
   ]
  },
  {
   "cell_type": "code",
   "execution_count": 31,
   "id": "1dc1ed87-adde-4545-a2de-4f5f5ad4138e",
   "metadata": {},
   "outputs": [],
   "source": [
    "a = train_questions[train_questions['prior_question_had_explanation'] == True]['answered_correctly'].mean()"
   ]
  },
  {
   "cell_type": "code",
   "execution_count": 32,
   "id": "d2c2bb7a-57f9-4b9f-8d8c-ef6f1a56896e",
   "metadata": {},
   "outputs": [],
   "source": [
    "b = train_questions[train_questions['prior_question_had_explanation'] == False]['answered_correctly'].mean()"
   ]
  },
  {
   "cell_type": "code",
   "execution_count": 33,
   "id": "2e1c1924-07d1-44a6-a695-b4f4ebffa737",
   "metadata": {},
   "outputs": [
    {
     "data": {
      "text/plain": [
       "(0.6731885043701572, 0.5006289408058143)"
      ]
     },
     "execution_count": 33,
     "metadata": {},
     "output_type": "execute_result"
    }
   ],
   "source": [
    "a,b"
   ]
  },
  {
   "cell_type": "code",
   "execution_count": 34,
   "id": "455a3cee-b1cf-49ff-8cb6-0f50eaa660c4",
   "metadata": {},
   "outputs": [
    {
     "name": "stdout",
     "output_type": "stream",
     "text": [
      "Вывод: cреднее число правильных ответов больше на 34.47 процента, если предыдущий вопрос был объяснён.\n"
     ]
    }
   ],
   "source": [
    "x,c = comparison(a,b)\n",
    "print (f'Вывод: cреднее число правильных ответов {x} на {c} процента, если предыдущий вопрос был объяснён.')"
   ]
  },
  {
   "cell_type": "code",
   "execution_count": null,
   "id": "5729ad3b-2f1b-40a3-90a7-64f9f7b03006",
   "metadata": {},
   "outputs": [],
   "source": [
    "# 5. Cреднее число правильных ответов в зависимости от bundle_id:"
   ]
  },
  {
   "cell_type": "code",
   "execution_count": 35,
   "id": "da6c3c62-86bb-41ea-bcdc-ab15d044344b",
   "metadata": {},
   "outputs": [],
   "source": [
    "a = train_questions[train_questions['bundle_id'] < train_questions['bundle_id'].mean()]['answered_correctly'].mean()"
   ]
  },
  {
   "cell_type": "code",
   "execution_count": 36,
   "id": "20ea1877-8c21-4a7f-86bc-042ae6c89534",
   "metadata": {},
   "outputs": [],
   "source": [
    "b = train_questions[train_questions['bundle_id'] >= train_questions['bundle_id'].mean()]['answered_correctly'].mean()"
   ]
  },
  {
   "cell_type": "code",
   "execution_count": 37,
   "id": "7a61c078-f090-42db-a0a7-3d15442acd18",
   "metadata": {},
   "outputs": [
    {
     "data": {
      "text/plain": [
       "(0.6689701559626965, 0.6454209902180128)"
      ]
     },
     "execution_count": 37,
     "metadata": {},
     "output_type": "execute_result"
    }
   ],
   "source": [
    "a,b"
   ]
  },
  {
   "cell_type": "code",
   "execution_count": 39,
   "id": "e974e177-9e64-42d6-acb1-611dcc5a7b50",
   "metadata": {},
   "outputs": [
    {
     "name": "stdout",
     "output_type": "stream",
     "text": [
      "Вывод: cреднее число правильных ответов больше на 3.65 процента, если значение bundle меньше cреднего значения.\n"
     ]
    }
   ],
   "source": [
    "x,c = comparison(a,b)\n",
    "print (f'Вывод: cреднее число правильных ответов {x} на {c} процента, если значение bundle меньше cреднего значения.')"
   ]
  },
  {
   "cell_type": "code",
   "execution_count": null,
   "id": "91bc3af7-a67b-469c-9ece-21c6fe5aa4ac",
   "metadata": {},
   "outputs": [],
   "source": [
    "# 6. Cреднее число правильных ответов в зависимости от части (part):"
   ]
  },
  {
   "cell_type": "code",
   "execution_count": 187,
   "id": "ded26e52-9850-41a8-87c7-43703bae9d79",
   "metadata": {},
   "outputs": [
    {
     "name": "stdout",
     "output_type": "stream",
     "text": [
      "0.745 доля правильных ответов для части 1\n",
      "0.709 доля правильных ответов для части 2\n",
      "0.701 доля правильных ответов для части 3\n",
      "0.631 доля правильных ответов для части 4\n",
      "0.61 доля правильных ответов для части 5\n",
      "0.669 доля правильных ответов для части 6\n",
      "0.66 доля правильных ответов для части 7\n"
     ]
    }
   ],
   "source": [
    "dct = {}\n",
    "for i in range(1,8):\n",
    "    a = train_questions[train_questions['part'] == i]['answered_correctly'].mean()\n",
    "    dct[a]= i\n",
    "for key, value in dct.items():\n",
    "    print(f'{round(key,3)} доля правильных ответов для части {value}')"
   ]
  },
  {
   "cell_type": "code",
   "execution_count": null,
   "id": "8d446208-70b8-4b19-be39-111e3aca0c3a",
   "metadata": {},
   "outputs": [],
   "source": [
    "# Вывод: число правильных ответов убывает для частей в следующем порядке: 1,2,3,6,7,4,5."
   ]
  },
  {
   "cell_type": "code",
   "execution_count": null,
   "id": "d1f03e0b-34d7-49d6-b31a-3e239a3def57",
   "metadata": {},
   "outputs": [],
   "source": [
    "# 6. Анализ зависимости количества правильных ответов от tags:"
   ]
  },
  {
   "cell_type": "code",
   "execution_count": 38,
   "id": "41524fe2-7423-420c-9fd9-d0dae2f0734e",
   "metadata": {},
   "outputs": [],
   "source": [
    "# Создание словаря, ключи которого - tags, а значения - их общее число для правильных ответов (ранжированное в порядке убывания).\n",
    "tags_correct_answers = dict(train_questions[train_questions['answered_correctly'] == 1]['tags'].value_counts())"
   ]
  },
  {
   "cell_type": "code",
   "execution_count": 39,
   "id": "a3be2e20-9292-4270-bd9e-98cba4fed316",
   "metadata": {},
   "outputs": [],
   "source": [
    "# Создание словаря, ключи которого - tags, а значения - их общее число для неправильных ответов (ранжированное в порядке убывания).\n",
    "tags_wrong_answers = dict(train_questions[train_questions['answered_correctly'] == 0]['tags'].value_counts())"
   ]
  },
  {
   "cell_type": "code",
   "execution_count": 57,
   "id": "d37e9c9e-41a2-4fe4-a568-564f6da39001",
   "metadata": {},
   "outputs": [],
   "source": [
    "# Cоздание словаря, ключи которого - соотношение числа правильных и неправильных ответов, если оно больше среднего (с), а значения - tags.\n",
    "tags_correct_proportions = {round(tags_correct_answers[i]/tags_wrong_answers[i], 2) : i for i in tags_correct_answers.keys() if tags_correct_answers[i]/tags_wrong_answers[i] > c}"
   ]
  },
  {
   "cell_type": "code",
   "execution_count": 59,
   "id": "e6a0c7a9-6cce-402d-9ce6-483d5c0acb36",
   "metadata": {},
   "outputs": [],
   "source": [
    "k = list(tags_correct_proportions.keys())"
   ]
  },
  {
   "cell_type": "code",
   "execution_count": 60,
   "id": "4e2ba209-01c0-489d-8898-8e8d99d73559",
   "metadata": {},
   "outputs": [],
   "source": [
    "k.sort(reverse = True)"
   ]
  },
  {
   "cell_type": "code",
   "execution_count": 79,
   "id": "3c12b04b-4ff9-43c7-969a-2282dfae4adf",
   "metadata": {},
   "outputs": [
    {
     "name": "stdout",
     "output_type": "stream",
     "text": [
      "48.0 => 98 84 76 135\n",
      "47.44 => 106 162 92 29\n",
      "45.87 => 131 130 162 81\n",
      "45.0 => 74 81 59\n",
      "44.95 => 131 111 162 29\n",
      "41.09 => 131 130 29\n",
      "38.0 => 136 103 162 29\n",
      "37.96 => 74 120 81\n",
      "37.64 => 106 120 92\n",
      "36.68 => 74 83 81\n"
     ]
    }
   ],
   "source": [
    "# Вывод 10 tags с максимальным соотношением правильных ответов к неправильным:\n",
    "for key in range(10):\n",
    "    print(f'{k[key]} => {tags_correct_proportions[k[key]]}') "
   ]
  },
  {
   "cell_type": "code",
   "execution_count": 81,
   "id": "c6fb678e-2e2c-4815-8958-e683a29581f6",
   "metadata": {},
   "outputs": [
    {
     "name": "stdout",
     "output_type": "stream",
     "text": [
      "Вывод: самое высокое соотношение правильных ответов к неправильным дано на вопрос с tag 98 84 76 135.\n"
     ]
    }
   ],
   "source": [
    "print(f'Вывод: самое высокое соотношение правильных ответов к неправильным дано на вопрос с tag {tags_correct_proportions[k[0]]}.')"
   ]
  },
  {
   "cell_type": "code",
   "execution_count": 65,
   "id": "d77f25a7-ebe7-46c2-89c2-33c33acdd0c0",
   "metadata": {},
   "outputs": [],
   "source": [
    "# Cоздание словаря, ключи которого - соотношение числа правильных и неправильных ответов, если оно меньше либо равно среднего (с), а значения - tags.\n",
    "tags_wrong_proportions = {round(tags_correct_answers[i]/tags_wrong_answers[i], 2) : i for i in tags_correct_answers.keys() if tags_correct_answers[i]/tags_wrong_answers[i] <= c}"
   ]
  },
  {
   "cell_type": "code",
   "execution_count": 66,
   "id": "cb67e491-4808-4ba6-ba7c-953ec849b548",
   "metadata": {},
   "outputs": [],
   "source": [
    "l = list(tags_wrong_proportions.keys())"
   ]
  },
  {
   "cell_type": "code",
   "execution_count": 68,
   "id": "ece327c7-96ea-4b07-b785-c992cd43f472",
   "metadata": {},
   "outputs": [],
   "source": [
    "l.sort()"
   ]
  },
  {
   "cell_type": "code",
   "execution_count": 93,
   "id": "d4baff5a-336f-4717-8243-3b7198670536",
   "metadata": {},
   "outputs": [
    {
     "name": "stdout",
     "output_type": "stream",
     "text": [
      "0.11 => 118 42 21 162\n",
      "0.22 => 106 67 162 92\n",
      "0.3 => 161 150 162 81\n",
      "0.32 => 39 42 160 135 162\n",
      "0.33 => 161 92 102\n",
      "0.36 => 161 83 29\n",
      "0.37 => 161 12 162 102\n",
      "0.39 => 106 126 38\n",
      "0.41 => 136 67 92\n",
      "0.42 => 157 103 162 92\n"
     ]
    }
   ],
   "source": [
    "# Вывод 10 tags с минимальным соотношением правильных ответов к неправильным:\n",
    "for i in range(10):\n",
    "    print(f'{l[i]} => {tags_wrong_proportions[l[i]]}') "
   ]
  },
  {
   "cell_type": "code",
   "execution_count": 96,
   "id": "a89bf74b-9086-44b4-8d66-0073b71ce2cb",
   "metadata": {},
   "outputs": [
    {
     "name": "stdout",
     "output_type": "stream",
     "text": [
      "Вывод: самое низкое соотношение правильных ответов к неправильным дано на вопрос с tag 118 42 21 162.\n"
     ]
    }
   ],
   "source": [
    "print(f'Вывод: самое низкое соотношение правильных ответов к неправильным дано на вопрос с tag {tags_wrong_proportions[l[0]]}.')"
   ]
  },
  {
   "cell_type": "code",
   "execution_count": null,
   "id": "11269075-5d64-4542-8c30-bc1f77cfa8b9",
   "metadata": {},
   "outputs": [],
   "source": [
    "# 7. Создание словаря, в котором ключи - это user_id, а значения - общее число правильных ответов."
   ]
  },
  {
   "cell_type": "code",
   "execution_count": 191,
   "id": "621ab6d9-ce1f-4c2f-96d1-7119f4b8765f",
   "metadata": {},
   "outputs": [],
   "source": [
    "user_correct_answers = dict(train_questions.groupby('user_id')['answered_correctly'].sum())"
   ]
  },
  {
   "cell_type": "code",
   "execution_count": 194,
   "id": "bee16243-c416-4c64-92c5-50daa0ac2970",
   "metadata": {},
   "outputs": [],
   "source": [
    "# Создание словаря, в котором ключи - это числа правильных ответов, ранжированные в порядке убывания, а значения - user_id.\n",
    "\n",
    "for key, value in user_correct_answers.items():\n",
    "    correct_user_answers[value] = key\n",
    "correct_list = list(correct_user_answers.keys())\n",
    "correct_list.sort(reverse = True)\n",
    "user_answers = {}\n",
    "for i in correct_list:\n",
    "    user_answers[i] = correct_user_answers[i]"
   ]
  },
  {
   "cell_type": "code",
   "execution_count": 201,
   "id": "b8697b61-6084-4e4a-b398-1ffd41e958db",
   "metadata": {},
   "outputs": [
    {
     "name": "stdout",
     "output_type": "stream",
     "text": [
      "[14300.0, 13678.0, 13416.0, 13086.0, 13034.0, 12840.0, 12698.0, 12644.0, 12225.0, 12222.0]\n"
     ]
    }
   ],
   "source": [
    "keys = list(user_answers.keys())[:10]\n",
    "print(keys)"
   ]
  },
  {
   "cell_type": "code",
   "execution_count": 199,
   "id": "f7c573ca-df35-4a7a-9c9b-56e721229fa7",
   "metadata": {},
   "outputs": [
    {
     "name": "stdout",
     "output_type": "stream",
     "text": [
      "Общее число правильных ответов: 14300 => user_id 2139561972.\n",
      "Общее число правильных ответов: 13678 => user_id 1615528747.\n",
      "Общее число правильных ответов: 13416 => user_id 338684437.\n",
      "Общее число правильных ответов: 13086 => user_id 1842816145.\n",
      "Общее число правильных ответов: 13034 => user_id 1047202059.\n",
      "Общее число правильных ответов: 12840 => user_id 1478712595.\n",
      "Общее число правильных ответов: 12698 => user_id 801103753.\n",
      "Общее число правильных ответов: 12644 => user_id 1743444187.\n",
      "Общее число правильных ответов: 12225 => user_id 2070068957.\n",
      "Общее число правильных ответов: 12222 => user_id 790318558.\n"
     ]
    }
   ],
   "source": [
    "# Вывод 10 user_id с максимальным числом правильных ответов:\n",
    "for key in keys:\n",
    "    print(f'Общее число правильных ответов: {int(key)} => user_id {user_answers[key]}.')"
   ]
  },
  {
   "cell_type": "code",
   "execution_count": 204,
   "id": "c0efdacd-456d-49b1-8de0-9a348fbbbe72",
   "metadata": {},
   "outputs": [
    {
     "name": "stdout",
     "output_type": "stream",
     "text": [
      "Вывод: максимальное число правильных ответов (14300)- у пользователя 2139561972.\n"
     ]
    }
   ],
   "source": [
    "print(f'Вывод: максимальное число правильных ответов ({int(keys[0])})- у пользователя {user_answers[keys[0]]}.')"
   ]
  },
  {
   "cell_type": "code",
   "execution_count": null,
   "id": "ee5c9dec-8b65-4b67-8bb1-7e26e3716996",
   "metadata": {},
   "outputs": [],
   "source": [
    "# 2. АНАЛИЗ ДАННЫХ В ТАБЛИЦЕ train_lectures:"
   ]
  },
  {
   "cell_type": "code",
   "execution_count": 206,
   "id": "dfe7d2e4-56db-499a-b1a5-1a0bb8727f85",
   "metadata": {},
   "outputs": [],
   "source": [
    "train_lectures = pd.read_csv('train_lectures.csv', sep = ',')"
   ]
  },
  {
   "cell_type": "code",
   "execution_count": 262,
   "id": "79982048-44ab-43bf-94a8-bbb786d2b63c",
   "metadata": {},
   "outputs": [
    {
     "name": "stdout",
     "output_type": "stream",
     "text": [
      "<class 'pandas.core.frame.DataFrame'>\n",
      "RangeIndex: 1959032 entries, 0 to 1959031\n",
      "Data columns (total 8 columns):\n",
      " #   Column                  Dtype  \n",
      "---  ------                  -----  \n",
      " 0   timestamp               int64  \n",
      " 1   user_id                 int64  \n",
      " 2   content_id              int64  \n",
      " 3   task_container_id       int64  \n",
      " 4   tag                     int64  \n",
      " 5   part                    int64  \n",
      " 6   type_of                 object \n",
      " 7   correct_answers_number  float64\n",
      "dtypes: float64(1), int64(6), object(1)\n",
      "memory usage: 119.6+ MB\n"
     ]
    }
   ],
   "source": [
    "train_lectures.info()"
   ]
  },
  {
   "cell_type": "code",
   "execution_count": 263,
   "id": "46a1a4a3-481d-4c5f-b3b0-ceb1aa87fefb",
   "metadata": {},
   "outputs": [
    {
     "data": {
      "text/html": [
       "<div>\n",
       "<style scoped>\n",
       "    .dataframe tbody tr th:only-of-type {\n",
       "        vertical-align: middle;\n",
       "    }\n",
       "\n",
       "    .dataframe tbody tr th {\n",
       "        vertical-align: top;\n",
       "    }\n",
       "\n",
       "    .dataframe thead th {\n",
       "        text-align: right;\n",
       "    }\n",
       "</style>\n",
       "<table border=\"1\" class=\"dataframe\">\n",
       "  <thead>\n",
       "    <tr style=\"text-align: right;\">\n",
       "      <th></th>\n",
       "      <th>timestamp</th>\n",
       "      <th>user_id</th>\n",
       "      <th>content_id</th>\n",
       "      <th>task_container_id</th>\n",
       "      <th>tag</th>\n",
       "      <th>part</th>\n",
       "      <th>correct_answers_number</th>\n",
       "    </tr>\n",
       "  </thead>\n",
       "  <tbody>\n",
       "    <tr>\n",
       "      <th>count</th>\n",
       "      <td>1.959032e+06</td>\n",
       "      <td>1.959032e+06</td>\n",
       "      <td>1.959032e+06</td>\n",
       "      <td>1.959032e+06</td>\n",
       "      <td>1.959032e+06</td>\n",
       "      <td>1.959032e+06</td>\n",
       "      <td>1.959032e+06</td>\n",
       "    </tr>\n",
       "    <tr>\n",
       "      <th>mean</th>\n",
       "      <td>7.783985e+09</td>\n",
       "      <td>1.076071e+09</td>\n",
       "      <td>1.663167e+04</td>\n",
       "      <td>7.140932e+02</td>\n",
       "      <td>9.109704e+01</td>\n",
       "      <td>4.083047e+00</td>\n",
       "      <td>1.445312e+03</td>\n",
       "    </tr>\n",
       "    <tr>\n",
       "      <th>std</th>\n",
       "      <td>1.147407e+10</td>\n",
       "      <td>6.205695e+08</td>\n",
       "      <td>9.565665e+03</td>\n",
       "      <td>9.420555e+02</td>\n",
       "      <td>5.438902e+01</td>\n",
       "      <td>1.675365e+00</td>\n",
       "      <td>1.759735e+03</td>\n",
       "    </tr>\n",
       "    <tr>\n",
       "      <th>min</th>\n",
       "      <td>0.000000e+00</td>\n",
       "      <td>2.746000e+03</td>\n",
       "      <td>8.900000e+01</td>\n",
       "      <td>0.000000e+00</td>\n",
       "      <td>0.000000e+00</td>\n",
       "      <td>1.000000e+00</td>\n",
       "      <td>1.000000e+00</td>\n",
       "    </tr>\n",
       "    <tr>\n",
       "      <th>25%</th>\n",
       "      <td>9.035272e+08</td>\n",
       "      <td>5.399808e+08</td>\n",
       "      <td>8.411000e+03</td>\n",
       "      <td>1.630000e+02</td>\n",
       "      <td>4.700000e+01</td>\n",
       "      <td>2.000000e+00</td>\n",
       "      <td>3.400000e+02</td>\n",
       "    </tr>\n",
       "    <tr>\n",
       "      <th>50%</th>\n",
       "      <td>2.941001e+09</td>\n",
       "      <td>1.070873e+09</td>\n",
       "      <td>1.619200e+04</td>\n",
       "      <td>3.950000e+02</td>\n",
       "      <td>8.500000e+01</td>\n",
       "      <td>5.000000e+00</td>\n",
       "      <td>8.240000e+02</td>\n",
       "    </tr>\n",
       "    <tr>\n",
       "      <th>75%</th>\n",
       "      <td>9.660320e+09</td>\n",
       "      <td>1.617566e+09</td>\n",
       "      <td>2.498500e+04</td>\n",
       "      <td>8.850000e+02</td>\n",
       "      <td>1.390000e+02</td>\n",
       "      <td>5.000000e+00</td>\n",
       "      <td>1.834000e+03</td>\n",
       "    </tr>\n",
       "    <tr>\n",
       "      <th>max</th>\n",
       "      <td>8.719274e+10</td>\n",
       "      <td>2.147482e+09</td>\n",
       "      <td>3.273600e+04</td>\n",
       "      <td>9.999000e+03</td>\n",
       "      <td>1.870000e+02</td>\n",
       "      <td>7.000000e+00</td>\n",
       "      <td>1.430000e+04</td>\n",
       "    </tr>\n",
       "  </tbody>\n",
       "</table>\n",
       "</div>"
      ],
      "text/plain": [
       "          timestamp       user_id    content_id  task_container_id  \\\n",
       "count  1.959032e+06  1.959032e+06  1.959032e+06       1.959032e+06   \n",
       "mean   7.783985e+09  1.076071e+09  1.663167e+04       7.140932e+02   \n",
       "std    1.147407e+10  6.205695e+08  9.565665e+03       9.420555e+02   \n",
       "min    0.000000e+00  2.746000e+03  8.900000e+01       0.000000e+00   \n",
       "25%    9.035272e+08  5.399808e+08  8.411000e+03       1.630000e+02   \n",
       "50%    2.941001e+09  1.070873e+09  1.619200e+04       3.950000e+02   \n",
       "75%    9.660320e+09  1.617566e+09  2.498500e+04       8.850000e+02   \n",
       "max    8.719274e+10  2.147482e+09  3.273600e+04       9.999000e+03   \n",
       "\n",
       "                tag          part  correct_answers_number  \n",
       "count  1.959032e+06  1.959032e+06            1.959032e+06  \n",
       "mean   9.109704e+01  4.083047e+00            1.445312e+03  \n",
       "std    5.438902e+01  1.675365e+00            1.759735e+03  \n",
       "min    0.000000e+00  1.000000e+00            1.000000e+00  \n",
       "25%    4.700000e+01  2.000000e+00            3.400000e+02  \n",
       "50%    8.500000e+01  5.000000e+00            8.240000e+02  \n",
       "75%    1.390000e+02  5.000000e+00            1.834000e+03  \n",
       "max    1.870000e+02  7.000000e+00            1.430000e+04  "
      ]
     },
     "execution_count": 263,
     "metadata": {},
     "output_type": "execute_result"
    }
   ],
   "source": [
    "train_lectures.describe()"
   ]
  },
  {
   "cell_type": "code",
   "execution_count": null,
   "id": "a0353820-a8ed-4457-a156-e0c950f98452",
   "metadata": {},
   "outputs": [],
   "source": [
    "# В таблице представлены основные статистические параметры для столбцов с целочисленным типом данных.\n",
    "\n",
    "# Значения идентификаторов лекций (\"content_id\") варьируют от 89 до 32736, все значения уникальны. \n",
    "# Значения task_container_id варьируют от 0 до 99990.\n",
    "# Значения меток (\"tags\") варьируют от 0 до 187.\n",
    "# Значения кода категорий верхнего уровня для лекций (\"part\") последовательно варьируют от 1 до 7.\n",
    "# Всего в таблице 1959032 строк."
   ]
  },
  {
   "cell_type": "code",
   "execution_count": 257,
   "id": "9bb40f58-64a7-4d49-af9d-c83f901044c9",
   "metadata": {},
   "outputs": [],
   "source": [
    "# Добавляем в таблицу столбец, содержащий число правильных ответов для конкретного пользователя\n",
    "train_lectures['correct_answers_number']=train_lectures['user_id'].apply( lambda x: user_correct_answers[x])   "
   ]
  },
  {
   "cell_type": "code",
   "execution_count": 259,
   "id": "23b038b3-1c34-4141-b68e-a9834959a15d",
   "metadata": {},
   "outputs": [
    {
     "data": {
      "text/plain": [
       "<matplotlib.axes._subplots.AxesSubplot at 0x1a5b298bdf0>"
      ]
     },
     "execution_count": 259,
     "metadata": {},
     "output_type": "execute_result"
    },
    {
     "data": {
      "image/png": "[encoded data removed]",
      "text/plain": [
       "<Figure size 640x480 with 1 Axes>"
      ]
     },
     "metadata": {},
     "output_type": "display_data"
    }
   ],
   "source": [
    "train_lectures.plot.scatter(x='tag',y='correct_answers_number')"
   ]
  },
  {
   "cell_type": "code",
   "execution_count": null,
   "id": "2723f5cf-57bf-4a4e-8aad-4976a6eb5303",
   "metadata": {},
   "outputs": [],
   "source": [
    "# Вывод: tag слабо коррелирует с числом правильных ответов. Для отдельных tag наблюдается некоторое снижение данного числа."
   ]
  },
  {
   "cell_type": "code",
   "execution_count": 260,
   "id": "2a1dbf7e-ca01-40b6-a630-4483bee333d6",
   "metadata": {},
   "outputs": [
    {
     "data": {
      "text/plain": [
       "<matplotlib.axes._subplots.AxesSubplot at 0x1a693f72f70>"
      ]
     },
     "execution_count": 260,
     "metadata": {},
     "output_type": "execute_result"
    },
    {
     "data": {
      "image/png": "[encoded data removed]",
      "text/plain": [
       "<Figure size 640x480 with 1 Axes>"
      ]
     },
     "metadata": {},
     "output_type": "display_data"
    }
   ],
   "source": [
    "train_lectures.plot.scatter(x='task_container_id',y='correct_answers_number')"
   ]
  },
  {
   "cell_type": "code",
   "execution_count": null,
   "id": "eaa04748-271d-421b-8718-0d43c8a1b08c",
   "metadata": {},
   "outputs": [],
   "source": [
    "# Вывод: с увеличением task_container_number увеличивается число правильных ответов на вопросы. \n",
    "# При этом максимальное число правильных ответов наблюдается при низких значениях параметра,\n",
    "# а при высоких оно несколько снижается."
   ]
  },
  {
   "cell_type": "code",
   "execution_count": 261,
   "id": "a8ba1b0c-0f05-42b7-8a9f-be330059014d",
   "metadata": {},
   "outputs": [
    {
     "data": {
      "text/plain": [
       "<matplotlib.axes._subplots.AxesSubplot at 0x1a6648819d0>"
      ]
     },
     "execution_count": 261,
     "metadata": {},
     "output_type": "execute_result"
    },
    {
     "data": {
      "image/png": "[encoded data removed]",
      "text/plain": [
       "<Figure size 640x480 with 1 Axes>"
      ]
     },
     "metadata": {},
     "output_type": "display_data"
    }
   ],
   "source": [
    "train_lectures.plot.scatter(x='type_of',y='correct_answers_number')"
   ]
  },
  {
   "cell_type": "code",
   "execution_count": null,
   "id": "64b70631-55c0-42f5-ae70-d8ef69f043e0",
   "metadata": {},
   "outputs": [],
   "source": [
    "# Вывод: число правильных ответов многократно ниже, если тип лекции - starter. При трех других типах лекций число правильных ответов практически одинаково."
   ]
  },
  {
   "cell_type": "code",
   "execution_count": 264,
   "id": "7f3afaf7-4ec2-4c10-a9ba-cbde00c11635",
   "metadata": {},
   "outputs": [
    {
     "data": {
      "text/plain": [
       "<matplotlib.axes._subplots.AxesSubplot at 0x1a5b72d57c0>"
      ]
     },
     "execution_count": 264,
     "metadata": {},
     "output_type": "execute_result"
    },
    {
     "data": {
      "image/png": "[encoded data removed]",
      "text/plain": [
       "<Figure size 640x480 with 1 Axes>"
      ]
     },
     "metadata": {},
     "output_type": "display_data"
    }
   ],
   "source": [
    "train_lectures.plot.scatter(x='part',y='correct_answers_number')"
   ]
  },
  {
   "cell_type": "code",
   "execution_count": null,
   "id": "535b3283-609e-48d9-a32b-37ab0f6d1d2c",
   "metadata": {},
   "outputs": [],
   "source": [
    "# Вывод: количество правильных ответов мало коррелирует с параметром part. Минимальное значение показано для part = 4 и 7\n",
    "# (для 7 также было минимальным в train_questions)."
   ]
  }
 ],
 "metadata": {
  "kernelspec": {
   "display_name": "Python 3 (ipykernel)",
   "language": "python",
   "name": "python3"
  },
  "language_info": {
   "codemirror_mode": {
    "name": "ipython",
    "version": 3
   },
   "file_extension": ".py",
   "mimetype": "text/x-python",
   "name": "python",
   "nbconvert_exporter": "python",
   "pygments_lexer": "ipython3",
   "version": "3.8.2"
  },
  "toc-autonumbering": true
 },
 "nbformat": 4,
 "nbformat_minor": 5
}
