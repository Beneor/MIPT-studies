{
  "nbformat": 4,
  "nbformat_minor": 0,
  "metadata": {
    "colab": {
      "provenance": [],
      "gpuType": "T4"
    },
    "kernelspec": {
      "name": "python3",
      "display_name": "Python 3"
    },
    "language_info": {
      "name": "python"
    },
    "widgets": {
      "application/vnd.jupyter.widget-state+json": {
        "7be5822854c94d7284496b80f413b66c": {
          "model_module": "@jupyter-widgets/controls",
          "model_name": "HBoxModel",
          "model_module_version": "1.5.0",
          "state": {
            "_dom_classes": [],
            "_model_module": "@jupyter-widgets/controls",
            "_model_module_version": "1.5.0",
            "_model_name": "HBoxModel",
            "_view_count": null,
            "_view_module": "@jupyter-widgets/controls",
            "_view_module_version": "1.5.0",
            "_view_name": "HBoxView",
            "box_style": "",
            "children": [
              "IPY_MODEL_77798232cf75415a98ca8bd6e0864784",
              "IPY_MODEL_3f86303993d94cdbb63ea6dcddd59352",
              "IPY_MODEL_4c4248b6cc42411ab5452488c66c37c8"
            ],
            "layout": "IPY_MODEL_7616421703cf416fb31a3882735b6882"
          }
        },
        "77798232cf75415a98ca8bd6e0864784": {
          "model_module": "@jupyter-widgets/controls",
          "model_name": "HTMLModel",
          "model_module_version": "1.5.0",
          "state": {
            "_dom_classes": [],
            "_model_module": "@jupyter-widgets/controls",
            "_model_module_version": "1.5.0",
            "_model_name": "HTMLModel",
            "_view_count": null,
            "_view_module": "@jupyter-widgets/controls",
            "_view_module_version": "1.5.0",
            "_view_name": "HTMLView",
            "description": "",
            "description_tooltip": null,
            "layout": "IPY_MODEL_27fc8fad494940efaaf9f9999d5bfd24",
            "placeholder": "​",
            "style": "IPY_MODEL_28c153eb99a74803b23d851f8a3096b9",
            "value": "config.json: 100%"
          }
        },
        "3f86303993d94cdbb63ea6dcddd59352": {
          "model_module": "@jupyter-widgets/controls",
          "model_name": "FloatProgressModel",
          "model_module_version": "1.5.0",
          "state": {
            "_dom_classes": [],
            "_model_module": "@jupyter-widgets/controls",
            "_model_module_version": "1.5.0",
            "_model_name": "FloatProgressModel",
            "_view_count": null,
            "_view_module": "@jupyter-widgets/controls",
            "_view_module_version": "1.5.0",
            "_view_name": "ProgressView",
            "bar_style": "success",
            "description": "",
            "description_tooltip": null,
            "layout": "IPY_MODEL_86651ddfde6847048c013430cc15c792",
            "max": 483,
            "min": 0,
            "orientation": "horizontal",
            "style": "IPY_MODEL_f1079d9646204e76b8c2ae0d9de76432",
            "value": 483
          }
        },
        "4c4248b6cc42411ab5452488c66c37c8": {
          "model_module": "@jupyter-widgets/controls",
          "model_name": "HTMLModel",
          "model_module_version": "1.5.0",
          "state": {
            "_dom_classes": [],
            "_model_module": "@jupyter-widgets/controls",
            "_model_module_version": "1.5.0",
            "_model_name": "HTMLModel",
            "_view_count": null,
            "_view_module": "@jupyter-widgets/controls",
            "_view_module_version": "1.5.0",
            "_view_name": "HTMLView",
            "description": "",
            "description_tooltip": null,
            "layout": "IPY_MODEL_fdbbb1ae162c4a49a03538e0c3bcbae1",
            "placeholder": "​",
            "style": "IPY_MODEL_7b54904fa46b4e97a74a0841fe4158d6",
            "value": " 483/483 [00:00&lt;00:00, 30.3kB/s]"
          }
        },
        "7616421703cf416fb31a3882735b6882": {
          "model_module": "@jupyter-widgets/base",
          "model_name": "LayoutModel",
          "model_module_version": "1.2.0",
          "state": {
            "_model_module": "@jupyter-widgets/base",
            "_model_module_version": "1.2.0",
            "_model_name": "LayoutModel",
            "_view_count": null,
            "_view_module": "@jupyter-widgets/base",
            "_view_module_version": "1.2.0",
            "_view_name": "LayoutView",
            "align_content": null,
            "align_items": null,
            "align_self": null,
            "border": null,
            "bottom": null,
            "display": null,
            "flex": null,
            "flex_flow": null,
            "grid_area": null,
            "grid_auto_columns": null,
            "grid_auto_flow": null,
            "grid_auto_rows": null,
            "grid_column": null,
            "grid_gap": null,
            "grid_row": null,
            "grid_template_areas": null,
            "grid_template_columns": null,
            "grid_template_rows": null,
            "height": null,
            "justify_content": null,
            "justify_items": null,
            "left": null,
            "margin": null,
            "max_height": null,
            "max_width": null,
            "min_height": null,
            "min_width": null,
            "object_fit": null,
            "object_position": null,
            "order": null,
            "overflow": null,
            "overflow_x": null,
            "overflow_y": null,
            "padding": null,
            "right": null,
            "top": null,
            "visibility": null,
            "width": null
          }
        },
        "27fc8fad494940efaaf9f9999d5bfd24": {
          "model_module": "@jupyter-widgets/base",
          "model_name": "LayoutModel",
          "model_module_version": "1.2.0",
          "state": {
            "_model_module": "@jupyter-widgets/base",
            "_model_module_version": "1.2.0",
            "_model_name": "LayoutModel",
            "_view_count": null,
            "_view_module": "@jupyter-widgets/base",
            "_view_module_version": "1.2.0",
            "_view_name": "LayoutView",
            "align_content": null,
            "align_items": null,
            "align_self": null,
            "border": null,
            "bottom": null,
            "display": null,
            "flex": null,
            "flex_flow": null,
            "grid_area": null,
            "grid_auto_columns": null,
            "grid_auto_flow": null,
            "grid_auto_rows": null,
            "grid_column": null,
            "grid_gap": null,
            "grid_row": null,
            "grid_template_areas": null,
            "grid_template_columns": null,
            "grid_template_rows": null,
            "height": null,
            "justify_content": null,
            "justify_items": null,
            "left": null,
            "margin": null,
            "max_height": null,
            "max_width": null,
            "min_height": null,
            "min_width": null,
            "object_fit": null,
            "object_position": null,
            "order": null,
            "overflow": null,
            "overflow_x": null,
            "overflow_y": null,
            "padding": null,
            "right": null,
            "top": null,
            "visibility": null,
            "width": null
          }
        },
        "28c153eb99a74803b23d851f8a3096b9": {
          "model_module": "@jupyter-widgets/controls",
          "model_name": "DescriptionStyleModel",
          "model_module_version": "1.5.0",
          "state": {
            "_model_module": "@jupyter-widgets/controls",
            "_model_module_version": "1.5.0",
            "_model_name": "DescriptionStyleModel",
            "_view_count": null,
            "_view_module": "@jupyter-widgets/base",
            "_view_module_version": "1.2.0",
            "_view_name": "StyleView",
            "description_width": ""
          }
        },
        "86651ddfde6847048c013430cc15c792": {
          "model_module": "@jupyter-widgets/base",
          "model_name": "LayoutModel",
          "model_module_version": "1.2.0",
          "state": {
            "_model_module": "@jupyter-widgets/base",
            "_model_module_version": "1.2.0",
            "_model_name": "LayoutModel",
            "_view_count": null,
            "_view_module": "@jupyter-widgets/base",
            "_view_module_version": "1.2.0",
            "_view_name": "LayoutView",
            "align_content": null,
            "align_items": null,
            "align_self": null,
            "border": null,
            "bottom": null,
            "display": null,
            "flex": null,
            "flex_flow": null,
            "grid_area": null,
            "grid_auto_columns": null,
            "grid_auto_flow": null,
            "grid_auto_rows": null,
            "grid_column": null,
            "grid_gap": null,
            "grid_row": null,
            "grid_template_areas": null,
            "grid_template_columns": null,
            "grid_template_rows": null,
            "height": null,
            "justify_content": null,
            "justify_items": null,
            "left": null,
            "margin": null,
            "max_height": null,
            "max_width": null,
            "min_height": null,
            "min_width": null,
            "object_fit": null,
            "object_position": null,
            "order": null,
            "overflow": null,
            "overflow_x": null,
            "overflow_y": null,
            "padding": null,
            "right": null,
            "top": null,
            "visibility": null,
            "width": null
          }
        },
        "f1079d9646204e76b8c2ae0d9de76432": {
          "model_module": "@jupyter-widgets/controls",
          "model_name": "ProgressStyleModel",
          "model_module_version": "1.5.0",
          "state": {
            "_model_module": "@jupyter-widgets/controls",
            "_model_module_version": "1.5.0",
            "_model_name": "ProgressStyleModel",
            "_view_count": null,
            "_view_module": "@jupyter-widgets/base",
            "_view_module_version": "1.2.0",
            "_view_name": "StyleView",
            "bar_color": null,
            "description_width": ""
          }
        },
        "fdbbb1ae162c4a49a03538e0c3bcbae1": {
          "model_module": "@jupyter-widgets/base",
          "model_name": "LayoutModel",
          "model_module_version": "1.2.0",
          "state": {
            "_model_module": "@jupyter-widgets/base",
            "_model_module_version": "1.2.0",
            "_model_name": "LayoutModel",
            "_view_count": null,
            "_view_module": "@jupyter-widgets/base",
            "_view_module_version": "1.2.0",
            "_view_name": "LayoutView",
            "align_content": null,
            "align_items": null,
            "align_self": null,
            "border": null,
            "bottom": null,
            "display": null,
            "flex": null,
            "flex_flow": null,
            "grid_area": null,
            "grid_auto_columns": null,
            "grid_auto_flow": null,
            "grid_auto_rows": null,
            "grid_column": null,
            "grid_gap": null,
            "grid_row": null,
            "grid_template_areas": null,
            "grid_template_columns": null,
            "grid_template_rows": null,
            "height": null,
            "justify_content": null,
            "justify_items": null,
            "left": null,
            "margin": null,
            "max_height": null,
            "max_width": null,
            "min_height": null,
            "min_width": null,
            "object_fit": null,
            "object_position": null,
            "order": null,
            "overflow": null,
            "overflow_x": null,
            "overflow_y": null,
            "padding": null,
            "right": null,
            "top": null,
            "visibility": null,
            "width": null
          }
        },
        "7b54904fa46b4e97a74a0841fe4158d6": {
          "model_module": "@jupyter-widgets/controls",
          "model_name": "DescriptionStyleModel",
          "model_module_version": "1.5.0",
          "state": {
            "_model_module": "@jupyter-widgets/controls",
            "_model_module_version": "1.5.0",
            "_model_name": "DescriptionStyleModel",
            "_view_count": null,
            "_view_module": "@jupyter-widgets/base",
            "_view_module_version": "1.2.0",
            "_view_name": "StyleView",
            "description_width": ""
          }
        },
        "3230621d7c574afc89796ea749f1d58d": {
          "model_module": "@jupyter-widgets/controls",
          "model_name": "HBoxModel",
          "model_module_version": "1.5.0",
          "state": {
            "_dom_classes": [],
            "_model_module": "@jupyter-widgets/controls",
            "_model_module_version": "1.5.0",
            "_model_name": "HBoxModel",
            "_view_count": null,
            "_view_module": "@jupyter-widgets/controls",
            "_view_module_version": "1.5.0",
            "_view_name": "HBoxView",
            "box_style": "",
            "children": [
              "IPY_MODEL_65bf74bcc64d481e9ad6a1f6ad825c5b",
              "IPY_MODEL_a2af34f2ccc04c2ebc34376df804af8a",
              "IPY_MODEL_258e89aeff12435bab2c1288c5c78223"
            ],
            "layout": "IPY_MODEL_f8d6d10bc0964ca3be1b6b4f8cb12cab"
          }
        },
        "65bf74bcc64d481e9ad6a1f6ad825c5b": {
          "model_module": "@jupyter-widgets/controls",
          "model_name": "HTMLModel",
          "model_module_version": "1.5.0",
          "state": {
            "_dom_classes": [],
            "_model_module": "@jupyter-widgets/controls",
            "_model_module_version": "1.5.0",
            "_model_name": "HTMLModel",
            "_view_count": null,
            "_view_module": "@jupyter-widgets/controls",
            "_view_module_version": "1.5.0",
            "_view_name": "HTMLView",
            "description": "",
            "description_tooltip": null,
            "layout": "IPY_MODEL_bf2d17354b16407e889e1fdc324208dd",
            "placeholder": "​",
            "style": "IPY_MODEL_a719cdd3ee8f4fe0bc39c249d47b6284",
            "value": "model.safetensors: 100%"
          }
        },
        "a2af34f2ccc04c2ebc34376df804af8a": {
          "model_module": "@jupyter-widgets/controls",
          "model_name": "FloatProgressModel",
          "model_module_version": "1.5.0",
          "state": {
            "_dom_classes": [],
            "_model_module": "@jupyter-widgets/controls",
            "_model_module_version": "1.5.0",
            "_model_name": "FloatProgressModel",
            "_view_count": null,
            "_view_module": "@jupyter-widgets/controls",
            "_view_module_version": "1.5.0",
            "_view_name": "ProgressView",
            "bar_style": "success",
            "description": "",
            "description_tooltip": null,
            "layout": "IPY_MODEL_6a9becc650bd4e629d69803620d52144",
            "max": 267954768,
            "min": 0,
            "orientation": "horizontal",
            "style": "IPY_MODEL_0ee1ea81cd454077a8bdeccbd1a32eea",
            "value": 267954768
          }
        },
        "258e89aeff12435bab2c1288c5c78223": {
          "model_module": "@jupyter-widgets/controls",
          "model_name": "HTMLModel",
          "model_module_version": "1.5.0",
          "state": {
            "_dom_classes": [],
            "_model_module": "@jupyter-widgets/controls",
            "_model_module_version": "1.5.0",
            "_model_name": "HTMLModel",
            "_view_count": null,
            "_view_module": "@jupyter-widgets/controls",
            "_view_module_version": "1.5.0",
            "_view_name": "HTMLView",
            "description": "",
            "description_tooltip": null,
            "layout": "IPY_MODEL_70737cf014ae4e1c94240375506f6b88",
            "placeholder": "​",
            "style": "IPY_MODEL_1df97c9565744b538ef7b25ec1e9168d",
            "value": " 268M/268M [00:01&lt;00:00, 202MB/s]"
          }
        },
        "f8d6d10bc0964ca3be1b6b4f8cb12cab": {
          "model_module": "@jupyter-widgets/base",
          "model_name": "LayoutModel",
          "model_module_version": "1.2.0",
          "state": {
            "_model_module": "@jupyter-widgets/base",
            "_model_module_version": "1.2.0",
            "_model_name": "LayoutModel",
            "_view_count": null,
            "_view_module": "@jupyter-widgets/base",
            "_view_module_version": "1.2.0",
            "_view_name": "LayoutView",
            "align_content": null,
            "align_items": null,
            "align_self": null,
            "border": null,
            "bottom": null,
            "display": null,
            "flex": null,
            "flex_flow": null,
            "grid_area": null,
            "grid_auto_columns": null,
            "grid_auto_flow": null,
            "grid_auto_rows": null,
            "grid_column": null,
            "grid_gap": null,
            "grid_row": null,
            "grid_template_areas": null,
            "grid_template_columns": null,
            "grid_template_rows": null,
            "height": null,
            "justify_content": null,
            "justify_items": null,
            "left": null,
            "margin": null,
            "max_height": null,
            "max_width": null,
            "min_height": null,
            "min_width": null,
            "object_fit": null,
            "object_position": null,
            "order": null,
            "overflow": null,
            "overflow_x": null,
            "overflow_y": null,
            "padding": null,
            "right": null,
            "top": null,
            "visibility": null,
            "width": null
          }
        },
        "bf2d17354b16407e889e1fdc324208dd": {
          "model_module": "@jupyter-widgets/base",
          "model_name": "LayoutModel",
          "model_module_version": "1.2.0",
          "state": {
            "_model_module": "@jupyter-widgets/base",
            "_model_module_version": "1.2.0",
            "_model_name": "LayoutModel",
            "_view_count": null,
            "_view_module": "@jupyter-widgets/base",
            "_view_module_version": "1.2.0",
            "_view_name": "LayoutView",
            "align_content": null,
            "align_items": null,
            "align_self": null,
            "border": null,
            "bottom": null,
            "display": null,
            "flex": null,
            "flex_flow": null,
            "grid_area": null,
            "grid_auto_columns": null,
            "grid_auto_flow": null,
            "grid_auto_rows": null,
            "grid_column": null,
            "grid_gap": null,
            "grid_row": null,
            "grid_template_areas": null,
            "grid_template_columns": null,
            "grid_template_rows": null,
            "height": null,
            "justify_content": null,
            "justify_items": null,
            "left": null,
            "margin": null,
            "max_height": null,
            "max_width": null,
            "min_height": null,
            "min_width": null,
            "object_fit": null,
            "object_position": null,
            "order": null,
            "overflow": null,
            "overflow_x": null,
            "overflow_y": null,
            "padding": null,
            "right": null,
            "top": null,
            "visibility": null,
            "width": null
          }
        },
        "a719cdd3ee8f4fe0bc39c249d47b6284": {
          "model_module": "@jupyter-widgets/controls",
          "model_name": "DescriptionStyleModel",
          "model_module_version": "1.5.0",
          "state": {
            "_model_module": "@jupyter-widgets/controls",
            "_model_module_version": "1.5.0",
            "_model_name": "DescriptionStyleModel",
            "_view_count": null,
            "_view_module": "@jupyter-widgets/base",
            "_view_module_version": "1.2.0",
            "_view_name": "StyleView",
            "description_width": ""
          }
        },
        "6a9becc650bd4e629d69803620d52144": {
          "model_module": "@jupyter-widgets/base",
          "model_name": "LayoutModel",
          "model_module_version": "1.2.0",
          "state": {
            "_model_module": "@jupyter-widgets/base",
            "_model_module_version": "1.2.0",
            "_model_name": "LayoutModel",
            "_view_count": null,
            "_view_module": "@jupyter-widgets/base",
            "_view_module_version": "1.2.0",
            "_view_name": "LayoutView",
            "align_content": null,
            "align_items": null,
            "align_self": null,
            "border": null,
            "bottom": null,
            "display": null,
            "flex": null,
            "flex_flow": null,
            "grid_area": null,
            "grid_auto_columns": null,
            "grid_auto_flow": null,
            "grid_auto_rows": null,
            "grid_column": null,
            "grid_gap": null,
            "grid_row": null,
            "grid_template_areas": null,
            "grid_template_columns": null,
            "grid_template_rows": null,
            "height": null,
            "justify_content": null,
            "justify_items": null,
            "left": null,
            "margin": null,
            "max_height": null,
            "max_width": null,
            "min_height": null,
            "min_width": null,
            "object_fit": null,
            "object_position": null,
            "order": null,
            "overflow": null,
            "overflow_x": null,
            "overflow_y": null,
            "padding": null,
            "right": null,
            "top": null,
            "visibility": null,
            "width": null
          }
        },
        "0ee1ea81cd454077a8bdeccbd1a32eea": {
          "model_module": "@jupyter-widgets/controls",
          "model_name": "ProgressStyleModel",
          "model_module_version": "1.5.0",
          "state": {
            "_model_module": "@jupyter-widgets/controls",
            "_model_module_version": "1.5.0",
            "_model_name": "ProgressStyleModel",
            "_view_count": null,
            "_view_module": "@jupyter-widgets/base",
            "_view_module_version": "1.2.0",
            "_view_name": "StyleView",
            "bar_color": null,
            "description_width": ""
          }
        },
        "70737cf014ae4e1c94240375506f6b88": {
          "model_module": "@jupyter-widgets/base",
          "model_name": "LayoutModel",
          "model_module_version": "1.2.0",
          "state": {
            "_model_module": "@jupyter-widgets/base",
            "_model_module_version": "1.2.0",
            "_model_name": "LayoutModel",
            "_view_count": null,
            "_view_module": "@jupyter-widgets/base",
            "_view_module_version": "1.2.0",
            "_view_name": "LayoutView",
            "align_content": null,
            "align_items": null,
            "align_self": null,
            "border": null,
            "bottom": null,
            "display": null,
            "flex": null,
            "flex_flow": null,
            "grid_area": null,
            "grid_auto_columns": null,
            "grid_auto_flow": null,
            "grid_auto_rows": null,
            "grid_column": null,
            "grid_gap": null,
            "grid_row": null,
            "grid_template_areas": null,
            "grid_template_columns": null,
            "grid_template_rows": null,
            "height": null,
            "justify_content": null,
            "justify_items": null,
            "left": null,
            "margin": null,
            "max_height": null,
            "max_width": null,
            "min_height": null,
            "min_width": null,
            "object_fit": null,
            "object_position": null,
            "order": null,
            "overflow": null,
            "overflow_x": null,
            "overflow_y": null,
            "padding": null,
            "right": null,
            "top": null,
            "visibility": null,
            "width": null
          }
        },
        "1df97c9565744b538ef7b25ec1e9168d": {
          "model_module": "@jupyter-widgets/controls",
          "model_name": "DescriptionStyleModel",
          "model_module_version": "1.5.0",
          "state": {
            "_model_module": "@jupyter-widgets/controls",
            "_model_module_version": "1.5.0",
            "_model_name": "DescriptionStyleModel",
            "_view_count": null,
            "_view_module": "@jupyter-widgets/base",
            "_view_module_version": "1.2.0",
            "_view_name": "StyleView",
            "description_width": ""
          }
        },
        "d4bcbccaf91d45a7b94f281511d1d268": {
          "model_module": "@jupyter-widgets/controls",
          "model_name": "HBoxModel",
          "model_module_version": "1.5.0",
          "state": {
            "_dom_classes": [],
            "_model_module": "@jupyter-widgets/controls",
            "_model_module_version": "1.5.0",
            "_model_name": "HBoxModel",
            "_view_count": null,
            "_view_module": "@jupyter-widgets/controls",
            "_view_module_version": "1.5.0",
            "_view_name": "HBoxView",
            "box_style": "",
            "children": [
              "IPY_MODEL_a9b62420f4c14df29040566e5b3b4c1f",
              "IPY_MODEL_f74a00d91f0b47a5a8633cc773e97121",
              "IPY_MODEL_9d30516200bf4336b3dba082e0aefa90"
            ],
            "layout": "IPY_MODEL_3467f05b92b34d67a2e589bbc5d157cd"
          }
        },
        "a9b62420f4c14df29040566e5b3b4c1f": {
          "model_module": "@jupyter-widgets/controls",
          "model_name": "HTMLModel",
          "model_module_version": "1.5.0",
          "state": {
            "_dom_classes": [],
            "_model_module": "@jupyter-widgets/controls",
            "_model_module_version": "1.5.0",
            "_model_name": "HTMLModel",
            "_view_count": null,
            "_view_module": "@jupyter-widgets/controls",
            "_view_module_version": "1.5.0",
            "_view_name": "HTMLView",
            "description": "",
            "description_tooltip": null,
            "layout": "IPY_MODEL_bfd8c50a59ac4b1a83d588900fa97413",
            "placeholder": "​",
            "style": "IPY_MODEL_5d1adfa1515c4ab69d73652d59921396",
            "value": "tokenizer_config.json: 100%"
          }
        },
        "f74a00d91f0b47a5a8633cc773e97121": {
          "model_module": "@jupyter-widgets/controls",
          "model_name": "FloatProgressModel",
          "model_module_version": "1.5.0",
          "state": {
            "_dom_classes": [],
            "_model_module": "@jupyter-widgets/controls",
            "_model_module_version": "1.5.0",
            "_model_name": "FloatProgressModel",
            "_view_count": null,
            "_view_module": "@jupyter-widgets/controls",
            "_view_module_version": "1.5.0",
            "_view_name": "ProgressView",
            "bar_style": "success",
            "description": "",
            "description_tooltip": null,
            "layout": "IPY_MODEL_355d5d4289aa44c6ab4b74b07c4c718f",
            "max": 28,
            "min": 0,
            "orientation": "horizontal",
            "style": "IPY_MODEL_54dad026a92e44349446164a7470c93f",
            "value": 28
          }
        },
        "9d30516200bf4336b3dba082e0aefa90": {
          "model_module": "@jupyter-widgets/controls",
          "model_name": "HTMLModel",
          "model_module_version": "1.5.0",
          "state": {
            "_dom_classes": [],
            "_model_module": "@jupyter-widgets/controls",
            "_model_module_version": "1.5.0",
            "_model_name": "HTMLModel",
            "_view_count": null,
            "_view_module": "@jupyter-widgets/controls",
            "_view_module_version": "1.5.0",
            "_view_name": "HTMLView",
            "description": "",
            "description_tooltip": null,
            "layout": "IPY_MODEL_19ea747439b7468ca2086de640afe287",
            "placeholder": "​",
            "style": "IPY_MODEL_b705c094526f414db2d21dcec6af78a8",
            "value": " 28.0/28.0 [00:00&lt;00:00, 1.77kB/s]"
          }
        },
        "3467f05b92b34d67a2e589bbc5d157cd": {
          "model_module": "@jupyter-widgets/base",
          "model_name": "LayoutModel",
          "model_module_version": "1.2.0",
          "state": {
            "_model_module": "@jupyter-widgets/base",
            "_model_module_version": "1.2.0",
            "_model_name": "LayoutModel",
            "_view_count": null,
            "_view_module": "@jupyter-widgets/base",
            "_view_module_version": "1.2.0",
            "_view_name": "LayoutView",
            "align_content": null,
            "align_items": null,
            "align_self": null,
            "border": null,
            "bottom": null,
            "display": null,
            "flex": null,
            "flex_flow": null,
            "grid_area": null,
            "grid_auto_columns": null,
            "grid_auto_flow": null,
            "grid_auto_rows": null,
            "grid_column": null,
            "grid_gap": null,
            "grid_row": null,
            "grid_template_areas": null,
            "grid_template_columns": null,
            "grid_template_rows": null,
            "height": null,
            "justify_content": null,
            "justify_items": null,
            "left": null,
            "margin": null,
            "max_height": null,
            "max_width": null,
            "min_height": null,
            "min_width": null,
            "object_fit": null,
            "object_position": null,
            "order": null,
            "overflow": null,
            "overflow_x": null,
            "overflow_y": null,
            "padding": null,
            "right": null,
            "top": null,
            "visibility": null,
            "width": null
          }
        },
        "bfd8c50a59ac4b1a83d588900fa97413": {
          "model_module": "@jupyter-widgets/base",
          "model_name": "LayoutModel",
          "model_module_version": "1.2.0",
          "state": {
            "_model_module": "@jupyter-widgets/base",
            "_model_module_version": "1.2.0",
            "_model_name": "LayoutModel",
            "_view_count": null,
            "_view_module": "@jupyter-widgets/base",
            "_view_module_version": "1.2.0",
            "_view_name": "LayoutView",
            "align_content": null,
            "align_items": null,
            "align_self": null,
            "border": null,
            "bottom": null,
            "display": null,
            "flex": null,
            "flex_flow": null,
            "grid_area": null,
            "grid_auto_columns": null,
            "grid_auto_flow": null,
            "grid_auto_rows": null,
            "grid_column": null,
            "grid_gap": null,
            "grid_row": null,
            "grid_template_areas": null,
            "grid_template_columns": null,
            "grid_template_rows": null,
            "height": null,
            "justify_content": null,
            "justify_items": null,
            "left": null,
            "margin": null,
            "max_height": null,
            "max_width": null,
            "min_height": null,
            "min_width": null,
            "object_fit": null,
            "object_position": null,
            "order": null,
            "overflow": null,
            "overflow_x": null,
            "overflow_y": null,
            "padding": null,
            "right": null,
            "top": null,
            "visibility": null,
            "width": null
          }
        },
        "5d1adfa1515c4ab69d73652d59921396": {
          "model_module": "@jupyter-widgets/controls",
          "model_name": "DescriptionStyleModel",
          "model_module_version": "1.5.0",
          "state": {
            "_model_module": "@jupyter-widgets/controls",
            "_model_module_version": "1.5.0",
            "_model_name": "DescriptionStyleModel",
            "_view_count": null,
            "_view_module": "@jupyter-widgets/base",
            "_view_module_version": "1.2.0",
            "_view_name": "StyleView",
            "description_width": ""
          }
        },
        "355d5d4289aa44c6ab4b74b07c4c718f": {
          "model_module": "@jupyter-widgets/base",
          "model_name": "LayoutModel",
          "model_module_version": "1.2.0",
          "state": {
            "_model_module": "@jupyter-widgets/base",
            "_model_module_version": "1.2.0",
            "_model_name": "LayoutModel",
            "_view_count": null,
            "_view_module": "@jupyter-widgets/base",
            "_view_module_version": "1.2.0",
            "_view_name": "LayoutView",
            "align_content": null,
            "align_items": null,
            "align_self": null,
            "border": null,
            "bottom": null,
            "display": null,
            "flex": null,
            "flex_flow": null,
            "grid_area": null,
            "grid_auto_columns": null,
            "grid_auto_flow": null,
            "grid_auto_rows": null,
            "grid_column": null,
            "grid_gap": null,
            "grid_row": null,
            "grid_template_areas": null,
            "grid_template_columns": null,
            "grid_template_rows": null,
            "height": null,
            "justify_content": null,
            "justify_items": null,
            "left": null,
            "margin": null,
            "max_height": null,
            "max_width": null,
            "min_height": null,
            "min_width": null,
            "object_fit": null,
            "object_position": null,
            "order": null,
            "overflow": null,
            "overflow_x": null,
            "overflow_y": null,
            "padding": null,
            "right": null,
            "top": null,
            "visibility": null,
            "width": null
          }
        },
        "54dad026a92e44349446164a7470c93f": {
          "model_module": "@jupyter-widgets/controls",
          "model_name": "ProgressStyleModel",
          "model_module_version": "1.5.0",
          "state": {
            "_model_module": "@jupyter-widgets/controls",
            "_model_module_version": "1.5.0",
            "_model_name": "ProgressStyleModel",
            "_view_count": null,
            "_view_module": "@jupyter-widgets/base",
            "_view_module_version": "1.2.0",
            "_view_name": "StyleView",
            "bar_color": null,
            "description_width": ""
          }
        },
        "19ea747439b7468ca2086de640afe287": {
          "model_module": "@jupyter-widgets/base",
          "model_name": "LayoutModel",
          "model_module_version": "1.2.0",
          "state": {
            "_model_module": "@jupyter-widgets/base",
            "_model_module_version": "1.2.0",
            "_model_name": "LayoutModel",
            "_view_count": null,
            "_view_module": "@jupyter-widgets/base",
            "_view_module_version": "1.2.0",
            "_view_name": "LayoutView",
            "align_content": null,
            "align_items": null,
            "align_self": null,
            "border": null,
            "bottom": null,
            "display": null,
            "flex": null,
            "flex_flow": null,
            "grid_area": null,
            "grid_auto_columns": null,
            "grid_auto_flow": null,
            "grid_auto_rows": null,
            "grid_column": null,
            "grid_gap": null,
            "grid_row": null,
            "grid_template_areas": null,
            "grid_template_columns": null,
            "grid_template_rows": null,
            "height": null,
            "justify_content": null,
            "justify_items": null,
            "left": null,
            "margin": null,
            "max_height": null,
            "max_width": null,
            "min_height": null,
            "min_width": null,
            "object_fit": null,
            "object_position": null,
            "order": null,
            "overflow": null,
            "overflow_x": null,
            "overflow_y": null,
            "padding": null,
            "right": null,
            "top": null,
            "visibility": null,
            "width": null
          }
        },
        "b705c094526f414db2d21dcec6af78a8": {
          "model_module": "@jupyter-widgets/controls",
          "model_name": "DescriptionStyleModel",
          "model_module_version": "1.5.0",
          "state": {
            "_model_module": "@jupyter-widgets/controls",
            "_model_module_version": "1.5.0",
            "_model_name": "DescriptionStyleModel",
            "_view_count": null,
            "_view_module": "@jupyter-widgets/base",
            "_view_module_version": "1.2.0",
            "_view_name": "StyleView",
            "description_width": ""
          }
        },
        "19c93682ea2042128ea1d9fad16ec0b7": {
          "model_module": "@jupyter-widgets/controls",
          "model_name": "HBoxModel",
          "model_module_version": "1.5.0",
          "state": {
            "_dom_classes": [],
            "_model_module": "@jupyter-widgets/controls",
            "_model_module_version": "1.5.0",
            "_model_name": "HBoxModel",
            "_view_count": null,
            "_view_module": "@jupyter-widgets/controls",
            "_view_module_version": "1.5.0",
            "_view_name": "HBoxView",
            "box_style": "",
            "children": [
              "IPY_MODEL_361a2ddca986432e9f0e895aa583f941",
              "IPY_MODEL_2ba6bd24fc4847278dfb981cb0356cda",
              "IPY_MODEL_ceee976b4b9648ea97fa3b3e95860805"
            ],
            "layout": "IPY_MODEL_028acf8624e84c54a8cfcdff50527b04"
          }
        },
        "361a2ddca986432e9f0e895aa583f941": {
          "model_module": "@jupyter-widgets/controls",
          "model_name": "HTMLModel",
          "model_module_version": "1.5.0",
          "state": {
            "_dom_classes": [],
            "_model_module": "@jupyter-widgets/controls",
            "_model_module_version": "1.5.0",
            "_model_name": "HTMLModel",
            "_view_count": null,
            "_view_module": "@jupyter-widgets/controls",
            "_view_module_version": "1.5.0",
            "_view_name": "HTMLView",
            "description": "",
            "description_tooltip": null,
            "layout": "IPY_MODEL_d5559891e3f94bdebe3575ca6a3191cb",
            "placeholder": "​",
            "style": "IPY_MODEL_f6e125fe572b439fa572530159c02173",
            "value": "vocab.txt: 100%"
          }
        },
        "2ba6bd24fc4847278dfb981cb0356cda": {
          "model_module": "@jupyter-widgets/controls",
          "model_name": "FloatProgressModel",
          "model_module_version": "1.5.0",
          "state": {
            "_dom_classes": [],
            "_model_module": "@jupyter-widgets/controls",
            "_model_module_version": "1.5.0",
            "_model_name": "FloatProgressModel",
            "_view_count": null,
            "_view_module": "@jupyter-widgets/controls",
            "_view_module_version": "1.5.0",
            "_view_name": "ProgressView",
            "bar_style": "success",
            "description": "",
            "description_tooltip": null,
            "layout": "IPY_MODEL_88266a5557444e268eb4504d013b8d07",
            "max": 231508,
            "min": 0,
            "orientation": "horizontal",
            "style": "IPY_MODEL_baecd5f6b8cf453089f3f550289e3bd2",
            "value": 231508
          }
        },
        "ceee976b4b9648ea97fa3b3e95860805": {
          "model_module": "@jupyter-widgets/controls",
          "model_name": "HTMLModel",
          "model_module_version": "1.5.0",
          "state": {
            "_dom_classes": [],
            "_model_module": "@jupyter-widgets/controls",
            "_model_module_version": "1.5.0",
            "_model_name": "HTMLModel",
            "_view_count": null,
            "_view_module": "@jupyter-widgets/controls",
            "_view_module_version": "1.5.0",
            "_view_name": "HTMLView",
            "description": "",
            "description_tooltip": null,
            "layout": "IPY_MODEL_94db879f98804637ad6aadecdbf9f488",
            "placeholder": "​",
            "style": "IPY_MODEL_ea772da10f6a4080ad6ab8d4905a206d",
            "value": " 232k/232k [00:00&lt;00:00, 3.08MB/s]"
          }
        },
        "028acf8624e84c54a8cfcdff50527b04": {
          "model_module": "@jupyter-widgets/base",
          "model_name": "LayoutModel",
          "model_module_version": "1.2.0",
          "state": {
            "_model_module": "@jupyter-widgets/base",
            "_model_module_version": "1.2.0",
            "_model_name": "LayoutModel",
            "_view_count": null,
            "_view_module": "@jupyter-widgets/base",
            "_view_module_version": "1.2.0",
            "_view_name": "LayoutView",
            "align_content": null,
            "align_items": null,
            "align_self": null,
            "border": null,
            "bottom": null,
            "display": null,
            "flex": null,
            "flex_flow": null,
            "grid_area": null,
            "grid_auto_columns": null,
            "grid_auto_flow": null,
            "grid_auto_rows": null,
            "grid_column": null,
            "grid_gap": null,
            "grid_row": null,
            "grid_template_areas": null,
            "grid_template_columns": null,
            "grid_template_rows": null,
            "height": null,
            "justify_content": null,
            "justify_items": null,
            "left": null,
            "margin": null,
            "max_height": null,
            "max_width": null,
            "min_height": null,
            "min_width": null,
            "object_fit": null,
            "object_position": null,
            "order": null,
            "overflow": null,
            "overflow_x": null,
            "overflow_y": null,
            "padding": null,
            "right": null,
            "top": null,
            "visibility": null,
            "width": null
          }
        },
        "d5559891e3f94bdebe3575ca6a3191cb": {
          "model_module": "@jupyter-widgets/base",
          "model_name": "LayoutModel",
          "model_module_version": "1.2.0",
          "state": {
            "_model_module": "@jupyter-widgets/base",
            "_model_module_version": "1.2.0",
            "_model_name": "LayoutModel",
            "_view_count": null,
            "_view_module": "@jupyter-widgets/base",
            "_view_module_version": "1.2.0",
            "_view_name": "LayoutView",
            "align_content": null,
            "align_items": null,
            "align_self": null,
            "border": null,
            "bottom": null,
            "display": null,
            "flex": null,
            "flex_flow": null,
            "grid_area": null,
            "grid_auto_columns": null,
            "grid_auto_flow": null,
            "grid_auto_rows": null,
            "grid_column": null,
            "grid_gap": null,
            "grid_row": null,
            "grid_template_areas": null,
            "grid_template_columns": null,
            "grid_template_rows": null,
            "height": null,
            "justify_content": null,
            "justify_items": null,
            "left": null,
            "margin": null,
            "max_height": null,
            "max_width": null,
            "min_height": null,
            "min_width": null,
            "object_fit": null,
            "object_position": null,
            "order": null,
            "overflow": null,
            "overflow_x": null,
            "overflow_y": null,
            "padding": null,
            "right": null,
            "top": null,
            "visibility": null,
            "width": null
          }
        },
        "f6e125fe572b439fa572530159c02173": {
          "model_module": "@jupyter-widgets/controls",
          "model_name": "DescriptionStyleModel",
          "model_module_version": "1.5.0",
          "state": {
            "_model_module": "@jupyter-widgets/controls",
            "_model_module_version": "1.5.0",
            "_model_name": "DescriptionStyleModel",
            "_view_count": null,
            "_view_module": "@jupyter-widgets/base",
            "_view_module_version": "1.2.0",
            "_view_name": "StyleView",
            "description_width": ""
          }
        },
        "88266a5557444e268eb4504d013b8d07": {
          "model_module": "@jupyter-widgets/base",
          "model_name": "LayoutModel",
          "model_module_version": "1.2.0",
          "state": {
            "_model_module": "@jupyter-widgets/base",
            "_model_module_version": "1.2.0",
            "_model_name": "LayoutModel",
            "_view_count": null,
            "_view_module": "@jupyter-widgets/base",
            "_view_module_version": "1.2.0",
            "_view_name": "LayoutView",
            "align_content": null,
            "align_items": null,
            "align_self": null,
            "border": null,
            "bottom": null,
            "display": null,
            "flex": null,
            "flex_flow": null,
            "grid_area": null,
            "grid_auto_columns": null,
            "grid_auto_flow": null,
            "grid_auto_rows": null,
            "grid_column": null,
            "grid_gap": null,
            "grid_row": null,
            "grid_template_areas": null,
            "grid_template_columns": null,
            "grid_template_rows": null,
            "height": null,
            "justify_content": null,
            "justify_items": null,
            "left": null,
            "margin": null,
            "max_height": null,
            "max_width": null,
            "min_height": null,
            "min_width": null,
            "object_fit": null,
            "object_position": null,
            "order": null,
            "overflow": null,
            "overflow_x": null,
            "overflow_y": null,
            "padding": null,
            "right": null,
            "top": null,
            "visibility": null,
            "width": null
          }
        },
        "baecd5f6b8cf453089f3f550289e3bd2": {
          "model_module": "@jupyter-widgets/controls",
          "model_name": "ProgressStyleModel",
          "model_module_version": "1.5.0",
          "state": {
            "_model_module": "@jupyter-widgets/controls",
            "_model_module_version": "1.5.0",
            "_model_name": "ProgressStyleModel",
            "_view_count": null,
            "_view_module": "@jupyter-widgets/base",
            "_view_module_version": "1.2.0",
            "_view_name": "StyleView",
            "bar_color": null,
            "description_width": ""
          }
        },
        "94db879f98804637ad6aadecdbf9f488": {
          "model_module": "@jupyter-widgets/base",
          "model_name": "LayoutModel",
          "model_module_version": "1.2.0",
          "state": {
            "_model_module": "@jupyter-widgets/base",
            "_model_module_version": "1.2.0",
            "_model_name": "LayoutModel",
            "_view_count": null,
            "_view_module": "@jupyter-widgets/base",
            "_view_module_version": "1.2.0",
            "_view_name": "LayoutView",
            "align_content": null,
            "align_items": null,
            "align_self": null,
            "border": null,
            "bottom": null,
            "display": null,
            "flex": null,
            "flex_flow": null,
            "grid_area": null,
            "grid_auto_columns": null,
            "grid_auto_flow": null,
            "grid_auto_rows": null,
            "grid_column": null,
            "grid_gap": null,
            "grid_row": null,
            "grid_template_areas": null,
            "grid_template_columns": null,
            "grid_template_rows": null,
            "height": null,
            "justify_content": null,
            "justify_items": null,
            "left": null,
            "margin": null,
            "max_height": null,
            "max_width": null,
            "min_height": null,
            "min_width": null,
            "object_fit": null,
            "object_position": null,
            "order": null,
            "overflow": null,
            "overflow_x": null,
            "overflow_y": null,
            "padding": null,
            "right": null,
            "top": null,
            "visibility": null,
            "width": null
          }
        },
        "ea772da10f6a4080ad6ab8d4905a206d": {
          "model_module": "@jupyter-widgets/controls",
          "model_name": "DescriptionStyleModel",
          "model_module_version": "1.5.0",
          "state": {
            "_model_module": "@jupyter-widgets/controls",
            "_model_module_version": "1.5.0",
            "_model_name": "DescriptionStyleModel",
            "_view_count": null,
            "_view_module": "@jupyter-widgets/base",
            "_view_module_version": "1.2.0",
            "_view_name": "StyleView",
            "description_width": ""
          }
        },
        "09b987e579ca40f1bd4b24424fef401b": {
          "model_module": "@jupyter-widgets/controls",
          "model_name": "HBoxModel",
          "model_module_version": "1.5.0",
          "state": {
            "_dom_classes": [],
            "_model_module": "@jupyter-widgets/controls",
            "_model_module_version": "1.5.0",
            "_model_name": "HBoxModel",
            "_view_count": null,
            "_view_module": "@jupyter-widgets/controls",
            "_view_module_version": "1.5.0",
            "_view_name": "HBoxView",
            "box_style": "",
            "children": [
              "IPY_MODEL_8c8db1945cba48ba835555406bb5013a",
              "IPY_MODEL_75ed86361fb749f89c39b5aeee88eb7a",
              "IPY_MODEL_98195267a9334aa9934d891656c7f9a6"
            ],
            "layout": "IPY_MODEL_36fcfade74804118ab4aaf8e763c4e1b"
          }
        },
        "8c8db1945cba48ba835555406bb5013a": {
          "model_module": "@jupyter-widgets/controls",
          "model_name": "HTMLModel",
          "model_module_version": "1.5.0",
          "state": {
            "_dom_classes": [],
            "_model_module": "@jupyter-widgets/controls",
            "_model_module_version": "1.5.0",
            "_model_name": "HTMLModel",
            "_view_count": null,
            "_view_module": "@jupyter-widgets/controls",
            "_view_module_version": "1.5.0",
            "_view_name": "HTMLView",
            "description": "",
            "description_tooltip": null,
            "layout": "IPY_MODEL_84b564dd47704e94b5dab6da039c5c0a",
            "placeholder": "​",
            "style": "IPY_MODEL_5c2ab6adf4b94841a75321d25199c7f4",
            "value": "tokenizer.json: 100%"
          }
        },
        "75ed86361fb749f89c39b5aeee88eb7a": {
          "model_module": "@jupyter-widgets/controls",
          "model_name": "FloatProgressModel",
          "model_module_version": "1.5.0",
          "state": {
            "_dom_classes": [],
            "_model_module": "@jupyter-widgets/controls",
            "_model_module_version": "1.5.0",
            "_model_name": "FloatProgressModel",
            "_view_count": null,
            "_view_module": "@jupyter-widgets/controls",
            "_view_module_version": "1.5.0",
            "_view_name": "ProgressView",
            "bar_style": "success",
            "description": "",
            "description_tooltip": null,
            "layout": "IPY_MODEL_3af2c9923a114bc693c2dbbd563caf10",
            "max": 466062,
            "min": 0,
            "orientation": "horizontal",
            "style": "IPY_MODEL_4268e8b7c7a94ce69f9b60637a0b8032",
            "value": 466062
          }
        },
        "98195267a9334aa9934d891656c7f9a6": {
          "model_module": "@jupyter-widgets/controls",
          "model_name": "HTMLModel",
          "model_module_version": "1.5.0",
          "state": {
            "_dom_classes": [],
            "_model_module": "@jupyter-widgets/controls",
            "_model_module_version": "1.5.0",
            "_model_name": "HTMLModel",
            "_view_count": null,
            "_view_module": "@jupyter-widgets/controls",
            "_view_module_version": "1.5.0",
            "_view_name": "HTMLView",
            "description": "",
            "description_tooltip": null,
            "layout": "IPY_MODEL_64a5a2873a634ca499596d857b30ac72",
            "placeholder": "​",
            "style": "IPY_MODEL_778dc24111c3443c88c1fedda78a9bb8",
            "value": " 466k/466k [00:00&lt;00:00, 6.95MB/s]"
          }
        },
        "36fcfade74804118ab4aaf8e763c4e1b": {
          "model_module": "@jupyter-widgets/base",
          "model_name": "LayoutModel",
          "model_module_version": "1.2.0",
          "state": {
            "_model_module": "@jupyter-widgets/base",
            "_model_module_version": "1.2.0",
            "_model_name": "LayoutModel",
            "_view_count": null,
            "_view_module": "@jupyter-widgets/base",
            "_view_module_version": "1.2.0",
            "_view_name": "LayoutView",
            "align_content": null,
            "align_items": null,
            "align_self": null,
            "border": null,
            "bottom": null,
            "display": null,
            "flex": null,
            "flex_flow": null,
            "grid_area": null,
            "grid_auto_columns": null,
            "grid_auto_flow": null,
            "grid_auto_rows": null,
            "grid_column": null,
            "grid_gap": null,
            "grid_row": null,
            "grid_template_areas": null,
            "grid_template_columns": null,
            "grid_template_rows": null,
            "height": null,
            "justify_content": null,
            "justify_items": null,
            "left": null,
            "margin": null,
            "max_height": null,
            "max_width": null,
            "min_height": null,
            "min_width": null,
            "object_fit": null,
            "object_position": null,
            "order": null,
            "overflow": null,
            "overflow_x": null,
            "overflow_y": null,
            "padding": null,
            "right": null,
            "top": null,
            "visibility": null,
            "width": null
          }
        },
        "84b564dd47704e94b5dab6da039c5c0a": {
          "model_module": "@jupyter-widgets/base",
          "model_name": "LayoutModel",
          "model_module_version": "1.2.0",
          "state": {
            "_model_module": "@jupyter-widgets/base",
            "_model_module_version": "1.2.0",
            "_model_name": "LayoutModel",
            "_view_count": null,
            "_view_module": "@jupyter-widgets/base",
            "_view_module_version": "1.2.0",
            "_view_name": "LayoutView",
            "align_content": null,
            "align_items": null,
            "align_self": null,
            "border": null,
            "bottom": null,
            "display": null,
            "flex": null,
            "flex_flow": null,
            "grid_area": null,
            "grid_auto_columns": null,
            "grid_auto_flow": null,
            "grid_auto_rows": null,
            "grid_column": null,
            "grid_gap": null,
            "grid_row": null,
            "grid_template_areas": null,
            "grid_template_columns": null,
            "grid_template_rows": null,
            "height": null,
            "justify_content": null,
            "justify_items": null,
            "left": null,
            "margin": null,
            "max_height": null,
            "max_width": null,
            "min_height": null,
            "min_width": null,
            "object_fit": null,
            "object_position": null,
            "order": null,
            "overflow": null,
            "overflow_x": null,
            "overflow_y": null,
            "padding": null,
            "right": null,
            "top": null,
            "visibility": null,
            "width": null
          }
        },
        "5c2ab6adf4b94841a75321d25199c7f4": {
          "model_module": "@jupyter-widgets/controls",
          "model_name": "DescriptionStyleModel",
          "model_module_version": "1.5.0",
          "state": {
            "_model_module": "@jupyter-widgets/controls",
            "_model_module_version": "1.5.0",
            "_model_name": "DescriptionStyleModel",
            "_view_count": null,
            "_view_module": "@jupyter-widgets/base",
            "_view_module_version": "1.2.0",
            "_view_name": "StyleView",
            "description_width": ""
          }
        },
        "3af2c9923a114bc693c2dbbd563caf10": {
          "model_module": "@jupyter-widgets/base",
          "model_name": "LayoutModel",
          "model_module_version": "1.2.0",
          "state": {
            "_model_module": "@jupyter-widgets/base",
            "_model_module_version": "1.2.0",
            "_model_name": "LayoutModel",
            "_view_count": null,
            "_view_module": "@jupyter-widgets/base",
            "_view_module_version": "1.2.0",
            "_view_name": "LayoutView",
            "align_content": null,
            "align_items": null,
            "align_self": null,
            "border": null,
            "bottom": null,
            "display": null,
            "flex": null,
            "flex_flow": null,
            "grid_area": null,
            "grid_auto_columns": null,
            "grid_auto_flow": null,
            "grid_auto_rows": null,
            "grid_column": null,
            "grid_gap": null,
            "grid_row": null,
            "grid_template_areas": null,
            "grid_template_columns": null,
            "grid_template_rows": null,
            "height": null,
            "justify_content": null,
            "justify_items": null,
            "left": null,
            "margin": null,
            "max_height": null,
            "max_width": null,
            "min_height": null,
            "min_width": null,
            "object_fit": null,
            "object_position": null,
            "order": null,
            "overflow": null,
            "overflow_x": null,
            "overflow_y": null,
            "padding": null,
            "right": null,
            "top": null,
            "visibility": null,
            "width": null
          }
        },
        "4268e8b7c7a94ce69f9b60637a0b8032": {
          "model_module": "@jupyter-widgets/controls",
          "model_name": "ProgressStyleModel",
          "model_module_version": "1.5.0",
          "state": {
            "_model_module": "@jupyter-widgets/controls",
            "_model_module_version": "1.5.0",
            "_model_name": "ProgressStyleModel",
            "_view_count": null,
            "_view_module": "@jupyter-widgets/base",
            "_view_module_version": "1.2.0",
            "_view_name": "StyleView",
            "bar_color": null,
            "description_width": ""
          }
        },
        "64a5a2873a634ca499596d857b30ac72": {
          "model_module": "@jupyter-widgets/base",
          "model_name": "LayoutModel",
          "model_module_version": "1.2.0",
          "state": {
            "_model_module": "@jupyter-widgets/base",
            "_model_module_version": "1.2.0",
            "_model_name": "LayoutModel",
            "_view_count": null,
            "_view_module": "@jupyter-widgets/base",
            "_view_module_version": "1.2.0",
            "_view_name": "LayoutView",
            "align_content": null,
            "align_items": null,
            "align_self": null,
            "border": null,
            "bottom": null,
            "display": null,
            "flex": null,
            "flex_flow": null,
            "grid_area": null,
            "grid_auto_columns": null,
            "grid_auto_flow": null,
            "grid_auto_rows": null,
            "grid_column": null,
            "grid_gap": null,
            "grid_row": null,
            "grid_template_areas": null,
            "grid_template_columns": null,
            "grid_template_rows": null,
            "height": null,
            "justify_content": null,
            "justify_items": null,
            "left": null,
            "margin": null,
            "max_height": null,
            "max_width": null,
            "min_height": null,
            "min_width": null,
            "object_fit": null,
            "object_position": null,
            "order": null,
            "overflow": null,
            "overflow_x": null,
            "overflow_y": null,
            "padding": null,
            "right": null,
            "top": null,
            "visibility": null,
            "width": null
          }
        },
        "778dc24111c3443c88c1fedda78a9bb8": {
          "model_module": "@jupyter-widgets/controls",
          "model_name": "DescriptionStyleModel",
          "model_module_version": "1.5.0",
          "state": {
            "_model_module": "@jupyter-widgets/controls",
            "_model_module_version": "1.5.0",
            "_model_name": "DescriptionStyleModel",
            "_view_count": null,
            "_view_module": "@jupyter-widgets/base",
            "_view_module_version": "1.2.0",
            "_view_name": "StyleView",
            "description_width": ""
          }
        }
      }
    },
    "accelerator": "GPU"
  },
  "cells": [
    {
      "cell_type": "code",
      "source": [
        "df = pd.read_csv('/sokrat_bot/data.csv', sep = ',')"
      ],
      "metadata": {
        "id": "iRTNPMrNgMmB"
      },
      "execution_count": null,
      "outputs": []
    },
    {
      "cell_type": "code",
      "source": [
        "! pip install accelerate"
      ],
      "metadata": {
        "id": "5wqOuFgMm3aN"
      },
      "execution_count": null,
      "outputs": []
    },
    {
      "cell_type": "code",
      "source": [
        "import accelerate"
      ],
      "metadata": {
        "id": "yRec7_kJm7L-"
      },
      "execution_count": null,
      "outputs": []
    },
    {
      "cell_type": "code",
      "source": [
        "import pandas as pd\n",
        "import random\n",
        "import matplotlib.pyplot as plt\n",
        "import numpy as np\n",
        "import torch\n",
        "from torch.utils.data import Dataset, DataLoader, random_split\n",
        "from tqdm import tqdm\n",
        "from transformers import AutoTokenizer, AutoModel\n",
        "from transformers.optimization import get_linear_schedule_with_warmup"
      ],
      "metadata": {
        "id": "GQzq2QbOgNxv"
      },
      "execution_count": null,
      "outputs": []
    },
    {
      "cell_type": "code",
      "source": [
        "seed = 10\n",
        "\n",
        "random.seed(seed)\n",
        "np.random.seed(seed)\n",
        "\n",
        "torch.manual_seed(seed)\n",
        "torch.cuda.manual_seed_all(seed)\n",
        "\n",
        "torch.backends.cudnn.deterministic = True\n",
        "torch.backends.cudnn.benchmark = False"
      ],
      "metadata": {
        "id": "uOW5qJ_ngSb9"
      },
      "execution_count": null,
      "outputs": []
    },
    {
      "cell_type": "code",
      "source": [
        "dfnew = df.dropna(axis = 0)"
      ],
      "metadata": {
        "id": "8gkYEuFSgais"
      },
      "execution_count": null,
      "outputs": []
    },
    {
      "cell_type": "code",
      "source": [
        "dfnew"
      ],
      "metadata": {
        "colab": {
          "base_uri": "https://localhost:8080/",
          "height": 615
        },
        "id": "Jq42Z-Oxivef",
        "outputId": "8c6259d3-33ec-47a1-cf64-86fa868c9b8e"
      },
      "execution_count": null,
      "outputs": [
        {
          "output_type": "execute_result",
          "data": {
            "text/plain": [
              "      Unnamed: 0                                              Query  \\\n",
              "0              0  Сокр. Ты удивляешься, думаю, сын Клиниаса, что...   \n",
              "1              1  Сокр. Ты удивляешься, думаю, сын Клиниаса, что...   \n",
              "2              2  Сокр. Ты удивляешься, думаю, сын Клиниаса, что...   \n",
              "3              3  Сокр. Ты удивляешься, думаю, сын Клиниаса, что...   \n",
              "4              4  Сокр. Ты так спрашиваешь, как будто я должен п...   \n",
              "...          ...                                                ...   \n",
              "2535        1265  Сокр. Скажи же, ради Зевса, в чём состоит то п...   \n",
              "2536        1266  Сокр. Скажи же, ради Зевса, в чём состоит то п...   \n",
              "2537        1267  Сокр. Конечно, если бы ты захотел, Эвтифрон, т...   \n",
              "2538        1268  Сокр. А справедливо просить, не значит ли — пр...   \n",
              "2539        1269  Сокр. А справедливо просить, не значит ли — пр...   \n",
              "\n",
              "                                                 Answer  Label  \\\n",
              "0     Отв. Но, может быть, тебе неизвестно, Сократ, ...      1   \n",
              "1     Отв. Без сомнения, буду слушать, — только говори.      1   \n",
              "2             Отв. Говори, добряк; а я уж буду слушать.      1   \n",
              "3     Отв. Я нахожу, Сократ, что начав говорить, ты ...      1   \n",
              "4     Отв. Лишь бы тут не требовалось какой-нибудь т...      1   \n",
              "...                                                 ...    ...   \n",
              "2535                     Отв. Если хочешь, пусть и так.      0   \n",
              "2536  Отв. Да, Сократ всегда таков, Горгиас: спрашив...      0   \n",
              "2537  Отв. Правильно. И это будет нам очень полезно ...      0   \n",
              "2538      Отв. То, что ты теперь говоришь, справедливо.      0   \n",
              "2539        Отв. Как не иное? это-то способность языка.      0   \n",
              "\n",
              "                                                 Common  \n",
              "0     Сокр. Ты удивляешься, думаю, сын Клиниаса, что...  \n",
              "1     Сокр. Ты удивляешься, думаю, сын Клиниаса, что...  \n",
              "2     Сокр. Ты удивляешься, думаю, сын Клиниаса, что...  \n",
              "3     Сокр. Ты удивляешься, думаю, сын Клиниаса, что...  \n",
              "4     Сокр. Ты так спрашиваешь, как будто я должен п...  \n",
              "...                                                 ...  \n",
              "2535  Сокр. Скажи же, ради Зевса, в чём состоит то п...  \n",
              "2536  Сокр. Скажи же, ради Зевса, в чём состоит то п...  \n",
              "2537  Сокр. Конечно, если бы ты захотел, Эвтифрон, т...  \n",
              "2538  Сокр. А справедливо просить, не значит ли — пр...  \n",
              "2539  Сокр. А справедливо просить, не значит ли — пр...  \n",
              "\n",
              "[2538 rows x 5 columns]"
            ],
            "text/html": [
              "\n",
              "  <div id=\"df-dbedffab-e7fc-440c-b6b0-5d99b47742e3\" class=\"colab-df-container\">\n",
              "    <div>\n",
              "<style scoped>\n",
              "    .dataframe tbody tr th:only-of-type {\n",
              "        vertical-align: middle;\n",
              "    }\n",
              "\n",
              "    .dataframe tbody tr th {\n",
              "        vertical-align: top;\n",
              "    }\n",
              "\n",
              "    .dataframe thead th {\n",
              "        text-align: right;\n",
              "    }\n",
              "</style>\n",
              "<table border=\"1\" class=\"dataframe\">\n",
              "  <thead>\n",
              "    <tr style=\"text-align: right;\">\n",
              "      <th></th>\n",
              "      <th>Unnamed: 0</th>\n",
              "      <th>Query</th>\n",
              "      <th>Answer</th>\n",
              "      <th>Label</th>\n",
              "      <th>Common</th>\n",
              "    </tr>\n",
              "  </thead>\n",
              "  <tbody>\n",
              "    <tr>\n",
              "      <th>0</th>\n",
              "      <td>0</td>\n",
              "      <td>Сокр. Ты удивляешься, думаю, сын Клиниаса, что...</td>\n",
              "      <td>Отв. Но, может быть, тебе неизвестно, Сократ, ...</td>\n",
              "      <td>1</td>\n",
              "      <td>Сокр. Ты удивляешься, думаю, сын Клиниаса, что...</td>\n",
              "    </tr>\n",
              "    <tr>\n",
              "      <th>1</th>\n",
              "      <td>1</td>\n",
              "      <td>Сокр. Ты удивляешься, думаю, сын Клиниаса, что...</td>\n",
              "      <td>Отв. Без сомнения, буду слушать, — только говори.</td>\n",
              "      <td>1</td>\n",
              "      <td>Сокр. Ты удивляешься, думаю, сын Клиниаса, что...</td>\n",
              "    </tr>\n",
              "    <tr>\n",
              "      <th>2</th>\n",
              "      <td>2</td>\n",
              "      <td>Сокр. Ты удивляешься, думаю, сын Клиниаса, что...</td>\n",
              "      <td>Отв. Говори, добряк; а я уж буду слушать.</td>\n",
              "      <td>1</td>\n",
              "      <td>Сокр. Ты удивляешься, думаю, сын Клиниаса, что...</td>\n",
              "    </tr>\n",
              "    <tr>\n",
              "      <th>3</th>\n",
              "      <td>3</td>\n",
              "      <td>Сокр. Ты удивляешься, думаю, сын Клиниаса, что...</td>\n",
              "      <td>Отв. Я нахожу, Сократ, что начав говорить, ты ...</td>\n",
              "      <td>1</td>\n",
              "      <td>Сокр. Ты удивляешься, думаю, сын Клиниаса, что...</td>\n",
              "    </tr>\n",
              "    <tr>\n",
              "      <th>4</th>\n",
              "      <td>4</td>\n",
              "      <td>Сокр. Ты так спрашиваешь, как будто я должен п...</td>\n",
              "      <td>Отв. Лишь бы тут не требовалось какой-нибудь т...</td>\n",
              "      <td>1</td>\n",
              "      <td>Сокр. Ты так спрашиваешь, как будто я должен п...</td>\n",
              "    </tr>\n",
              "    <tr>\n",
              "      <th>...</th>\n",
              "      <td>...</td>\n",
              "      <td>...</td>\n",
              "      <td>...</td>\n",
              "      <td>...</td>\n",
              "      <td>...</td>\n",
              "    </tr>\n",
              "    <tr>\n",
              "      <th>2535</th>\n",
              "      <td>1265</td>\n",
              "      <td>Сокр. Скажи же, ради Зевса, в чём состоит то п...</td>\n",
              "      <td>Отв. Если хочешь, пусть и так.</td>\n",
              "      <td>0</td>\n",
              "      <td>Сокр. Скажи же, ради Зевса, в чём состоит то п...</td>\n",
              "    </tr>\n",
              "    <tr>\n",
              "      <th>2536</th>\n",
              "      <td>1266</td>\n",
              "      <td>Сокр. Скажи же, ради Зевса, в чём состоит то п...</td>\n",
              "      <td>Отв. Да, Сократ всегда таков, Горгиас: спрашив...</td>\n",
              "      <td>0</td>\n",
              "      <td>Сокр. Скажи же, ради Зевса, в чём состоит то п...</td>\n",
              "    </tr>\n",
              "    <tr>\n",
              "      <th>2537</th>\n",
              "      <td>1267</td>\n",
              "      <td>Сокр. Конечно, если бы ты захотел, Эвтифрон, т...</td>\n",
              "      <td>Отв. Правильно. И это будет нам очень полезно ...</td>\n",
              "      <td>0</td>\n",
              "      <td>Сокр. Конечно, если бы ты захотел, Эвтифрон, т...</td>\n",
              "    </tr>\n",
              "    <tr>\n",
              "      <th>2538</th>\n",
              "      <td>1268</td>\n",
              "      <td>Сокр. А справедливо просить, не значит ли — пр...</td>\n",
              "      <td>Отв. То, что ты теперь говоришь, справедливо.</td>\n",
              "      <td>0</td>\n",
              "      <td>Сокр. А справедливо просить, не значит ли — пр...</td>\n",
              "    </tr>\n",
              "    <tr>\n",
              "      <th>2539</th>\n",
              "      <td>1269</td>\n",
              "      <td>Сокр. А справедливо просить, не значит ли — пр...</td>\n",
              "      <td>Отв. Как не иное? это-то способность языка.</td>\n",
              "      <td>0</td>\n",
              "      <td>Сокр. А справедливо просить, не значит ли — пр...</td>\n",
              "    </tr>\n",
              "  </tbody>\n",
              "</table>\n",
              "<p>2538 rows × 5 columns</p>\n",
              "</div>\n",
              "    <div class=\"colab-df-buttons\">\n",
              "\n",
              "  <div class=\"colab-df-container\">\n",
              "    <button class=\"colab-df-convert\" onclick=\"convertToInteractive('df-dbedffab-e7fc-440c-b6b0-5d99b47742e3')\"\n",
              "            title=\"Convert this dataframe to an interactive table.\"\n",
              "            style=\"display:none;\">\n",
              "\n",
              "  <svg xmlns=\"http://www.w3.org/2000/svg\" height=\"24px\" viewBox=\"0 -960 960 960\">\n",
              "    <path d=\"M120-120v-720h720v720H120Zm60-500h600v-160H180v160Zm220 220h160v-160H400v160Zm0 220h160v-160H400v160ZM180-400h160v-160H180v160Zm440 0h160v-160H620v160ZM180-180h160v-160H180v160Zm440 0h160v-160H620v160Z\"/>\n",
              "  </svg>\n",
              "    </button>\n",
              "\n",
              "  <style>\n",
              "    .colab-df-container {\n",
              "      display:flex;\n",
              "      gap: 12px;\n",
              "    }\n",
              "\n",
              "    .colab-df-convert {\n",
              "      background-color: #E8F0FE;\n",
              "      border: none;\n",
              "      border-radius: 50%;\n",
              "      cursor: pointer;\n",
              "      display: none;\n",
              "      fill: #1967D2;\n",
              "      height: 32px;\n",
              "      padding: 0 0 0 0;\n",
              "      width: 32px;\n",
              "    }\n",
              "\n",
              "    .colab-df-convert:hover {\n",
              "      background-color: #E2EBFA;\n",
              "      box-shadow: 0px 1px 2px rgba(60, 64, 67, 0.3), 0px 1px 3px 1px rgba(60, 64, 67, 0.15);\n",
              "      fill: #174EA6;\n",
              "    }\n",
              "\n",
              "    .colab-df-buttons div {\n",
              "      margin-bottom: 4px;\n",
              "    }\n",
              "\n",
              "    [theme=dark] .colab-df-convert {\n",
              "      background-color: #3B4455;\n",
              "      fill: #D2E3FC;\n",
              "    }\n",
              "\n",
              "    [theme=dark] .colab-df-convert:hover {\n",
              "      background-color: #434B5C;\n",
              "      box-shadow: 0px 1px 3px 1px rgba(0, 0, 0, 0.15);\n",
              "      filter: drop-shadow(0px 1px 2px rgba(0, 0, 0, 0.3));\n",
              "      fill: #FFFFFF;\n",
              "    }\n",
              "  </style>\n",
              "\n",
              "    <script>\n",
              "      const buttonEl =\n",
              "        document.querySelector('#df-dbedffab-e7fc-440c-b6b0-5d99b47742e3 button.colab-df-convert');\n",
              "      buttonEl.style.display =\n",
              "        google.colab.kernel.accessAllowed ? 'block' : 'none';\n",
              "\n",
              "      async function convertToInteractive(key) {\n",
              "        const element = document.querySelector('#df-dbedffab-e7fc-440c-b6b0-5d99b47742e3');\n",
              "        const dataTable =\n",
              "          await google.colab.kernel.invokeFunction('convertToInteractive',\n",
              "                                                    [key], {});\n",
              "        if (!dataTable) return;\n",
              "\n",
              "        const docLinkHtml = 'Like what you see? Visit the ' +\n",
              "          '<a target=\"_blank\" href=https://colab.research.google.com/notebooks/data_table.ipynb>data table notebook</a>'\n",
              "          + ' to learn more about interactive tables.';\n",
              "        element.innerHTML = '';\n",
              "        dataTable['output_type'] = 'display_data';\n",
              "        await google.colab.output.renderOutput(dataTable, element);\n",
              "        const docLink = document.createElement('div');\n",
              "        docLink.innerHTML = docLinkHtml;\n",
              "        element.appendChild(docLink);\n",
              "      }\n",
              "    </script>\n",
              "  </div>\n",
              "\n",
              "\n",
              "<div id=\"df-fc71f2b0-624a-4aa4-9720-b0e0090a62eb\">\n",
              "  <button class=\"colab-df-quickchart\" onclick=\"quickchart('df-fc71f2b0-624a-4aa4-9720-b0e0090a62eb')\"\n",
              "            title=\"Suggest charts\"\n",
              "            style=\"display:none;\">\n",
              "\n",
              "<svg xmlns=\"http://www.w3.org/2000/svg\" height=\"24px\"viewBox=\"0 0 24 24\"\n",
              "     width=\"24px\">\n",
              "    <g>\n",
              "        <path d=\"M19 3H5c-1.1 0-2 .9-2 2v14c0 1.1.9 2 2 2h14c1.1 0 2-.9 2-2V5c0-1.1-.9-2-2-2zM9 17H7v-7h2v7zm4 0h-2V7h2v10zm4 0h-2v-4h2v4z\"/>\n",
              "    </g>\n",
              "</svg>\n",
              "  </button>\n",
              "\n",
              "<style>\n",
              "  .colab-df-quickchart {\n",
              "      --bg-color: #E8F0FE;\n",
              "      --fill-color: #1967D2;\n",
              "      --hover-bg-color: #E2EBFA;\n",
              "      --hover-fill-color: #174EA6;\n",
              "      --disabled-fill-color: #AAA;\n",
              "      --disabled-bg-color: #DDD;\n",
              "  }\n",
              "\n",
              "  [theme=dark] .colab-df-quickchart {\n",
              "      --bg-color: #3B4455;\n",
              "      --fill-color: #D2E3FC;\n",
              "      --hover-bg-color: #434B5C;\n",
              "      --hover-fill-color: #FFFFFF;\n",
              "      --disabled-bg-color: #3B4455;\n",
              "      --disabled-fill-color: #666;\n",
              "  }\n",
              "\n",
              "  .colab-df-quickchart {\n",
              "    background-color: var(--bg-color);\n",
              "    border: none;\n",
              "    border-radius: 50%;\n",
              "    cursor: pointer;\n",
              "    display: none;\n",
              "    fill: var(--fill-color);\n",
              "    height: 32px;\n",
              "    padding: 0;\n",
              "    width: 32px;\n",
              "  }\n",
              "\n",
              "  .colab-df-quickchart:hover {\n",
              "    background-color: var(--hover-bg-color);\n",
              "    box-shadow: 0 1px 2px rgba(60, 64, 67, 0.3), 0 1px 3px 1px rgba(60, 64, 67, 0.15);\n",
              "    fill: var(--button-hover-fill-color);\n",
              "  }\n",
              "\n",
              "  .colab-df-quickchart-complete:disabled,\n",
              "  .colab-df-quickchart-complete:disabled:hover {\n",
              "    background-color: var(--disabled-bg-color);\n",
              "    fill: var(--disabled-fill-color);\n",
              "    box-shadow: none;\n",
              "  }\n",
              "\n",
              "  .colab-df-spinner {\n",
              "    border: 2px solid var(--fill-color);\n",
              "    border-color: transparent;\n",
              "    border-bottom-color: var(--fill-color);\n",
              "    animation:\n",
              "      spin 1s steps(1) infinite;\n",
              "  }\n",
              "\n",
              "  @keyframes spin {\n",
              "    0% {\n",
              "      border-color: transparent;\n",
              "      border-bottom-color: var(--fill-color);\n",
              "      border-left-color: var(--fill-color);\n",
              "    }\n",
              "    20% {\n",
              "      border-color: transparent;\n",
              "      border-left-color: var(--fill-color);\n",
              "      border-top-color: var(--fill-color);\n",
              "    }\n",
              "    30% {\n",
              "      border-color: transparent;\n",
              "      border-left-color: var(--fill-color);\n",
              "      border-top-color: var(--fill-color);\n",
              "      border-right-color: var(--fill-color);\n",
              "    }\n",
              "    40% {\n",
              "      border-color: transparent;\n",
              "      border-right-color: var(--fill-color);\n",
              "      border-top-color: var(--fill-color);\n",
              "    }\n",
              "    60% {\n",
              "      border-color: transparent;\n",
              "      border-right-color: var(--fill-color);\n",
              "    }\n",
              "    80% {\n",
              "      border-color: transparent;\n",
              "      border-right-color: var(--fill-color);\n",
              "      border-bottom-color: var(--fill-color);\n",
              "    }\n",
              "    90% {\n",
              "      border-color: transparent;\n",
              "      border-bottom-color: var(--fill-color);\n",
              "    }\n",
              "  }\n",
              "</style>\n",
              "\n",
              "  <script>\n",
              "    async function quickchart(key) {\n",
              "      const quickchartButtonEl =\n",
              "        document.querySelector('#' + key + ' button');\n",
              "      quickchartButtonEl.disabled = true;  // To prevent multiple clicks.\n",
              "      quickchartButtonEl.classList.add('colab-df-spinner');\n",
              "      try {\n",
              "        const charts = await google.colab.kernel.invokeFunction(\n",
              "            'suggestCharts', [key], {});\n",
              "      } catch (error) {\n",
              "        console.error('Error during call to suggestCharts:', error);\n",
              "      }\n",
              "      quickchartButtonEl.classList.remove('colab-df-spinner');\n",
              "      quickchartButtonEl.classList.add('colab-df-quickchart-complete');\n",
              "    }\n",
              "    (() => {\n",
              "      let quickchartButtonEl =\n",
              "        document.querySelector('#df-fc71f2b0-624a-4aa4-9720-b0e0090a62eb button');\n",
              "      quickchartButtonEl.style.display =\n",
              "        google.colab.kernel.accessAllowed ? 'block' : 'none';\n",
              "    })();\n",
              "  </script>\n",
              "</div>\n",
              "    </div>\n",
              "  </div>\n"
            ],
            "application/vnd.google.colaboratory.intrinsic+json": {
              "type": "dataframe",
              "variable_name": "dfnew",
              "summary": "{\n  \"name\": \"dfnew\",\n  \"rows\": 2538,\n  \"fields\": [\n    {\n      \"column\": \"Unnamed: 0\",\n      \"properties\": {\n        \"dtype\": \"number\",\n        \"std\": 366,\n        \"min\": 0,\n        \"max\": 1269,\n        \"num_unique_values\": 1269,\n        \"samples\": [\n          1214,\n          804,\n          423\n        ],\n        \"semantic_type\": \"\",\n        \"description\": \"\"\n      }\n    },\n    {\n      \"column\": \"Query\",\n      \"properties\": {\n        \"dtype\": \"string\",\n        \"num_unique_values\": 1269,\n        \"samples\": [\n          \"\\u0421\\u043e\\u043a\\u0440. \\u041d\\u0438\\u043a\\u0430\\u043a \\u043d\\u0435\\u043b\\u044c\\u0437\\u044f. \\u0415\\u0441\\u043b\\u0438 \\u0436\\u0435 \\u0442\\u0440\\u0435\\u0431\\u0443\\u0435\\u0442\\u0441\\u044f \\u0438 \\u0435\\u0449\\u0435 \\u043a\\u0430\\u043a\\u0430\\u044f-\\u043d\\u0438\\u0431\\u0443\\u0434\\u044c \\u043f\\u0440\\u0438\\u043c\\u0435\\u0441\\u044c, \\u2014 \\u0442\\u044b \\u0438 \\u0424\\u0438\\u043b\\u0435\\u0431 \\u0433\\u043e\\u0432\\u043e\\u0440\\u0438\\u0442\\u0435. \\u0410 \\u043c\\u043d\\u0435 \\u043d\\u0430\\u0441\\u0442\\u043e\\u044f\\u0449\\u0435\\u0435 \\u0440\\u0430\\u0441\\u0441\\u0443\\u0436\\u0434\\u0435\\u043d\\u0438\\u0435 \\u043f\\u0440\\u0435\\u0434\\u0441\\u0442\\u0430\\u0432\\u043b\\u044f\\u0435\\u0442\\u0441\\u044f \\u043e\\u0442\\u0434\\u0435\\u043b\\u0430\\u043d\\u043d\\u044b\\u043c, \\u043a\\u0430\\u043a \\u0431\\u044b \\u043a\\u0430\\u043a\\u043e\\u0439 \\u0431\\u0435\\u0441\\u043f\\u043b\\u043e\\u0442\\u043d\\u044b\\u0439 \\u043c\\u0438\\u0440, \\u043f\\u0440\\u0435\\u043a\\u0440\\u0430\\u0441\\u043d\\u043e \\u0432\\u043b\\u0430\\u0441\\u0442\\u0432\\u0443\\u044e\\u0449\\u0438\\u0439 \\u0432 \\u043e\\u0434\\u0443\\u0448\\u0435\\u0432\\u043b\\u0435\\u043d\\u043d\\u043e\\u043c \\u0442\\u0435\\u043b\\u0435. \\u041e\\u0442\\u0432. \\u0411\\u0443\\u0434\\u044c \\u0443\\u0432\\u0435\\u0440\\u0435\\u043d, \\u0421\\u043e\\u043a\\u0440\\u0430\\u0442, \\u0447\\u0442\\u043e \\u0438 \\u043c\\u043d\\u0435 \\u0442\\u0430\\u043a \\u0436\\u0435 \\u043a\\u0430\\u0436\\u0435\\u0442\\u0441\\u044f. \\u0421\\u043e\\u043a\\u0440. \\u0421\\u0442\\u0430\\u043b\\u043e \\u0431\\u044b\\u0442\\u044c, \\u0435\\u0441\\u043b\\u0438 \\u0431\\u044b \\u043c\\u044b \\u0441\\u043a\\u0430\\u0437\\u0430\\u043b\\u0438, \\u0447\\u0442\\u043e \\u0442\\u0435\\u043f\\u0435\\u0440\\u044c \\u0441\\u0442\\u043e\\u0438\\u043c \\u0443\\u0436\\u0435 \\u0432 \\u043f\\u0440\\u0438\\u0442\\u0432\\u043e\\u0440\\u0435 \\u0436\\u0438\\u043b\\u0438\\u0449\\u0430, \\u0432 \\u043a\\u043e\\u0442\\u043e\\u0440\\u043e\\u043c \\u043e\\u0431\\u0438\\u0442\\u0430\\u0435\\u0442 \\u0431\\u043b\\u0430\\u0433\\u043e, \\u0442\\u043e  \\u043d\\u0435\\u043a\\u043e\\u0442\\u043e\\u0440\\u044b\\u043c \\u043e\\u0431\\u0440\\u0430\\u0437\\u043e\\u043c \\u0441\\u043a\\u0430\\u0437\\u0430\\u043b\\u0438 \\u0431\\u044b \\u043f\\u0440\\u0430\\u0432\\u0438\\u043b\\u044c\\u043d\\u043e?\",\n          \"\\u0421\\u043e\\u043a\\u0440. \\u041f\\u0440\\u0435\\u043a\\u0440\\u0430\\u0441\\u043d\\u043e \\u0433\\u043e\\u0432\\u043e\\u0440\\u0438\\u0448\\u044c, \\u0424\\u0435\\u043e\\u0434\\u043e\\u0440. \\u0412\\u043d\\u0438\\u043a\\u0430\\u0439 \\u0436\\u0435 \\u0432 \\u043c\\u043e\\u044e-\\u0442\\u043e \\u043f\\u043e\\u043c\\u043e\\u0449\\u044c. \\u0412\\u0435\\u0434\\u044c \\u043a\\u0442\\u043e \\u043d\\u0435 \\u0431\\u0443\\u0434\\u0435\\u0442 \\u043e\\u0431\\u0440\\u0430\\u0449\\u0430\\u0442\\u044c \\u0432\\u043d\\u0438\\u043c\\u0430\\u043d\\u0438\\u044f \\u043d\\u0430 \\u0442\\u0435 \\u0441\\u043b\\u043e\\u0432\\u0430, \\u043a\\u043e\\u0442\\u043e\\u0440\\u044b\\u043c\\u0438 \\u043c\\u044b \\u0431\\u043e\\u043b\\u044c\\u0448\\u0435\\u044e \\u0447\\u0430\\u0441\\u0442\\u044c\\u044e \\u043f\\u0440\\u0438\\u0432\\u044b\\u043a\\u043b\\u0438 \\u0443\\u0442\\u0432\\u0435\\u0440\\u0436\\u0434\\u0430\\u0442\\u044c \\u0438 \\u043e\\u0442\\u0440\\u0438\\u0446\\u0430\\u0442\\u044c, \\u0442\\u043e\\u0442 \\u043c\\u043e\\u0436\\u0435\\u0442 \\u0434\\u0430\\u0432\\u0430\\u0442\\u044c \\u0441\\u043e\\u0433\\u043b\\u0430\\u0441\\u0438\\u0435 \\u043d\\u0430 \\u043f\\u043e\\u043b\\u043e\\u0436\\u0435\\u043d\\u0438\\u044f, \\u0435\\u0449\\u0435 \\u0443\\u0436\\u0430\\u0441\\u043d\\u0435\\u0435 \\u0441\\u0435\\u0439\\u0447\\u0430\\u0441 \\u0434\\u043e\\u043f\\u0443\\u0449\\u0435\\u043d\\u043d\\u044b\\u0445. \\u041e\\u0442\\u0432. \\u041e\\u0431\\u0440\\u0430\\u0449\\u0430\\u0439\\u0441\\u044f \\u043a \\u043d\\u0430\\u043c \\u043e\\u0431\\u043e\\u0438\\u043c, \\u043d\\u043e \\u043e\\u0442\\u0432\\u0435\\u0447\\u0430\\u0435\\u0442 \\u043f\\u0443\\u0441\\u0442\\u044c \\u043c\\u043b\\u0430\\u0434\\u0448\\u0438\\u0439; \\u043f\\u043e\\u0442\\u043e\\u043c\\u0443 \\u0447\\u0442\\u043e \\u043e\\u0448\\u0438\\u0431\\u0430\\u0442\\u044c\\u0441\\u044f \\u0435\\u043c\\u0443 \\u043c\\u0435\\u043d\\u0435\\u0435 \\u043d\\u0435\\u043f\\u0440\\u0438\\u043b\\u0438\\u0447\\u043d\\u043e. \\u0421\\u043e\\u043a\\u0440. \\u0422\\u0430\\u043a \\u044f \\u043f\\u0440\\u0435\\u0434\\u043b\\u0430\\u0433\\u0430\\u044e \\u0443\\u0436\\u0430\\u0441\\u043d\\u0435\\u0439\\u0448\\u0438\\u0439 \\u0432\\u043e\\u043f\\u0440\\u043e\\u0441. \\u041e\\u043d, \\u0434\\u0443\\u043c\\u0430\\u044e, \\u0447\\u0442\\u043e-\\u0442\\u043e \\u0442\\u0430\\u043a\\u043e\\u0435: \\u0432\\u043e\\u0437\\u043c\\u043e\\u0436\\u043d\\u043e \\u043b\\u0438, \\u0447\\u0442\\u043e\\u0431\\u044b \\u043e\\u0434\\u0438\\u043d \\u0438 \\u0442\\u043e\\u0442 \\u0436\\u0435 \\u0447\\u0435\\u043b\\u043e\\u0432\\u0435\\u043a, \\u0437\\u043d\\u0430\\u044f \\u043d\\u0435\\u0447\\u0442\\u043e, \\u043d\\u0435 \\u0437\\u043d\\u0430\\u043b \\u0442\\u043e\\u0433\\u043e, \\u0447\\u0442\\u043e\\u0300 \\u0437\\u043d\\u0430\\u0435\\u0442?\",\n          \"\\u0421\\u043e\\u043a\\u0440. \\u0421\\u0442\\u0430\\u043b\\u043e \\u0431\\u044b\\u0442\\u044c, \\u043d\\u0435\\u0442 \\u043a\\u0440\\u0430\\u0439\\u043d\\u0435\\u0439 \\u043d\\u0435\\u043e\\u0431\\u0445\\u043e\\u0434\\u0438\\u043c\\u043e\\u0441\\u0442\\u0438, \\u043a\\u0430\\u043a \\u0442\\u044b \\u0442\\u0435\\u043f\\u0435\\u0440\\u044c \\u0436\\u0435 \\u0433\\u043e\\u0432\\u043e\\u0440\\u0438\\u043b, \\u0447\\u0442\\u043e\\u0431\\u044b, \\u0447\\u0442\\u043e\\u0300 \\u043e\\u0431\\u0430, \\u0442\\u043e \\u0431\\u044b\\u043b \\u0438 \\u043a\\u0430\\u0436\\u0434\\u044b\\u0439, \\u0438\\u043b\\u0438, \\u0447\\u0442\\u043e\\u0300 \\u2014 \\u043a\\u0430\\u0436\\u0434\\u044b\\u0439, \\u0442\\u043e \\u0431\\u044b\\u043b\\u0438 \\u0431\\u044b \\u043e\\u0431\\u0430. \\u041e\\u0442\\u0432. \\u0414\\u0430 \\u043d\\u0435 \\u044d\\u0442\\u043e, \\u0430 \\u0442\\u043e, \\u0447\\u0442\\u043e \\u044f \\u043f\\u0440\\u0435\\u0436\\u0434\\u0435 \\u0433\\u043e\\u0432\\u043e\\u0440\\u0438\\u043b. \\u0421\\u043e\\u043a\\u0440. \\u0414\\u043e\\u0432\\u043e\\u043b\\u044c\\u043d\\u043e, \\u0418\\u043f\\u043f\\u0438\\u0430\\u0441; \\u043b\\u044e\\u0431\\u043e, \\u043a\\u043e\\u0433\\u0434\\u0430 \\u0438 \\u043e\\u0434\\u043d\\u043e \\u0442\\u0430\\u043a \\u043f\\u0440\\u0435\\u0434\\u0441\\u0442\\u0430\\u0432\\u043b\\u044f\\u0435\\u0442\\u0441\\u044f, \\u0445\\u043e\\u0442\\u044f \\u0431\\u044b \\u0434\\u0440\\u0443\\u0433\\u043e\\u0435 \\u0431\\u044b\\u043b\\u043e \\u0438 \\u043d\\u0435\\u0442\\u0430\\u043a\\u043e\\u0432\\u043e. \\u0412\\u0435\\u0434\\u044c \\u044f \\u0443\\u0436\\u0435 \\u0433\\u043e\\u0432\\u043e\\u0440\\u0438\\u043b, \\u0435\\u0441\\u043b\\u0438 \\u043f\\u043e\\u043c\\u043d\\u0438\\u0448\\u044c, \\u0441 \\u0447\\u0435\\u0433\\u043e \\u043d\\u0430\\u0447\\u0430\\u043b\\u0430\\u0441\\u044c \\u044d\\u0442\\u0430 \\u0440\\u0435\\u0447\\u044c, \\u0447\\u0442\\u043e \\u0443\\u0434\\u043e\\u0432\\u043e\\u043b\\u044c\\u0441\\u0442\\u0432\\u0438\\u044f \\u0447\\u0440\\u0435\\u0437 \\u0437\\u0440\\u0435\\u043d\\u0438\\u0435 \\u0438 \\u0447\\u0440\\u0435\\u0437 \\u0441\\u043b\\u0443\\u0445 \\u043f\\u0440\\u0435\\u043a\\u0440\\u0430\\u0441\\u043d\\u044b \\u043d\\u0435 \\u0442\\u0435\\u043c,  \\u0447\\u0442\\u043e\\u0300 \\u043a\\u043e\\u0442\\u043e\\u0440\\u043e\\u043c\\u0443-\\u043b\\u0438\\u0431\\u043e \\u0438\\u0437 \\u043d\\u0438\\u0445 \\u0441\\u0432\\u043e\\u0439\\u0441\\u0442\\u0432\\u0435\\u043d\\u043d\\u043e, \\u0430 \\u043e\\u0431\\u043e\\u0438\\u043c \\u043d\\u0435\\u0442, \\u0438\\u043b\\u0438 \\u0447\\u0442\\u043e \\u043e\\u0431\\u043e\\u0438\\u043c \\u0441\\u0432\\u043e\\u0439\\u0441\\u0442\\u0432\\u0435\\u043d\\u043d\\u043e, \\u0430 \\u043a\\u043e\\u0442\\u043e\\u0440\\u043e\\u043c\\u0443-\\u043b\\u0438\\u0431\\u043e \\u043d\\u0435\\u0442, \\u043d\\u043e \\u0442\\u0435\\u043c, \\u0447\\u0442\\u043e\\u0300 \\u0441\\u0432\\u043e\\u0439\\u0441\\u0442\\u0432\\u0435\\u043d\\u043d\\u043e \\u043a\\u0430\\u043a \\u043e\\u0431\\u043e\\u0438\\u043c, \\u0442\\u0430\\u043a \\u0438 \\u043a\\u0430\\u0436\\u0434\\u043e\\u043c\\u0443 \\u043f\\u043e\\u0440\\u043e\\u0437\\u043d\\u044c. \\u0414\\u0430 \\u0442\\u044b \\u0441\\u0430\\u043c \\u0442\\u043e\\u0433\\u0434\\u0430 \\u0441\\u043e\\u0433\\u043b\\u0430\\u0448\\u0430\\u043b\\u0441\\u044f, \\u0447\\u0442\\u043e \\u0438 \\u043e\\u0431\\u0430 \\u044d\\u0442\\u0438 \\u0443\\u0434\\u043e\\u0432\\u043e\\u043b\\u044c\\u0441\\u0442\\u0432\\u0438\\u044f, \\u0438 \\u043a\\u0430\\u0436\\u0434\\u043e\\u0435 \\u043f\\u043e\\u0440\\u043e\\u0437\\u043d\\u044c \\u2014 \\u043f\\u0440\\u0435\\u043a\\u0440\\u0430\\u0441\\u043d\\u044b. \\u041f\\u043e\\u0441\\u0435\\u043c\\u0443-\\u0442\\u043e \\u044f \\u0434\\u0443\\u043c\\u0430\\u043b, \\u0447\\u0442\\u043e \\u0435\\u0441\\u043b\\u0438 \\u043e\\u0431\\u0430 \\u043e\\u043d\\u0438 \\u043f\\u0440\\u0435\\u043a\\u0440\\u0430\\u0441\\u043d\\u044b, \\u0442\\u043e \\u0434\\u043e\\u043b\\u0436\\u043d\\u044b \\u0431\\u044b\\u0442\\u044c \\u043f\\u0440\\u0435\\u043a\\u0440\\u0430\\u0441\\u043d\\u044b\\u043c\\u0438 \\u0438\\u043c\\u0435\\u043d\\u043d\\u043e \\u043f\\u043e\\u044d\\u0442\\u043e\\u043c\\u0443 \\u2014 \\u043f\\u043e \\u0437\\u0430\\u043a\\u043b\\u044e\\u0447\\u0430\\u044e\\u0449\\u0435\\u0439\\u0441\\u044f \\u0432 \\u043e\\u0431\\u043e\\u0438\\u0445 \\u0441\\u0443\\u0449\\u043d\\u043e\\u0441\\u0442\\u0438, \\u0430 \\u043d\\u0435 \\u043f\\u043e \\u0442\\u043e\\u043c\\u0443, \\u0447\\u0435\\u0433\\u043e \\u0432 \\u043a\\u043e\\u0442\\u043e\\u0440\\u043e\\u043c-\\u043b\\u0438\\u0431\\u043e \\u0438\\u0437 \\u043d\\u0438\\u0445 \\u043d\\u0435\\u0434\\u043e\\u0441\\u0442\\u0430\\u0435\\u0442. \\u0422\\u0430\\u043a \\u044f \\u0434\\u0443\\u043c\\u0430\\u044e \\u0438 \\u0442\\u0435\\u043f\\u0435\\u0440\\u044c. \\u0421\\u043a\\u0430\\u0436\\u0438 \\u0436\\u0435 \\u043c\\u043d\\u0435 \\u043a\\u0430\\u043a \\u0431\\u044b \\u0441\\u043d\\u0430\\u0447\\u0430\\u043b\\u0430: \\u0443\\u0434\\u043e\\u0432\\u043e\\u043b\\u044c\\u0441\\u0442\\u0432\\u0438\\u0435 \\u0447\\u0440\\u0435\\u0437 \\u0437\\u0440\\u0435\\u043d\\u0438\\u0435  \\u0438 \\u0443\\u0434\\u043e\\u0432\\u043e\\u043b\\u044c\\u0441\\u0442\\u0432\\u0438\\u0435 \\u0447\\u0440\\u0435\\u0437 \\u0441\\u043b\\u0443\\u0445, \\u0435\\u0441\\u043b\\u0438 \\u043e\\u0431\\u0430 \\u043e\\u043d\\u0438 \\u043f\\u0440\\u0435\\u043a\\u0440\\u0430\\u0441\\u043d\\u044b \\u0438 \\u043a\\u0430\\u0436\\u0434\\u043e\\u0435 \\u043f\\u043e\\u0440\\u043e\\u0437\\u043d\\u044c, \\u2014 \\u043d\\u0435 \\u0432 \\u043e\\u0431\\u043e\\u0438\\u0445 \\u043b\\u0438 \\u0438\\u0445, \\u0438 \\u043d\\u0435 \\u0432 \\u043a\\u0430\\u0436\\u0434\\u043e\\u043c \\u043b\\u0438 \\u043f\\u043e\\u0440\\u043e\\u0437\\u043d\\u044c \\u0437\\u0430\\u043a\\u043b\\u044e\\u0447\\u0430\\u0435\\u0442\\u0441\\u044f \\u0442\\u043e, \\u0447\\u0442\\u043e \\u0434\\u0435\\u043b\\u0430\\u0435\\u0442 \\u0438\\u0445 \\u043f\\u0440\\u0435\\u043a\\u0440\\u0430\\u0441\\u043d\\u044b\\u043c\\u0438? \\u041e\\u0442\\u0432. \\u041a\\u043e\\u043d\\u0435\\u0447\\u043d\\u043e. \\u0421\\u043e\\u043a\\u0440. \\u0418 \\u043d\\u0435 \\u043f\\u043e \\u0442\\u043e\\u043c\\u0443 \\u043b\\u0438 \\u043e\\u043d\\u0438 \\u043f\\u0440\\u0435\\u043a\\u0440\\u0430\\u0441\\u043d\\u044b, \\u0447\\u0442\\u043e \\u043a\\u0430\\u043a \\u0442\\u043e \\u0438 \\u0434\\u0440\\u0443\\u0433\\u043e\\u0435, \\u0442\\u0430\\u043a \\u0438 \\u043e\\u0431\\u0430 \\u0441\\u0443\\u0442\\u044c \\u0443\\u0434\\u043e\\u0432\\u043e\\u043b\\u044c\\u0441\\u0442\\u0432\\u0438\\u0435? \\u0418\\u043b\\u0438 \\u043f\\u043e \\u044d\\u0442\\u043e\\u043c\\u0443-\\u0442\\u043e \\u0438 \\u0432\\u0441\\u0435 \\u0434\\u0440\\u0443\\u0433\\u0438\\u0435 \\u0431\\u044b\\u043b\\u0438 \\u0431\\u044b \\u043d\\u0438\\u0441\\u043a\\u043e\\u043b\\u044c\\u043a\\u043e \\u043d\\u0435 \\u043c\\u0435\\u043d\\u044c\\u0448\\u0435 \\u0438\\u0445 \\u043f\\u0440\\u0435\\u043a\\u0440\\u0430\\u0441\\u043d\\u044b? \\u0412\\u0435\\u0434\\u044c \\u0435\\u0441\\u043b\\u0438 \\u043f\\u043e\\u043c\\u043d\\u0438\\u0448\\u044c, \\u043f\\u043e\\u0441\\u043b\\u0435\\u0434\\u043d\\u0438\\u0435 \\u043f\\u0440\\u0435\\u0434\\u0441\\u0442\\u0430\\u0432\\u043b\\u044f\\u043b\\u0438\\u0441\\u044c \\u043d\\u0438\\u0441\\u043a\\u043e\\u043b\\u044c\\u043a\\u043e \\u043d\\u0435 \\u043c\\u0435\\u043d\\u044c\\u0448\\u0435 \\u0443\\u0434\\u043e\\u0432\\u043e\\u043b\\u044c\\u0441\\u0442\\u0432\\u0438\\u044f\\u043c\\u0438. \\u041e\\u0442\\u0432. \\u041f\\u043e\\u043c\\u043d\\u044e. \\u0421\\u043e\\u043a\\u0440. \\u0410 \\u043c\\u0435\\u0436\\u0434\\u0443 \\u0442\\u0435\\u043c \\u043c\\u044b \\u0433\\u043e\\u0432\\u043e\\u0440\\u0438\\u043b\\u0438, \\u0447\\u0442\\u043e \\u044d\\u0442\\u0438-\\u0442\\u043e \\u043f\\u043e\\u0442\\u043e\\u043c\\u0443 \\u043f\\u0440\\u0435\\u043a\\u0440\\u0430\\u0441\\u043d\\u044b, \\u0447\\u0442\\u043e \\u043f\\u043e\\u043b\\u0443\\u0447\\u0430\\u044e\\u0442\\u0441\\u044f \\u0447\\u0440\\u0435\\u0437 \\u0437\\u0440\\u0435\\u043d\\u0438\\u0435 \\u0438 \\u0441\\u043b\\u0443\\u0445.\"\n        ],\n        \"semantic_type\": \"\",\n        \"description\": \"\"\n      }\n    },\n    {\n      \"column\": \"Answer\",\n      \"properties\": {\n        \"dtype\": \"category\",\n        \"num_unique_values\": 1249,\n        \"samples\": [\n          \"\\u041e\\u0442\\u0432. \\u042f\\u0432\\u043d\\u043e, \\u0432 \\u0441\\u0430\\u043c\\u043e\\u043c \\u0434\\u0435\\u043b\\u0435, \\u0447\\u0442\\u043e \\u043a \\u044d\\u0442\\u043e\\u043c\\u0443 \\u043f\\u043e\\u0447\\u0442\\u0438 \\u043d\\u0435\\u0447\\u0435\\u0433\\u043e \\u0431\\u043e\\u043b\\u044c\\u0448\\u0435 \\u043f\\u0440\\u0438\\u0431\\u0430\\u0432\\u0438\\u0442\\u044c.\",\n          \"\\u041e\\u0442\\u0432. \\u0422\\u044b \\u0433\\u043e\\u0432\\u043e\\u0440\\u0438\\u0448\\u044c \\u043e\\u0447\\u0435\\u043d\\u044c \\u0441\\u043f\\u0440\\u0430\\u0432\\u0435\\u0434\\u043b\\u0438\\u0432\\u043e.\",\n          \"\\u041e\\u0442\\u0432. \\u0410 \\u044d\\u0442\\u043e, \\u0421\\u043e\\u043a\\u0440\\u0430\\u0442, \\u043d\\u0430\\u0437\\u044b\\u0432\\u0430\\u0435\\u0442\\u0441\\u044f, \\u0434\\u0443\\u043c\\u0430\\u044e, \\u043c\\u043d\\u0438\\u0442\\u044c.\"\n        ],\n        \"semantic_type\": \"\",\n        \"description\": \"\"\n      }\n    },\n    {\n      \"column\": \"Label\",\n      \"properties\": {\n        \"dtype\": \"number\",\n        \"std\": 0,\n        \"min\": 0,\n        \"max\": 1,\n        \"num_unique_values\": 2,\n        \"samples\": [\n          0,\n          1\n        ],\n        \"semantic_type\": \"\",\n        \"description\": \"\"\n      }\n    },\n    {\n      \"column\": \"Common\",\n      \"properties\": {\n        \"dtype\": \"string\",\n        \"num_unique_values\": 2538,\n        \"samples\": [\n          \"\\u0421\\u043e\\u043a\\u0440. \\u041e\\u0434\\u043d\\u0430\\u043a\\u043e\\u0436, \\u0437\\u043d\\u0430\\u044e\\u0449\\u0438\\u0435 \\u0434\\u0435\\u0440\\u0436\\u0443\\u0442\\u0441\\u044f \\u043f\\u043e \\u043a\\u0440\\u0430\\u0439\\u043d\\u0435\\u0439 \\u043c\\u0435\\u0440\\u0435 \\u0442\\u043e\\u0433\\u043e \\u043c\\u043d\\u0435\\u043d\\u0438\\u044f, \\u0447\\u0442\\u043e, \\u0432 \\u0440\\u0430\\u0441\\u0441\\u0443\\u0436\\u0434\\u0435\\u043d\\u0438\\u0438 \\u0438\\u0441\\u0442\\u0438\\u043d\\u044b, \\u0431\\u043e\\u043b\\u0435\\u0435 \\u043f\\u043e\\u043b\\u0435\\u0437\\u043d\\u043e\\u0435 \\u0434\\u043b\\u044f \\u0432\\u0441\\u0435\\u0445 \\u043b\\u044e\\u0434\\u0435\\u0439 \\u0437\\u0430\\u043a\\u043e\\u043d\\u043d\\u0435\\u0435 \\u0442\\u043e\\u0433\\u043e, \\u0447\\u0442\\u043e \\u0431\\u043e\\u043b\\u0435\\u0435 \\u043d\\u0435\\u043f\\u043e\\u043b\\u0435\\u0437\\u043d\\u043e. \\u0418\\u043b\\u0438 \\u043d\\u0435 \\u0441\\u043e\\u0433\\u043b\\u0430\\u0448\\u0430\\u0435\\u0448\\u044c\\u0441\\u044f? \\u041e\\u0442\\u0432. \\u0414\\u0430, \\u0447\\u0442\\u043e \\u0432 \\u0440\\u0430\\u0441\\u0441\\u0443\\u0436\\u0434\\u0435\\u043d\\u0438\\u0438 \\u0438\\u0441\\u0442\\u0438\\u043d\\u044b-\\u0442\\u043e, \\u0441\\u043e\\u0433\\u043b\\u0430\\u0448\\u0430\\u044e\\u0441\\u044c. \\u0421\\u043e\\u043a\\u0440. \\u0410 \\u043d\\u0435 \\u0442\\u0430\\u043a \\u043b\\u0438 \\u0435\\u0441\\u0442\\u044c \\u0438 \\u0434\\u043e\\u043b\\u0436\\u043d\\u043e \\u0431\\u044b\\u0442\\u044c, \\u043a\\u0430\\u043a \\u043f\\u043e\\u043b\\u0430\\u0433\\u0430\\u044e\\u0442 \\u0437\\u043d\\u0430\\u044e\\u0449\\u0438\\u0435? \\u041e\\u0442\\u0432. \\u041a\\u043e\\u043d\\u0435\\u0447\\u043d\\u043e. \\u0421\\u043e\\u043a\\u0440. \\u041d\\u043e \\u043f\\u043e\\u044d\\u0442\\u043e\\u043c\\u0443-\\u0442\\u043e \\u041b\\u0430\\u043a\\u0435\\u0434\\u0435\\u043c\\u043e\\u043d\\u044f\\u043d\\u0430\\u043c, \\u043a\\u0430\\u043a \\u0442\\u044b \\u0433\\u043e\\u0432\\u043e\\u0440\\u0438\\u0448\\u044c,\\u0433\\u043e\\u0440\\u0430\\u0437\\u0434\\u043e \\u043f\\u043e\\u043b\\u0435\\u0437\\u043d\\u0435\\u0435 \\u0431\\u044b\\u043b\\u043e \\u0431\\u044b \\u0434\\u0430\\u0432\\u0430\\u0442\\u044c \\u0434\\u0435\\u0442\\u044f\\u043c \\u0432\\u043e\\u0441\\u043f\\u0438\\u0442\\u0430\\u043d\\u0438\\u0435 \\u0447\\u0440\\u0435\\u0437 \\u0442\\u0435\\u0431\\u044f \\u2014 \\u0438\\u043d\\u043e\\u0441\\u0442\\u0440\\u0430\\u043d\\u043d\\u043e\\u0435, \\u0447\\u0435\\u043c \\u0441\\u0432\\u043e\\u0435 \\u043d\\u0430\\u0440\\u043e\\u0434\\u043d\\u043e\\u0435. SEPARATOR \\u041e\\u0442\\u0432. \\u042d\\u0442\\u043e \\u043f\\u0440\\u0430\\u0432\\u0434\\u0430, \\u0421\\u043e\\u043a\\u0440\\u0430\\u0442; \\u044d\\u0442\\u043e \\u0442\\u0430\\u043a, \\u043a\\u0430\\u043a \\u0442\\u044b \\u0433\\u043e\\u0432\\u043e\\u0440\\u0438\\u0448\\u044c. \\u041a\\u043e\\u043d\\u0435\\u0447\\u043d\\u043e, \\u044f \\u0438 \\u0441\\u0430\\u043c \\u043e\\u0431\\u044b\\u043a\\u043d\\u043e\\u0432\\u0435\\u043d\\u043d\\u043e \\u0445\\u0432\\u0430\\u043b\\u044e \\u0434\\u0440\\u0435\\u0432\\u043d\\u0438\\u0445 \\u0438 \\u0434\\u043e \\u043d\\u0430\\u0441 \\u0436\\u0438\\u0432\\u0448\\u0438\\u0445, \\u2014 \\u0445\\u0432\\u0430\\u043b\\u044e \\u0438\\u0445 \\u043f\\u0435\\u0440\\u0432\\u044b\\u0445 \\u0438 \\u0431\\u043e\\u043b\\u044c\\u0448\\u0435, \\u0447\\u0435\\u043c \\u043d\\u044b\\u043d\\u0435\\u0448\\u043d\\u0438\\u0445, \\u043d\\u043e \\u0442\\u043e\\u043b\\u044c\\u043a\\u043e \\u2014 \\u043e\\u043f\\u0430\\u0441\\u0430\\u044f\\u0441\\u044c \\u043d\\u0435\\u043d\\u0430\\u0432\\u0438\\u0441\\u0442\\u0438 \\u0436\\u0438\\u0432\\u0443\\u0449\\u0438\\u0445 \\u0438 \\u0441\\u0442\\u0440\\u0430\\u0448\\u0430\\u0441\\u044c \\u0433\\u043d\\u0435\\u0432\\u0430 \\u0443\\u043c\\u0435\\u0440\\u0448\\u0438\\u0445.\",\n          \"\\u0421\\u043e\\u043a\\u0440. \\u0418\\u0437\\u0432\\u0435\\u0441\\u0442\\u043d\\u043e, \\u0434\\u043e\\u0431\\u0440\\u044b\\u0439 \\u041a\\u0430\\u043b\\u043b\\u0438\\u043a\\u043b, \\u0435\\u0441\\u043b\\u0438 \\u0442\\u043e\\u043b\\u044c\\u043a\\u043e \\u044f \\u043d\\u0435  \\u0433\\u043b\\u0443\\u0445, \\u0435\\u0441\\u043b\\u0438 \\u043c\\u043e\\u0433\\u0443 \\u0447\\u0430\\u0441\\u0442\\u043e \\u0441\\u043b\\u044b\\u0448\\u0430\\u0442\\u044c \\u0442\\u0435\\u0431\\u044f, \\u041f\\u043e\\u043b\\u043e\\u0441\\u0430, \\u0438 \\u0435\\u0434\\u0432\\u0430 \\u043d\\u0435 \\u0432\\u0441\\u0435\\u0445 \\u0432 \\u0433\\u043e\\u0440\\u043e\\u0434\\u0435. \\u041d\\u043e \\u043f\\u043e\\u0441\\u043b\\u0443\\u0448\\u0430\\u0439 \\u0438 \\u0442\\u044b \\u043c\\u0435\\u043d\\u044f. \\u041e\\u043d \\u043a\\u043e\\u043d\\u0435\\u0447\\u043d\\u043e \\u0443\\u0431\\u044c\\u0435\\u0442, \\u0435\\u0441\\u043b\\u0438 \\u0437\\u0430\\u0445\\u043e\\u0447\\u0435\\u0442; \\u043d\\u043e \\u0432\\u0435\\u0434\\u044c \\u0443\\u0431\\u044c\\u0435\\u0442 \\u0447\\u0435\\u043b\\u043e\\u0432\\u0435\\u043a \\u0434\\u0443\\u0440\\u043d\\u043e\\u0439 \\u0447\\u0435\\u043b\\u043e\\u0432\\u0435\\u043a\\u0430 \\u0445\\u043e\\u0440\\u043e\\u0448\\u0435\\u0433\\u043e \\u0438 \\u0434\\u043e\\u0431\\u0440\\u043e\\u0433\\u043e. \\u041e\\u0442\\u0432. \\u0422\\u0430\\u043a \\u0447\\u0442\\u043e \\u0436? \\u044d\\u0442\\u043e-\\u0442\\u043e \\u0438 \\u0434\\u043e\\u0441\\u0430\\u0434\\u043d\\u043e? \\u0421\\u043e\\u043a\\u0440. \\u041f\\u043e \\u043a\\u0440\\u0430\\u0439\\u043d\\u0435\\u0439 \\u043c\\u0435\\u0440\\u0435 \\u043d\\u0435 \\u0434\\u043b\\u044f \\u0443\\u043c\\u043d\\u043e\\u0433\\u043e \\u0447\\u0435\\u043b\\u043e\\u0432\\u0435\\u043a\\u0430, \\u043a\\u0430\\u043a \\u0432\\u0438\\u0434\\u043d\\u043e \\u0438\\u0437 \\u043c\\u043e\\u0438\\u0445 \\u0441\\u043b\\u043e\\u0432. \\u0414\\u0443\\u043c\\u0430\\u0435\\u0448\\u044c \\u043b\\u0438, \\u0447\\u0442\\u043e \\u0447\\u0435\\u043b\\u043e\\u0432\\u0435\\u043a \\u0434\\u043e\\u043b\\u0436\\u0435\\u043d \\u0437\\u0430\\u0431\\u043e\\u0442\\u0438\\u0442\\u044c\\u0441\\u044f \\u043e \\u0442\\u043e\\u043c, \\u043a\\u0430\\u043a \\u0431\\u044b \\u0434\\u043e\\u043b\\u0435\\u0435 \\u043f\\u0440\\u043e\\u0436\\u0438\\u0442\\u044c \\u0438 \\u0437\\u0430\\u043d\\u0438\\u043c\\u0430\\u0442\\u044c\\u0441\\u044f \\u0442\\u0435\\u043c\\u0438 \\u0438\\u0441\\u043a\\u0443\\u0441\\u0441\\u0442\\u0432\\u0430\\u043c\\u0438, \\u043a\\u043e\\u0442\\u043e\\u0440\\u044b\\u0435 \\u0432\\u0441\\u0435\\u0433\\u0434\\u0430 \\u0438\\u0437\\u0431\\u0430\\u0432\\u043b\\u044f\\u044e\\u0442 \\u043d\\u0430\\u0441 \\u043e\\u0442 \\u043e\\u043f\\u0430\\u0441\\u043d\\u043e\\u0441\\u0442\\u0435\\u0439, \\u043f\\u043e\\u0434\\u043e\\u0431\\u043d\\u043e \\u0442\\u043e\\u043c\\u0443, \\u043a\\u0430\\u043a \\u0442\\u044b \\u0432\\u0435\\u043b\\u0438\\u0448\\u044c \\u043c\\u043d\\u0435 \\u0437\\u0430\\u043d\\u0438\\u043c\\u0430\\u0442\\u044c\\u0441\\u044f  \\u0440\\u0438\\u0442\\u043e\\u0440\\u0438\\u043a\\u043e\\u044e, \\u043a\\u043e\\u0442\\u043e\\u0440\\u0430\\u044f \\u0437\\u0430\\u0449\\u0438\\u0449\\u0430\\u0435\\u0442 \\u043d\\u0430\\u0441 \\u0432 \\u0441\\u0443\\u0434\\u0430\\u0445? SEPARATOR \\u041e\\u0442\\u0432. \\u0414\\u0430, \\u043a\\u043b\\u044f\\u043d\\u0443\\u0441\\u044c \\u0417\\u0435\\u0432\\u0441\\u043e\\u043c, \\u044f \\u0441\\u043e\\u0432\\u0435\\u0442\\u043e\\u0432\\u0430\\u043b \\u0442\\u0435\\u0431\\u0435 \\u0434\\u0435\\u043b\\u044c\\u043d\\u043e.\"\n        ],\n        \"semantic_type\": \"\",\n        \"description\": \"\"\n      }\n    }\n  ]\n}"
            }
          },
          "metadata": {},
          "execution_count": 7
        }
      ]
    },
    {
      "cell_type": "code",
      "source": [
        "dfnew.info()"
      ],
      "metadata": {
        "colab": {
          "base_uri": "https://localhost:8080/"
        },
        "id": "Ymq2nd1VM_PR",
        "outputId": "9bc87eec-ae3a-468b-c51f-1bc2ec8b51bb"
      },
      "execution_count": null,
      "outputs": [
        {
          "output_type": "stream",
          "name": "stdout",
          "text": [
            "<class 'pandas.core.frame.DataFrame'>\n",
            "Int64Index: 2538 entries, 0 to 2539\n",
            "Data columns (total 5 columns):\n",
            " #   Column      Non-Null Count  Dtype \n",
            "---  ------      --------------  ----- \n",
            " 0   Unnamed: 0  2538 non-null   int64 \n",
            " 1   Query       2538 non-null   object\n",
            " 2   Answer      2538 non-null   object\n",
            " 3   Label       2538 non-null   int64 \n",
            " 4   Common      2538 non-null   object\n",
            "dtypes: int64(2), object(3)\n",
            "memory usage: 119.0+ KB\n"
          ]
        }
      ]
    },
    {
      "cell_type": "code",
      "source": [
        "filtered_data =  dfnew.to_dict('records')"
      ],
      "metadata": {
        "id": "trzTCzUAeKVM"
      },
      "execution_count": null,
      "outputs": []
    },
    {
      "cell_type": "code",
      "source": [
        "filtered_data"
      ],
      "metadata": {
        "id": "5weXMW9dfUr2"
      },
      "execution_count": null,
      "outputs": []
    },
    {
      "cell_type": "code",
      "source": [
        "bert_model = AutoModel.from_pretrained(\"distilbert-base-uncased\")"
      ],
      "metadata": {
        "colab": {
          "base_uri": "https://localhost:8080/",
          "height": 205,
          "referenced_widgets": [
            "7be5822854c94d7284496b80f413b66c",
            "77798232cf75415a98ca8bd6e0864784",
            "3f86303993d94cdbb63ea6dcddd59352",
            "4c4248b6cc42411ab5452488c66c37c8",
            "7616421703cf416fb31a3882735b6882",
            "27fc8fad494940efaaf9f9999d5bfd24",
            "28c153eb99a74803b23d851f8a3096b9",
            "86651ddfde6847048c013430cc15c792",
            "f1079d9646204e76b8c2ae0d9de76432",
            "fdbbb1ae162c4a49a03538e0c3bcbae1",
            "7b54904fa46b4e97a74a0841fe4158d6",
            "3230621d7c574afc89796ea749f1d58d",
            "65bf74bcc64d481e9ad6a1f6ad825c5b",
            "a2af34f2ccc04c2ebc34376df804af8a",
            "258e89aeff12435bab2c1288c5c78223",
            "f8d6d10bc0964ca3be1b6b4f8cb12cab",
            "bf2d17354b16407e889e1fdc324208dd",
            "a719cdd3ee8f4fe0bc39c249d47b6284",
            "6a9becc650bd4e629d69803620d52144",
            "0ee1ea81cd454077a8bdeccbd1a32eea",
            "70737cf014ae4e1c94240375506f6b88",
            "1df97c9565744b538ef7b25ec1e9168d"
          ]
        },
        "id": "xsis7u5A6KRP",
        "outputId": "783c094d-3e18-4c08-83ee-90ab16425954"
      },
      "execution_count": null,
      "outputs": [
        {
          "output_type": "stream",
          "name": "stderr",
          "text": [
            "/usr/local/lib/python3.10/dist-packages/huggingface_hub/utils/_token.py:88: UserWarning: \n",
            "The secret `HF_TOKEN` does not exist in your Colab secrets.\n",
            "To authenticate with the Hugging Face Hub, create a token in your settings tab (https://huggingface.co/settings/tokens), set it as secret in your Google Colab and restart your session.\n",
            "You will be able to reuse this secret in all of your notebooks.\n",
            "Please note that authentication is recommended but still optional to access public models or datasets.\n",
            "  warnings.warn(\n"
          ]
        },
        {
          "output_type": "display_data",
          "data": {
            "text/plain": [
              "config.json:   0%|          | 0.00/483 [00:00<?, ?B/s]"
            ],
            "application/vnd.jupyter.widget-view+json": {
              "version_major": 2,
              "version_minor": 0,
              "model_id": "7be5822854c94d7284496b80f413b66c"
            }
          },
          "metadata": {}
        },
        {
          "output_type": "display_data",
          "data": {
            "text/plain": [
              "model.safetensors:   0%|          | 0.00/268M [00:00<?, ?B/s]"
            ],
            "application/vnd.jupyter.widget-view+json": {
              "version_major": 2,
              "version_minor": 0,
              "model_id": "3230621d7c574afc89796ea749f1d58d"
            }
          },
          "metadata": {}
        }
      ]
    },
    {
      "cell_type": "code",
      "source": [
        "tokenizer = AutoTokenizer.from_pretrained(\"distilbert-base-uncased\")"
      ],
      "metadata": {
        "colab": {
          "base_uri": "https://localhost:8080/",
          "height": 113,
          "referenced_widgets": [
            "d4bcbccaf91d45a7b94f281511d1d268",
            "a9b62420f4c14df29040566e5b3b4c1f",
            "f74a00d91f0b47a5a8633cc773e97121",
            "9d30516200bf4336b3dba082e0aefa90",
            "3467f05b92b34d67a2e589bbc5d157cd",
            "bfd8c50a59ac4b1a83d588900fa97413",
            "5d1adfa1515c4ab69d73652d59921396",
            "355d5d4289aa44c6ab4b74b07c4c718f",
            "54dad026a92e44349446164a7470c93f",
            "19ea747439b7468ca2086de640afe287",
            "b705c094526f414db2d21dcec6af78a8",
            "19c93682ea2042128ea1d9fad16ec0b7",
            "361a2ddca986432e9f0e895aa583f941",
            "2ba6bd24fc4847278dfb981cb0356cda",
            "ceee976b4b9648ea97fa3b3e95860805",
            "028acf8624e84c54a8cfcdff50527b04",
            "d5559891e3f94bdebe3575ca6a3191cb",
            "f6e125fe572b439fa572530159c02173",
            "88266a5557444e268eb4504d013b8d07",
            "baecd5f6b8cf453089f3f550289e3bd2",
            "94db879f98804637ad6aadecdbf9f488",
            "ea772da10f6a4080ad6ab8d4905a206d",
            "09b987e579ca40f1bd4b24424fef401b",
            "8c8db1945cba48ba835555406bb5013a",
            "75ed86361fb749f89c39b5aeee88eb7a",
            "98195267a9334aa9934d891656c7f9a6",
            "36fcfade74804118ab4aaf8e763c4e1b",
            "84b564dd47704e94b5dab6da039c5c0a",
            "5c2ab6adf4b94841a75321d25199c7f4",
            "3af2c9923a114bc693c2dbbd563caf10",
            "4268e8b7c7a94ce69f9b60637a0b8032",
            "64a5a2873a634ca499596d857b30ac72",
            "778dc24111c3443c88c1fedda78a9bb8"
          ]
        },
        "id": "hw5r3wNcaTIX",
        "outputId": "b0bf2008-f4da-47e4-853d-b80286af0947"
      },
      "execution_count": null,
      "outputs": [
        {
          "output_type": "display_data",
          "data": {
            "text/plain": [
              "tokenizer_config.json:   0%|          | 0.00/28.0 [00:00<?, ?B/s]"
            ],
            "application/vnd.jupyter.widget-view+json": {
              "version_major": 2,
              "version_minor": 0,
              "model_id": "d4bcbccaf91d45a7b94f281511d1d268"
            }
          },
          "metadata": {}
        },
        {
          "output_type": "display_data",
          "data": {
            "text/plain": [
              "vocab.txt:   0%|          | 0.00/232k [00:00<?, ?B/s]"
            ],
            "application/vnd.jupyter.widget-view+json": {
              "version_major": 2,
              "version_minor": 0,
              "model_id": "19c93682ea2042128ea1d9fad16ec0b7"
            }
          },
          "metadata": {}
        },
        {
          "output_type": "display_data",
          "data": {
            "text/plain": [
              "tokenizer.json:   0%|          | 0.00/466k [00:00<?, ?B/s]"
            ],
            "application/vnd.jupyter.widget-view+json": {
              "version_major": 2,
              "version_minor": 0,
              "model_id": "09b987e579ca40f1bd4b24424fef401b"
            }
          },
          "metadata": {}
        }
      ]
    },
    {
      "cell_type": "code",
      "source": [
        "MAX_LENGTH = 128\n",
        "\n",
        "tokenized_texts = tokenizer([data[\"Query\"] for data in filtered_data],\n",
        "                            [data[\"Answer\"] for data in filtered_data],\n",
        "                            max_length=MAX_LENGTH, padding=\"max_length\",\n",
        "                            truncation=True, verbose=True)"
      ],
      "metadata": {
        "id": "fP8els9LbbsJ"
      },
      "execution_count": null,
      "outputs": []
    },
    {
      "cell_type": "code",
      "source": [
        "class StsDataset(Dataset):\n",
        "    def __init__(self, tokens: dict, labels: list[float]):\n",
        "        self.tokens = tokens\n",
        "        self.labels = labels\n",
        "\n",
        "    def __getitem__(self, ix: int) -> dict[str, torch.tensor]:\n",
        "        return {\n",
        "            \"input_ids\": torch.tensor(self.tokens[\"input_ids\"][ix], dtype=torch.long),\n",
        "            \"attention_mask\": torch.tensor(self.tokens[\"attention_mask\"][ix], dtype=torch.long),\n",
        "            \"labels\": torch.tensor(self.labels[ix], dtype=torch.float)  # Use float for regression\n",
        "        }\n",
        "\n",
        "    def __len__(self) -> int:\n",
        "        return len(self.tokens[\"input_ids\"])"
      ],
      "metadata": {
        "id": "4QeJxxkQbtUf"
      },
      "execution_count": null,
      "outputs": []
    },
    {
      "cell_type": "code",
      "source": [
        "%%time\n",
        "\n",
        "sts_dataset = StsDataset(tokenized_texts, [data[\"Label\"] for data in filtered_data])"
      ],
      "metadata": {
        "colab": {
          "base_uri": "https://localhost:8080/"
        },
        "id": "irHPi8DMb1RI",
        "outputId": "6886f38b-0e2b-444c-cca6-138c7b6446ea"
      },
      "execution_count": null,
      "outputs": [
        {
          "output_type": "stream",
          "name": "stdout",
          "text": [
            "CPU times: user 265 µs, sys: 0 ns, total: 265 µs\n",
            "Wall time: 274 µs\n"
          ]
        }
      ]
    },
    {
      "cell_type": "code",
      "source": [
        "train_ratio = 0.8\n",
        "n_total = len(sts_dataset)\n",
        "n_train = int(n_total * train_ratio)\n",
        "n_val = n_total - n_train\n",
        "\n",
        "train_dataset, val_dataset = random_split(sts_dataset, [n_train, n_val])\n",
        "\n",
        "batch_size = 16  # mentioned in the paper\n",
        "train_dataloader = DataLoader(train_dataset, batch_size=batch_size, shuffle=True)\n",
        "val_dataloader = DataLoader(val_dataset, batch_size=batch_size, shuffle=False)"
      ],
      "metadata": {
        "id": "bU20ryCTb6xV"
      },
      "execution_count": null,
      "outputs": []
    },
    {
      "cell_type": "code",
      "source": [
        "len(train_dataloader), len(val_dataloader)"
      ],
      "metadata": {
        "colab": {
          "base_uri": "https://localhost:8080/"
        },
        "id": "RmyFzc-CcHSO",
        "outputId": "07d19049-acde-41bf-ccc0-66cbbca1a397"
      },
      "execution_count": null,
      "outputs": [
        {
          "output_type": "execute_result",
          "data": {
            "text/plain": [
              "(127, 32)"
            ]
          },
          "metadata": {},
          "execution_count": 16
        }
      ]
    },
    {
      "cell_type": "code",
      "source": [
        "class CrossEncoderBert(torch.nn.Module):\n",
        "    def __init__(self, max_length: int = MAX_LENGTH):\n",
        "        super().__init__()\n",
        "        self.max_length = max_length\n",
        "        self.bert_model = tuned_model = AutoModel.from_pretrained('distilbert-base-uncased')\n",
        "        self.bert_tokenizer = AutoTokenizer.from_pretrained('distilbert-base-uncased')\n",
        "        self.linear = torch.nn.Linear(self.bert_model.config.hidden_size, 1)\n",
        "\n",
        "    def forward(self, input_ids, attention_mask):\n",
        "        outputs = self.bert_model(input_ids=input_ids, attention_mask=attention_mask)\n",
        "        pooled_output = outputs.last_hidden_state[:, 0]  # Use the CLS token's output\n",
        "        return self.linear(pooled_output)"
      ],
      "metadata": {
        "id": "4VKQpiNUcRUy"
      },
      "execution_count": null,
      "outputs": []
    },
    {
      "cell_type": "code",
      "source": [
        "def test_cross_encoder_bert():\n",
        "    max_length = 128\n",
        "    model = CrossEncoderBert(max_length=max_length)\n",
        "\n",
        "    # Check __init__ method\n",
        "    assert model.max_length == max_length, \"Incorrect max_length initialization\"\n",
        "    assert isinstance(model.linear, torch.nn.Linear), \"linear is not an instance of torch.nn.Linear\"\n",
        "    assert model.linear.in_features == model.bert_model.config.hidden_size, \"Incorrect input size for linear layer\"\n",
        "\n",
        "    # Prepare dummy data for forward method check\n",
        "    input_text = [\"Hello, world!\"]\n",
        "    inputs = model.bert_tokenizer(input_text, return_tensors=\"pt\", max_length=max_length, truncation=True, padding=True)\n",
        "    input_ids = inputs[\"input_ids\"]\n",
        "    attention_mask = inputs[\"attention_mask\"]\n",
        "\n",
        "    # Check forward method\n",
        "    output = model(input_ids, attention_mask)\n",
        "    assert output.shape == (1, 1), \"Output shape is incorrect\"\n",
        "\n",
        "    print(\"All checks passed!\")\n",
        "\n",
        "test_cross_encoder_bert()"
      ],
      "metadata": {
        "id": "J4_SObJRcSvB",
        "colab": {
          "base_uri": "https://localhost:8080/"
        },
        "outputId": "807d4ecb-9338-444e-a161-00b053f7f204"
      },
      "execution_count": null,
      "outputs": [
        {
          "output_type": "stream",
          "name": "stdout",
          "text": [
            "All checks passed!\n"
          ]
        }
      ]
    },
    {
      "cell_type": "code",
      "source": [
        "device = \"cuda\" if torch.cuda.is_available() else \"cpu\"\n",
        "model = CrossEncoderBert().to(device)"
      ],
      "metadata": {
        "id": "GXaeiHFrhPQh"
      },
      "execution_count": null,
      "outputs": []
    },
    {
      "cell_type": "code",
      "source": [
        "#  optimizer, lr, num_warmup steps have been picked from the paper\n",
        "optimizer = torch.optim.AdamW(model.parameters(), lr=3e-5)\n",
        "total_steps = len(train_dataset) // batch_size\n",
        "warmup_steps = int(0.1 * total_steps)\n",
        "scheduler = get_linear_schedule_with_warmup(optimizer, num_warmup_steps=warmup_steps,\n",
        "                                            num_training_steps=total_steps - warmup_steps)\n",
        "\n",
        "loss_fn = torch.nn.MSELoss()"
      ],
      "metadata": {
        "id": "OQjHlxQrhQZe"
      },
      "execution_count": null,
      "outputs": []
    },
    {
      "cell_type": "code",
      "source": [
        "def train_step_fn(model, optimizer, scheduler, loss_fn, batch):\n",
        "    model.train()\n",
        "    input_ids = batch['input_ids'].to(device)\n",
        "    attention_mask = batch['attention_mask'].to(device)\n",
        "    labels = batch['labels'].to(device)\n",
        "    optimizer.zero_grad()\n",
        "    logits = model(input_ids, attention_mask)\n",
        "    loss = loss_fn(logits.squeeze(-1), labels)\n",
        "    loss.backward()\n",
        "    optimizer.step()\n",
        "    scheduler.step()\n",
        "    return loss.item()\n",
        "\n",
        "def val_step_fn(model, loss_fn, batch):\n",
        "    model.eval()\n",
        "    input_ids = batch['input_ids'].to(device)\n",
        "    attention_mask = batch['attention_mask'].to(device)\n",
        "    labels = batch['labels'].to(device)\n",
        "    with torch.no_grad():\n",
        "        logits = model(input_ids, attention_mask)\n",
        "    loss = loss_fn(logits.squeeze(-1), labels)\n",
        "    return loss.item()\n",
        "\n",
        "def mini_batch(dataloader, step_fn, is_training=True):\n",
        "    mini_batch_losses = []\n",
        "    for i, batch in enumerate(dataloader):\n",
        "        if is_training:\n",
        "            loss = step_fn(model, optimizer, scheduler, loss_fn, batch)\n",
        "        else:\n",
        "            loss = step_fn(model, loss_fn, batch)\n",
        "        mini_batch_losses.append(loss)\n",
        "        if i % (batch_size * 4) == 0:\n",
        "            print(f\"Step {i:>5}/{len(dataloader)}, Loss = {loss:.3f}\")\n",
        "    return np.mean(mini_batch_losses), mini_batch_losses"
      ],
      "metadata": {
        "id": "2JVz_wfuhWdp"
      },
      "execution_count": null,
      "outputs": []
    },
    {
      "cell_type": "code",
      "source": [
        "%%time\n",
        "\n",
        "n_epochs = 2\n",
        "\n",
        "train_losses, train_mini_batch_losses = [], []\n",
        "val_losses, val_mini_batch_losses = [], []\n",
        "\n",
        "for epoch in range(1, n_epochs + 1):\n",
        "    print(f\"\\nEpoch {epoch}\")\n",
        "    train_loss, _train_mini_batch_losses = mini_batch(train_dataloader, train_step_fn, is_training=True)\n",
        "    train_mini_batch_losses.extend(_train_mini_batch_losses)\n",
        "    train_losses.append(train_loss)\n",
        "\n",
        "    with torch.no_grad():\n",
        "        val_loss, _val_mini_batch_losses = mini_batch(val_dataloader, val_step_fn, is_training=False)\n",
        "        val_mini_batch_losses.extend(_val_mini_batch_losses)\n",
        "        val_losses.append(val_loss)"
      ],
      "metadata": {
        "colab": {
          "base_uri": "https://localhost:8080/"
        },
        "id": "KRJ3UTIWhaay",
        "outputId": "c917ecc5-55aa-4618-df89-29827c4ad290"
      },
      "execution_count": null,
      "outputs": [
        {
          "output_type": "stream",
          "name": "stdout",
          "text": [
            "\n",
            "Epoch 1\n",
            "Step     0/127, Loss = 0.627\n",
            "Step    64/127, Loss = 0.249\n",
            "Step     0/32, Loss = 0.263\n",
            "\n",
            "Epoch 2\n",
            "Step     0/127, Loss = 0.260\n",
            "Step    64/127, Loss = 0.241\n",
            "Step     0/32, Loss = 0.263\n",
            "CPU times: user 45.7 s, sys: 140 ms, total: 45.8 s\n",
            "Wall time: 48.3 s\n"
          ]
        }
      ]
    },
    {
      "cell_type": "code",
      "source": [
        "window_size = 32\n",
        "\n",
        "train_mb_running_loss = []\n",
        "for i in range(len(train_mini_batch_losses)-window_size):\n",
        "    train_mb_running_loss.append(np.mean(train_mini_batch_losses[i:i+window_size]))\n",
        "\n",
        "val_mb_running_loss = []\n",
        "for i in range(len(val_mini_batch_losses)-window_size):\n",
        "    val_mb_running_loss.append(np.mean(val_mini_batch_losses[i:i+window_size]))"
      ],
      "metadata": {
        "id": "FHeaM7cUhfUn"
      },
      "execution_count": null,
      "outputs": []
    },
    {
      "cell_type": "code",
      "source": [
        "fix, ax = plt.subplots(figsize=(14, 8))\n",
        "ax.plot(range(len(train_mb_running_loss)), train_mb_running_loss);"
      ],
      "metadata": {
        "colab": {
          "base_uri": "https://localhost:8080/",
          "height": 618
        },
        "id": "qNJ3wie8hh0c",
        "outputId": "45af31aa-6525-4063-dc40-e922cd5f7d0a"
      },
      "execution_count": null,
      "outputs": [
        {
          "output_type": "display_data",
          "data": {
            "text/plain": [
              "<Figure size 1400x800 with 1 Axes>"
            ],
            "image/png": "[encoded data removed]"
          },
          "metadata": {}
        }
      ]
    },
    {
      "cell_type": "code",
      "source": [
        "model.bert_model.save_pretrained(\"/sokrat_bot/sbert_softmax_lr_2e-6_2_crossencoder\")"
      ],
      "metadata": {
        "id": "wa834ylpkSsm"
      },
      "execution_count": null,
      "outputs": []
    },
    {
      "cell_type": "code",
      "source": [
        "model_tuned = model.bert_model.save_pretrained(\"/sokrat_bot/sbert_softmax_lr_2e-6_2_crossencoder\")"
      ],
      "metadata": {
        "id": "P_S0c54qcmj3"
      },
      "execution_count": null,
      "outputs": []
    },
    {
      "cell_type": "code",
      "source": [
        "device = 'cuda'"
      ],
      "metadata": {
        "id": "ZxkvE3MY5h1a"
      },
      "execution_count": null,
      "outputs": []
    },
    {
      "cell_type": "code",
      "source": [
        "import gc"
      ],
      "metadata": {
        "id": "DKpyyfmmF4m_"
      },
      "execution_count": null,
      "outputs": []
    },
    {
      "cell_type": "code",
      "source": [
        "corpus = dfnew['Answer'].to_list()\n",
        "corpus = corpus[:1100]"
      ],
      "metadata": {
        "id": "6RS6_KqCFcXh"
      },
      "execution_count": null,
      "outputs": []
    },
    {
      "cell_type": "code",
      "source": [
        "def get_ranked_docs(query, corpus = corpus, tokenizer = tokenizer, finetuned_ce = model) -> None:\n",
        "    seed = random.choice([10,4,8,29,31,16])\n",
        "    random.seed(seed)\n",
        "    random.shuffle(corpus)\n",
        "    i = random.choice([1,200,500,700,1000])\n",
        "    corpus_small = corpus[i:i+300]\n",
        "    queries = [query] * len(corpus_small)\n",
        "    tokenized_texts = tokenizer(\n",
        "        queries, corpus_small, max_length=MAX_LENGTH, padding=True, truncation=True, return_tensors=\"pt\"\n",
        "    ).to(device)\n",
        "\n",
        "    # Finetuned CrossEncoder model scoring\n",
        "    with torch.no_grad():\n",
        "        ce_scores = finetuned_ce(tokenized_texts['input_ids'], tokenized_texts['attention_mask']).squeeze(-1)\n",
        "        ce_scores = torch.sigmoid(ce_scores)  # Apply sigmoid if needed\n",
        "\n",
        "    # Process scores for finetuned model\n",
        "    print(f\"Query - {query} [Finetuned Cross-Encoder]\\n---\")\n",
        "    scores = ce_scores.cpu().numpy()\n",
        "    scores_ix = np.argsort(scores)[::-1]\n",
        "    print(scores_ix[0])\n",
        "    for ix in scores_ix[0:1]:  # Limit to corpus size\n",
        "        answer = f\"{scores[ix]: >.2f} {corpus_small[ix]}\"\n",
        "    gc.collect()\n",
        "    torch.cuda.empty_cache()\n",
        "    return answer"
      ],
      "metadata": {
        "id": "qv6ROCs5fPp1"
      },
      "execution_count": null,
      "outputs": []
    },
    {
      "cell_type": "code",
      "source": [
        "query = \"Я бывал в разных странах.\""
      ],
      "metadata": {
        "id": "xXPl92qFhnHn"
      },
      "execution_count": null,
      "outputs": []
    },
    {
      "cell_type": "code",
      "source": [
        "get_ranked_docs(query=query)"
      ],
      "metadata": {
        "colab": {
          "base_uri": "https://localhost:8080/",
          "height": 87
        },
        "id": "_u0NYQU5htub",
        "outputId": "cb757b14-2266-4c30-8ee0-d313e92207dc"
      },
      "execution_count": null,
      "outputs": [
        {
          "output_type": "stream",
          "name": "stdout",
          "text": [
            "Query - Я бывал в разных странах. [Finetuned Cross-Encoder]\n",
            "---\n",
            "24\n"
          ]
        },
        {
          "output_type": "execute_result",
          "data": {
            "text/plain": [
              "'0.62 Отв. Что же из того?'"
            ],
            "application/vnd.google.colaboratory.intrinsic+json": {
              "type": "string"
            }
          },
          "metadata": {},
          "execution_count": 51
        }
      ]
    },
    {
      "cell_type": "code",
      "source": [
        "query = \"Какими качествами обладает справедливый человек?\""
      ],
      "metadata": {
        "id": "1cjvBOG_MUDX"
      },
      "execution_count": null,
      "outputs": []
    },
    {
      "cell_type": "code",
      "source": [
        "get_ranked_docs(query=query)"
      ],
      "metadata": {
        "colab": {
          "base_uri": "https://localhost:8080/",
          "height": 87
        },
        "id": "ZM4C7ynDMbSR",
        "outputId": "cd62ad0f-17c6-40f7-a94f-af4828f16291"
      },
      "execution_count": null,
      "outputs": [
        {
          "output_type": "stream",
          "name": "stdout",
          "text": [
            "Query - Какими качествами обладает справедливый человек? [Finetuned Cross-Encoder]\n",
            "---\n",
            "96\n"
          ]
        },
        {
          "output_type": "execute_result",
          "data": {
            "text/plain": [
              "'0.61\\tОтв. Как же и что скажешь ты?'"
            ],
            "application/vnd.google.colaboratory.intrinsic+json": {
              "type": "string"
            }
          },
          "metadata": {},
          "execution_count": 99
        }
      ]
    },
    {
      "cell_type": "code",
      "source": [
        "query = \"Прекрасная сегодня погода!\"\n",
        "get_ranked_docs(query=query)"
      ],
      "metadata": {
        "colab": {
          "base_uri": "https://localhost:8080/",
          "height": 87
        },
        "id": "trrwFx_YMlVg",
        "outputId": "082d0cb5-546d-4967-99d9-d2ad5e2d9f45"
      },
      "execution_count": null,
      "outputs": [
        {
          "output_type": "stream",
          "name": "stdout",
          "text": [
            "Query - Прекрасная сегодня погода! [Finetuned Cross-Encoder]\n",
            "---\n",
            "97\n"
          ]
        },
        {
          "output_type": "execute_result",
          "data": {
            "text/plain": [
              "'0.61\\tОтв. Почему и чего боишься ты, что так говоришь?'"
            ],
            "application/vnd.google.colaboratory.intrinsic+json": {
              "type": "string"
            }
          },
          "metadata": {},
          "execution_count": 109
        }
      ]
    },
    {
      "cell_type": "code",
      "source": [
        "query = \"Справедливость - это добродетель.\"\n",
        "get_ranked_docs(query=query)"
      ],
      "metadata": {
        "colab": {
          "base_uri": "https://localhost:8080/",
          "height": 87
        },
        "id": "a84QZkXJM5nD",
        "outputId": "8be66841-90fc-446c-8737-f1de9848a3eb"
      },
      "execution_count": null,
      "outputs": [
        {
          "output_type": "stream",
          "name": "stdout",
          "text": [
            "Query - Справедливость - это добродетель. [Finetuned Cross-Encoder]\n",
            "---\n",
            "25\n"
          ]
        },
        {
          "output_type": "execute_result",
          "data": {
            "text/plain": [
              "'0.61\\tОтв. Так что ж из этого?'"
            ],
            "application/vnd.google.colaboratory.intrinsic+json": {
              "type": "string"
            }
          },
          "metadata": {},
          "execution_count": 114
        }
      ]
    },
    {
      "cell_type": "code",
      "source": [
        "query = \"Какие искуства ты знаешь?\"\n",
        "get_ranked_docs(query=query)"
      ],
      "metadata": {
        "colab": {
          "base_uri": "https://localhost:8080/",
          "height": 87
        },
        "id": "6gqB1JY1NDX4",
        "outputId": "59aa83bc-b6d4-485c-916b-090bfcfd31f3"
      },
      "execution_count": null,
      "outputs": [
        {
          "output_type": "stream",
          "name": "stdout",
          "text": [
            "Query - Какие искуства ты знаешь? [Finetuned Cross-Encoder]\n",
            "---\n",
            "2\n"
          ]
        },
        {
          "output_type": "execute_result",
          "data": {
            "text/plain": [
              "'0.62\\tОтв. Что ты? разве в этом-то всё счастье?'"
            ],
            "application/vnd.google.colaboratory.intrinsic+json": {
              "type": "string"
            }
          },
          "metadata": {},
          "execution_count": 116
        }
      ]
    },
    {
      "cell_type": "code",
      "source": [
        "query = \"Дважды два - четыре.\"\n",
        "get_ranked_docs(query=query)"
      ],
      "metadata": {
        "colab": {
          "base_uri": "https://localhost:8080/",
          "height": 87
        },
        "id": "BCTe4P4NNLKZ",
        "outputId": "85c454ab-e06e-489e-850f-0cdac9686be0"
      },
      "execution_count": null,
      "outputs": [
        {
          "output_type": "stream",
          "name": "stdout",
          "text": [
            "Query - Дважды два - четыре. [Finetuned Cross-Encoder]\n",
            "---\n",
            "16\n"
          ]
        },
        {
          "output_type": "execute_result",
          "data": {
            "text/plain": [
              "'0.62\\tОтв. А то что еще?'"
            ],
            "application/vnd.google.colaboratory.intrinsic+json": {
              "type": "string"
            }
          },
          "metadata": {},
          "execution_count": 118
        }
      ]
    },
    {
      "cell_type": "code",
      "source": [
        "query = \"В чём смысл жизни, как, по-твоему? В постоянных наслаждениях?\"\n",
        "get_ranked_docs(query=query)"
      ],
      "metadata": {
        "colab": {
          "base_uri": "https://localhost:8080/",
          "height": 87
        },
        "id": "sXi3z5MCNQou",
        "outputId": "32029756-8fc2-4451-cdee-afc6c1b4956b"
      },
      "execution_count": null,
      "outputs": [
        {
          "output_type": "stream",
          "name": "stdout",
          "text": [
            "Query - В чём смысл жизни, как, по-твоему? В постоянных наслаждениях? [Finetuned Cross-Encoder]\n",
            "---\n",
            "16\n"
          ]
        },
        {
          "output_type": "execute_result",
          "data": {
            "text/plain": [
              "'0.61\\tОтв. Как же иначе было бы, Сократ?'"
            ],
            "application/vnd.google.colaboratory.intrinsic+json": {
              "type": "string"
            }
          },
          "metadata": {},
          "execution_count": 124
        }
      ]
    },
    {
      "cell_type": "code",
      "source": [
        "query = \"Справедливость полезна или нет? Думаю, что полезна.\"\n",
        "get_ranked_docs(query=query)"
      ],
      "metadata": {
        "colab": {
          "base_uri": "https://localhost:8080/",
          "height": 87
        },
        "id": "Rdfq1t4VNeeI",
        "outputId": "66a5945a-8a8c-473e-d6e7-7a29b09e7571"
      },
      "execution_count": null,
      "outputs": [
        {
          "output_type": "stream",
          "name": "stdout",
          "text": [
            "Query - Справедливость полезна или нет? Думаю, что полезна. [Finetuned Cross-Encoder]\n",
            "---\n",
            "60\n"
          ]
        },
        {
          "output_type": "execute_result",
          "data": {
            "text/plain": [
              "'0.61\\tОтв. Не то ли уж нужно знать этому вопрошателю, Сократ, что̀ прекрасно?'"
            ],
            "application/vnd.google.colaboratory.intrinsic+json": {
              "type": "string"
            }
          },
          "metadata": {},
          "execution_count": 160
        }
      ]
    },
    {
      "cell_type": "code",
      "source": [
        "pip install gradio"
      ],
      "metadata": {
        "colab": {
          "base_uri": "https://localhost:8080/"
        },
        "id": "el8fd_Lp_E2S",
        "outputId": "cdf1bebf-3eff-4ac5-96c6-43187c1d903a"
      },
      "execution_count": null,
      "outputs": [
        {
          "output_type": "stream",
          "name": "stdout",
          "text": [
            "Collecting gradio\n",
            "  Downloading gradio-4.19.2-py3-none-any.whl (16.9 MB)\n",
            "\u001b[2K     \u001b[90m━━━━━━━━━━━━━━━━━━━━━━━━━━━━━━━━━━━━━━━━\u001b[0m \u001b[32m16.9/16.9 MB\u001b[0m \u001b[31m45.1 MB/s\u001b[0m eta \u001b[36m0:00:00\u001b[0m\n",
            "\u001b[?25hCollecting aiofiles<24.0,>=22.0 (from gradio)\n",
            "  Downloading aiofiles-23.2.1-py3-none-any.whl (15 kB)\n",
            "Requirement already satisfied: altair<6.0,>=4.2.0 in /usr/local/lib/python3.10/dist-packages (from gradio) (4.2.2)\n",
            "Collecting fastapi (from gradio)\n",
            "  Downloading fastapi-0.109.2-py3-none-any.whl (92 kB)\n",
            "\u001b[2K     \u001b[90m━━━━━━━━━━━━━━━━━━━━━━━━━━━━━━━━━━━━━━━━\u001b[0m \u001b[32m92.1/92.1 kB\u001b[0m \u001b[31m7.8 MB/s\u001b[0m eta \u001b[36m0:00:00\u001b[0m\n",
            "\u001b[?25hCollecting ffmpy (from gradio)\n",
            "  Downloading ffmpy-0.3.2.tar.gz (5.5 kB)\n",
            "  Preparing metadata (setup.py) ... \u001b[?25l\u001b[?25hdone\n",
            "Collecting gradio-client==0.10.1 (from gradio)\n",
            "  Downloading gradio_client-0.10.1-py3-none-any.whl (307 kB)\n",
            "\u001b[2K     \u001b[90m━━━━━━━━━━━━━━━━━━━━━━━━━━━━━━━━━━━━━━━━\u001b[0m \u001b[32m307.9/307.9 kB\u001b[0m \u001b[31m28.6 MB/s\u001b[0m eta \u001b[36m0:00:00\u001b[0m\n",
            "\u001b[?25hCollecting httpx>=0.24.1 (from gradio)\n",
            "  Downloading httpx-0.27.0-py3-none-any.whl (75 kB)\n",
            "\u001b[2K     \u001b[90m━━━━━━━━━━━━━━━━━━━━━━━━━━━━━━━━━━━━━━━━\u001b[0m \u001b[32m75.6/75.6 kB\u001b[0m \u001b[31m9.9 MB/s\u001b[0m eta \u001b[36m0:00:00\u001b[0m\n",
            "\u001b[?25hRequirement already satisfied: huggingface-hub>=0.19.3 in /usr/local/lib/python3.10/dist-packages (from gradio) (0.20.3)\n",
            "Requirement already satisfied: importlib-resources<7.0,>=1.3 in /usr/local/lib/python3.10/dist-packages (from gradio) (6.1.1)\n",
            "Requirement already satisfied: jinja2<4.0 in /usr/local/lib/python3.10/dist-packages (from gradio) (3.1.3)\n",
            "Requirement already satisfied: markupsafe~=2.0 in /usr/local/lib/python3.10/dist-packages (from gradio) (2.1.5)\n",
            "Requirement already satisfied: matplotlib~=3.0 in /usr/local/lib/python3.10/dist-packages (from gradio) (3.7.1)\n",
            "Requirement already satisfied: numpy~=1.0 in /usr/local/lib/python3.10/dist-packages (from gradio) (1.25.2)\n",
            "Collecting orjson~=3.0 (from gradio)\n",
            "  Downloading orjson-3.9.15-cp310-cp310-manylinux_2_17_x86_64.manylinux2014_x86_64.whl (138 kB)\n",
            "\u001b[2K     \u001b[90m━━━━━━━━━━━━━━━━━━━━━━━━━━━━━━━━━━━━━━━━\u001b[0m \u001b[32m138.5/138.5 kB\u001b[0m \u001b[31m18.7 MB/s\u001b[0m eta \u001b[36m0:00:00\u001b[0m\n",
            "\u001b[?25hRequirement already satisfied: packaging in /usr/local/lib/python3.10/dist-packages (from gradio) (23.2)\n",
            "Requirement already satisfied: pandas<3.0,>=1.0 in /usr/local/lib/python3.10/dist-packages (from gradio) (1.5.3)\n",
            "Requirement already satisfied: pillow<11.0,>=8.0 in /usr/local/lib/python3.10/dist-packages (from gradio) (9.4.0)\n",
            "Requirement already satisfied: pydantic>=2.0 in /usr/local/lib/python3.10/dist-packages (from gradio) (2.6.1)\n",
            "Collecting pydub (from gradio)\n",
            "  Downloading pydub-0.25.1-py2.py3-none-any.whl (32 kB)\n",
            "Collecting python-multipart>=0.0.9 (from gradio)\n",
            "  Downloading python_multipart-0.0.9-py3-none-any.whl (22 kB)\n",
            "Requirement already satisfied: pyyaml<7.0,>=5.0 in /usr/local/lib/python3.10/dist-packages (from gradio) (6.0.1)\n",
            "Collecting ruff>=0.2.2 (from gradio)\n",
            "  Downloading ruff-0.2.2-py3-none-manylinux_2_17_x86_64.manylinux2014_x86_64.whl (7.8 MB)\n",
            "\u001b[2K     \u001b[90m━━━━━━━━━━━━━━━━━━━━━━━━━━━━━━━━━━━━━━━━\u001b[0m \u001b[32m7.8/7.8 MB\u001b[0m \u001b[31m70.3 MB/s\u001b[0m eta \u001b[36m0:00:00\u001b[0m\n",
            "\u001b[?25hCollecting semantic-version~=2.0 (from gradio)\n",
            "  Downloading semantic_version-2.10.0-py2.py3-none-any.whl (15 kB)\n",
            "Collecting tomlkit==0.12.0 (from gradio)\n",
            "  Downloading tomlkit-0.12.0-py3-none-any.whl (37 kB)\n",
            "Requirement already satisfied: typer[all]<1.0,>=0.9 in /usr/local/lib/python3.10/dist-packages (from gradio) (0.9.0)\n",
            "Requirement already satisfied: typing-extensions~=4.0 in /usr/local/lib/python3.10/dist-packages (from gradio) (4.9.0)\n",
            "Collecting uvicorn>=0.14.0 (from gradio)\n",
            "  Downloading uvicorn-0.27.1-py3-none-any.whl (60 kB)\n",
            "\u001b[2K     \u001b[90m━━━━━━━━━━━━━━━━━━━━━━━━━━━━━━━━━━━━━━━━\u001b[0m \u001b[32m60.8/60.8 kB\u001b[0m \u001b[31m9.2 MB/s\u001b[0m eta \u001b[36m0:00:00\u001b[0m\n",
            "\u001b[?25hRequirement already satisfied: fsspec in /usr/local/lib/python3.10/dist-packages (from gradio-client==0.10.1->gradio) (2023.6.0)\n",
            "Collecting websockets<12.0,>=10.0 (from gradio-client==0.10.1->gradio)\n",
            "  Downloading websockets-11.0.3-cp310-cp310-manylinux_2_5_x86_64.manylinux1_x86_64.manylinux_2_17_x86_64.manylinux2014_x86_64.whl (129 kB)\n",
            "\u001b[2K     \u001b[90m━━━━━━━━━━━━━━━━━━━━━━━━━━━━━━━━━━━━━━━━\u001b[0m \u001b[32m129.9/129.9 kB\u001b[0m \u001b[31m19.0 MB/s\u001b[0m eta \u001b[36m0:00:00\u001b[0m\n",
            "\u001b[?25hRequirement already satisfied: entrypoints in /usr/local/lib/python3.10/dist-packages (from altair<6.0,>=4.2.0->gradio) (0.4)\n",
            "Requirement already satisfied: jsonschema>=3.0 in /usr/local/lib/python3.10/dist-packages (from altair<6.0,>=4.2.0->gradio) (4.19.2)\n",
            "Requirement already satisfied: toolz in /usr/local/lib/python3.10/dist-packages (from altair<6.0,>=4.2.0->gradio) (0.12.1)\n",
            "Requirement already satisfied: anyio in /usr/local/lib/python3.10/dist-packages (from httpx>=0.24.1->gradio) (3.7.1)\n",
            "Requirement already satisfied: certifi in /usr/local/lib/python3.10/dist-packages (from httpx>=0.24.1->gradio) (2024.2.2)\n",
            "Collecting httpcore==1.* (from httpx>=0.24.1->gradio)\n",
            "  Downloading httpcore-1.0.4-py3-none-any.whl (77 kB)\n",
            "\u001b[2K     \u001b[90m━━━━━━━━━━━━━━━━━━━━━━━━━━━━━━━━━━━━━━━━\u001b[0m \u001b[32m77.8/77.8 kB\u001b[0m \u001b[31m11.6 MB/s\u001b[0m eta \u001b[36m0:00:00\u001b[0m\n",
            "\u001b[?25hRequirement already satisfied: idna in /usr/local/lib/python3.10/dist-packages (from httpx>=0.24.1->gradio) (3.6)\n",
            "Requirement already satisfied: sniffio in /usr/local/lib/python3.10/dist-packages (from httpx>=0.24.1->gradio) (1.3.0)\n",
            "Collecting h11<0.15,>=0.13 (from httpcore==1.*->httpx>=0.24.1->gradio)\n",
            "  Downloading h11-0.14.0-py3-none-any.whl (58 kB)\n",
            "\u001b[2K     \u001b[90m━━━━━━━━━━━━━━━━━━━━━━━━━━━━━━━━━━━━━━━━\u001b[0m \u001b[32m58.3/58.3 kB\u001b[0m \u001b[31m9.7 MB/s\u001b[0m eta \u001b[36m0:00:00\u001b[0m\n",
            "\u001b[?25hRequirement already satisfied: filelock in /usr/local/lib/python3.10/dist-packages (from huggingface-hub>=0.19.3->gradio) (3.13.1)\n",
            "Requirement already satisfied: requests in /usr/local/lib/python3.10/dist-packages (from huggingface-hub>=0.19.3->gradio) (2.31.0)\n",
            "Requirement already satisfied: tqdm>=4.42.1 in /usr/local/lib/python3.10/dist-packages (from huggingface-hub>=0.19.3->gradio) (4.66.2)\n",
            "Requirement already satisfied: contourpy>=1.0.1 in /usr/local/lib/python3.10/dist-packages (from matplotlib~=3.0->gradio) (1.2.0)\n",
            "Requirement already satisfied: cycler>=0.10 in /usr/local/lib/python3.10/dist-packages (from matplotlib~=3.0->gradio) (0.12.1)\n",
            "Requirement already satisfied: fonttools>=4.22.0 in /usr/local/lib/python3.10/dist-packages (from matplotlib~=3.0->gradio) (4.49.0)\n",
            "Requirement already satisfied: kiwisolver>=1.0.1 in /usr/local/lib/python3.10/dist-packages (from matplotlib~=3.0->gradio) (1.4.5)\n",
            "Requirement already satisfied: pyparsing>=2.3.1 in /usr/local/lib/python3.10/dist-packages (from matplotlib~=3.0->gradio) (3.1.1)\n",
            "Requirement already satisfied: python-dateutil>=2.7 in /usr/local/lib/python3.10/dist-packages (from matplotlib~=3.0->gradio) (2.8.2)\n",
            "Requirement already satisfied: pytz>=2020.1 in /usr/local/lib/python3.10/dist-packages (from pandas<3.0,>=1.0->gradio) (2023.4)\n",
            "Requirement already satisfied: annotated-types>=0.4.0 in /usr/local/lib/python3.10/dist-packages (from pydantic>=2.0->gradio) (0.6.0)\n",
            "Requirement already satisfied: pydantic-core==2.16.2 in /usr/local/lib/python3.10/dist-packages (from pydantic>=2.0->gradio) (2.16.2)\n",
            "Requirement already satisfied: click<9.0.0,>=7.1.1 in /usr/local/lib/python3.10/dist-packages (from typer[all]<1.0,>=0.9->gradio) (8.1.7)\n",
            "Collecting colorama<0.5.0,>=0.4.3 (from typer[all]<1.0,>=0.9->gradio)\n",
            "  Downloading colorama-0.4.6-py2.py3-none-any.whl (25 kB)\n",
            "Collecting shellingham<2.0.0,>=1.3.0 (from typer[all]<1.0,>=0.9->gradio)\n",
            "  Downloading shellingham-1.5.4-py2.py3-none-any.whl (9.8 kB)\n",
            "Requirement already satisfied: rich<14.0.0,>=10.11.0 in /usr/local/lib/python3.10/dist-packages (from typer[all]<1.0,>=0.9->gradio) (13.7.0)\n",
            "Collecting starlette<0.37.0,>=0.36.3 (from fastapi->gradio)\n",
            "  Downloading starlette-0.36.3-py3-none-any.whl (71 kB)\n",
            "\u001b[2K     \u001b[90m━━━━━━━━━━━━━━━━━━━━━━━━━━━━━━━━━━━━━━━━\u001b[0m \u001b[32m71.5/71.5 kB\u001b[0m \u001b[31m10.6 MB/s\u001b[0m eta \u001b[36m0:00:00\u001b[0m\n",
            "\u001b[?25hRequirement already satisfied: attrs>=22.2.0 in /usr/local/lib/python3.10/dist-packages (from jsonschema>=3.0->altair<6.0,>=4.2.0->gradio) (23.2.0)\n",
            "Requirement already satisfied: jsonschema-specifications>=2023.03.6 in /usr/local/lib/python3.10/dist-packages (from jsonschema>=3.0->altair<6.0,>=4.2.0->gradio) (2023.12.1)\n",
            "Requirement already satisfied: referencing>=0.28.4 in /usr/local/lib/python3.10/dist-packages (from jsonschema>=3.0->altair<6.0,>=4.2.0->gradio) (0.33.0)\n",
            "Requirement already satisfied: rpds-py>=0.7.1 in /usr/local/lib/python3.10/dist-packages (from jsonschema>=3.0->altair<6.0,>=4.2.0->gradio) (0.18.0)\n",
            "Requirement already satisfied: six>=1.5 in /usr/local/lib/python3.10/dist-packages (from python-dateutil>=2.7->matplotlib~=3.0->gradio) (1.16.0)\n",
            "Requirement already satisfied: markdown-it-py>=2.2.0 in /usr/local/lib/python3.10/dist-packages (from rich<14.0.0,>=10.11.0->typer[all]<1.0,>=0.9->gradio) (3.0.0)\n",
            "Requirement already satisfied: pygments<3.0.0,>=2.13.0 in /usr/local/lib/python3.10/dist-packages (from rich<14.0.0,>=10.11.0->typer[all]<1.0,>=0.9->gradio) (2.16.1)\n",
            "Requirement already satisfied: exceptiongroup in /usr/local/lib/python3.10/dist-packages (from anyio->httpx>=0.24.1->gradio) (1.2.0)\n",
            "Requirement already satisfied: charset-normalizer<4,>=2 in /usr/local/lib/python3.10/dist-packages (from requests->huggingface-hub>=0.19.3->gradio) (3.3.2)\n",
            "Requirement already satisfied: urllib3<3,>=1.21.1 in /usr/local/lib/python3.10/dist-packages (from requests->huggingface-hub>=0.19.3->gradio) (2.0.7)\n",
            "Requirement already satisfied: mdurl~=0.1 in /usr/local/lib/python3.10/dist-packages (from markdown-it-py>=2.2.0->rich<14.0.0,>=10.11.0->typer[all]<1.0,>=0.9->gradio) (0.1.2)\n",
            "Building wheels for collected packages: ffmpy\n",
            "  Building wheel for ffmpy (setup.py) ... \u001b[?25l\u001b[?25hdone\n",
            "  Created wheel for ffmpy: filename=ffmpy-0.3.2-py3-none-any.whl size=5584 sha256=eb6057247eaad69f762397bdd0ac53b7cd030712bcd7b3cc6afa39b233008c5d\n",
            "  Stored in directory: /root/.cache/pip/wheels/bd/65/9a/671fc6dcde07d4418df0c592f8df512b26d7a0029c2a23dd81\n",
            "Successfully built ffmpy\n",
            "Installing collected packages: pydub, ffmpy, websockets, tomlkit, shellingham, semantic-version, ruff, python-multipart, orjson, h11, colorama, aiofiles, uvicorn, starlette, httpcore, httpx, fastapi, gradio-client, gradio\n",
            "Successfully installed aiofiles-23.2.1 colorama-0.4.6 fastapi-0.109.2 ffmpy-0.3.2 gradio-4.19.2 gradio-client-0.10.1 h11-0.14.0 httpcore-1.0.4 httpx-0.27.0 orjson-3.9.15 pydub-0.25.1 python-multipart-0.0.9 ruff-0.2.2 semantic-version-2.10.0 shellingham-1.5.4 starlette-0.36.3 tomlkit-0.12.0 uvicorn-0.27.1 websockets-11.0.3\n"
          ]
        }
      ]
    },
    {
      "cell_type": "code",
      "source": [
        "import gradio as gr"
      ],
      "metadata": {
        "id": "38XW-JG_AshV"
      },
      "execution_count": null,
      "outputs": []
    },
    {
      "cell_type": "code",
      "source": [
        "def greet(name, intensity):\n",
        "    return \"Hello, \" + name + \"!\" * int(intensity)\n",
        "\n",
        "demo = gr.Interface(\n",
        "    fn=get_ranked_docs,\n",
        "    inputs=[\"text\"],\n",
        "    outputs=[\"text\"],\n",
        ")\n",
        "\n",
        "demo.launch()"
      ],
      "metadata": {
        "colab": {
          "base_uri": "https://localhost:8080/",
          "height": 646
        },
        "id": "0442GnaPANmD",
        "outputId": "38dd8ae8-9fba-4a82-a475-a11567b1920b"
      },
      "execution_count": null,
      "outputs": [
        {
          "output_type": "stream",
          "name": "stdout",
          "text": [
            "Setting queue=True in a Colab notebook requires sharing enabled. Setting `share=True` (you can turn this off by setting `share=False` in `launch()` explicitly).\n",
            "\n",
            "Colab notebook detected. To show errors in colab notebook, set debug=True in launch()\n",
            "Running on public URL: https://f573c5859b4b9e615d.gradio.live\n",
            "\n",
            "This share link expires in 72 hours. For free permanent hosting and GPU upgrades, run `gradio deploy` from Terminal to deploy to Spaces (https://huggingface.co/spaces)\n"
          ]
        },
        {
          "output_type": "display_data",
          "data": {
            "text/plain": [
              "<IPython.core.display.HTML object>"
            ],
            "text/html": [
              "<div><iframe src=\"https://f573c5859b4b9e615d.gradio.live\" width=\"100%\" height=\"500\" allow=\"autoplay; camera; microphone; clipboard-read; clipboard-write;\" frameborder=\"0\" allowfullscreen></iframe></div>"
            ]
          },
          "metadata": {}
        },
        {
          "output_type": "execute_result",
          "data": {
            "text/plain": []
          },
          "metadata": {},
          "execution_count": 79
        }
      ]
    }
  ]
}