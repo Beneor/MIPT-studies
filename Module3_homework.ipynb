{
 "cells": [
  {
   "cell_type": "code",
   "execution_count": 6,
   "id": "413893e8",
   "metadata": {},
   "outputs": [],
   "source": [
    "!pip install -q -U kaggle_environments"
   ]
  },
  {
   "cell_type": "code",
   "execution_count": 7,
   "id": "54005c9c",
   "metadata": {},
   "outputs": [],
   "source": [
    "import numpy as np\n",
    "import pandas as pd\n",
    "import random\n",
    "\n",
    "import matplotlib.pyplot as plt\n",
    "import seaborn as sns\n",
    "\n",
    "from kaggle_environments import make, evaluate"
   ]
  },
  {
   "cell_type": "code",
   "execution_count": 8,
   "id": "8b6328e3",
   "metadata": {},
   "outputs": [
    {
     "name": "stdout",
     "output_type": "stream",
     "text": [
      "Writing always_rock.py\n"
     ]
    }
   ],
   "source": [
    "%%writefile always_rock.py\n",
    "\n",
    "#Agent which always returns rock\n",
    "#0 - rock\n",
    "#1 - paper\n",
    "#2 - scissors\n",
    "def always_rock(observation, configuration):\n",
    "    return 0"
   ]
  },
  {
   "cell_type": "code",
   "execution_count": 9,
   "id": "de2b103e",
   "metadata": {},
   "outputs": [
    {
     "name": "stdout",
     "output_type": "stream",
     "text": [
      "Writing always_paper.py\n"
     ]
    }
   ],
   "source": [
    "%%writefile always_paper.py\n",
    "\n",
    "#Agent which always returns paper\n",
    "def always_paper(observation, configuration):\n",
    "    return 1"
   ]
  },
  {
   "cell_type": "code",
   "execution_count": 10,
   "id": "26aa51a7",
   "metadata": {},
   "outputs": [
    {
     "name": "stdout",
     "output_type": "stream",
     "text": [
      "Writing always_scissors.py\n"
     ]
    }
   ],
   "source": [
    "%%writefile always_scissors.py\n",
    "\n",
    "#Agent which always returns scissors\n",
    "def always_scissors(observation, configuration):\n",
    "    return 2"
   ]
  },
  {
   "cell_type": "code",
   "execution_count": 11,
   "id": "fcdbb674",
   "metadata": {},
   "outputs": [
    {
     "name": "stdout",
     "output_type": "stream",
     "text": [
      "Writing random.py\n"
     ]
    }
   ],
   "source": [
    "%%writefile random.py\n",
    "#Agent which randomly returns different values\n",
    "def random(observation, configuration):\n",
    "    import random\n",
    "    return random.randint(0, 2)"
   ]
  },
  {
   "cell_type": "code",
   "execution_count": 12,
   "id": "39d4afef",
   "metadata": {},
   "outputs": [
    {
     "name": "stdout",
     "output_type": "stream",
     "text": [
      "Writing copy_opponent_old.py\n"
     ]
    }
   ],
   "source": [
    "%%writefile copy_opponent_old.py\n",
    "def copy_opponent_old(observation, configuration):\n",
    "    import random\n",
    "    #in case we have information about opponent last move\n",
    "    if observation.step > 0:\n",
    "        return observation.lastOpponentAction\n",
    "    #initial step\n",
    "    else:\n",
    "        return random.randint(0, 2)"
   ]
  },
  {
   "cell_type": "code",
   "execution_count": 13,
   "id": "011b377a",
   "metadata": {},
   "outputs": [
    {
     "name": "stdout",
     "output_type": "stream",
     "text": [
      "Writing statistical_old.py\n"
     ]
    }
   ],
   "source": [
    "%%writefile statistical_old.py\n",
    "def statistical_old(observation, configuration):\n",
    "    import random\n",
    "    global action_histogram\n",
    "    if observation.step == 0:\n",
    "        action_histogram = {}\n",
    "        return\n",
    "    action = observation.lastOpponentAction\n",
    "    if action not in action_histogram:\n",
    "        action_histogram[action] = 0\n",
    "    action_histogram[action] += 1\n",
    "    mode_action = None\n",
    "    mode_action_count = None\n",
    "    for k, v in action_histogram.items():\n",
    "        if mode_action_count is None or v > mode_action_count:\n",
    "            mode_action = k\n",
    "            mode_action_count = v\n",
    "            continue\n",
    "\n",
    "    return (mode_action + 1) % configuration.signs"
   ]
  },
  {
   "cell_type": "code",
   "execution_count": 14,
   "id": "3ee52cb6",
   "metadata": {},
   "outputs": [
    {
     "name": "stdout",
     "output_type": "stream",
     "text": [
      "Writing random_strategy_switch.py\n"
     ]
    }
   ],
   "source": [
    "%%writefile random_strategy_switch.py\n",
    "def random_strategy_switch(observation, configuration):\n",
    "    import random\n",
    "    if observation.step > 0:\n",
    "        if observation.lastOpponentAction == 0:\n",
    "            return 1  # Сounteracts the last move of the opponent\n",
    "        elif observation.lastOpponentAction == 1:\n",
    "            return random.randint(1, 2) # Counteracts or copy the last move of the opponent\n",
    "        elif observation.lastOpponentAction == 2:\n",
    "            return random.randint(0, 1) # Gives way or counteracts the lasr move of the opponent\n",
    "    #initial stepделает более сильный ход после противника\n",
    "    else:\n",
    "        return random.randint(0, 2)"
   ]
  },
  {
   "cell_type": "code",
   "execution_count": 15,
   "id": "7496256f",
   "metadata": {},
   "outputs": [
    {
     "name": "stdout",
     "output_type": "stream",
     "text": [
      "Writing counteracting.py\n"
     ]
    }
   ],
   "source": [
    "%%writefile counteracting.py\n",
    "def counteracting(observation, configuration):\n",
    "#Agent thay always makes stronger move after the opponent\n",
    "    import random\n",
    "    if observation.step > 0:\n",
    "        if observation.lastOpponentAction == 0:\n",
    "            return 1\n",
    "        elif observation.lastOpponentAction == 1:\n",
    "            return 2\n",
    "        elif observation.lastOpponentAction == 2:\n",
    "            return 0\n",
    "    #initial step\n",
    "    else:\n",
    "        return random.randint(0, 2)    "
   ]
  },
  {
   "cell_type": "code",
   "execution_count": 16,
   "id": "c9d59a54",
   "metadata": {},
   "outputs": [
    {
     "name": "stdout",
     "output_type": "stream",
     "text": [
      "Writing giveaway_gamer.py\n"
     ]
    }
   ],
   "source": [
    "%%writefile giveaway_gamer.py\n",
    "def giveaway_gamer(observation, configuration):\n",
    "#Agent thay always makes weaker move after the opponent\n",
    "    import random\n",
    "    if observation.step > 0:\n",
    "        if observation.lastOpponentAction == 0:\n",
    "            return 2\n",
    "        elif observation.lastOpponentAction == 1:\n",
    "            return 0\n",
    "        elif observation.lastOpponentAction == 2:\n",
    "            return 1\n",
    "    #initial step\n",
    "    else:\n",
    "        return random.randint(0, 2)"
   ]
  },
  {
   "cell_type": "code",
   "execution_count": 17,
   "id": "25b1dad2",
   "metadata": {},
   "outputs": [
    {
     "name": "stdout",
     "output_type": "stream",
     "text": [
      "Writing most_frequent_counteracting.py\n"
     ]
    }
   ],
   "source": [
    "%%writefile most_frequent_counteracting.py\n",
    "def most_frequent_counteracting(observation, configuration):\n",
    "# Agent learns to counteract the most frequent move of the opponent\n",
    "    global arr_lastOpponentAction\n",
    "    if observation.step == 0:\n",
    "        arr_lastOpponentAction = []\n",
    "        return\n",
    "    action = observation.lastOpponentAction\n",
    "    arr_lastOpponentAction.append(action)\n",
    "    i = arr_lastOpponentAction.count(0)\n",
    "    j = arr_lastOpponentAction.count(1)\n",
    "    k = arr_lastOpponentAction.count(2)\n",
    "    n = max(i,j,k)\n",
    "    if n == 0:\n",
    "        return 1\n",
    "    elif n == 1:\n",
    "        return 2\n",
    "    elif n == 2:\n",
    "        return 0"
   ]
  },
  {
   "cell_type": "code",
   "execution_count": 18,
   "id": "f8b354cb",
   "metadata": {},
   "outputs": [
    {
     "name": "stdout",
     "output_type": "stream",
     "text": [
      "Writing counteracting_giveaway.py\n"
     ]
    }
   ],
   "source": [
    "%%writefile counteracting_giveaway.py\n",
    "# Agent randomly switches its stratefy from counteracting to giving way to the most frequent action of the opponent  \n",
    "def counteracting_giveaway(observation, configuration):\n",
    "    import random\n",
    "    global arr_lastOpponentAction\n",
    "    if observation.step == 0:\n",
    "        arr_lastOpponentAction = []\n",
    "        return\n",
    "    action = observation.lastOpponentAction\n",
    "    arr_lastOpponentAction.append(action)\n",
    "    i = arr_lastOpponentAction.count(0)\n",
    "    j = arr_lastOpponentAction.count(1)\n",
    "    k = arr_lastOpponentAction.count(2)\n",
    "    n = max(i,j,k)\n",
    "    if n == 0:\n",
    "        return random.randint(1,2)\n",
    "    elif n == 1:\n",
    "        return random.randint(0,2)\n",
    "    elif n == 2:\n",
    "        return random.randint(1,2)"
   ]
  },
  {
   "cell_type": "code",
   "execution_count": 19,
   "id": "89a7c915",
   "metadata": {},
   "outputs": [
    {
     "name": "stdout",
     "output_type": "stream",
     "text": [
      "Writing less_frequent_counteracting.py\n"
     ]
    }
   ],
   "source": [
    "%%writefile less_frequent_counteracting.py\n",
    "def less_frequent_counteracting(observation, configuration):\n",
    "# Agent learns to counteract the less frequent move of the opponent\n",
    "    global arr_lastOpponentAction2\n",
    "    if observation.step == 0:\n",
    "        arr_lastOpponentAction2 = []\n",
    "        return\n",
    "    action = observation.lastOpponentAction\n",
    "    arr_lastOpponentAction2.append(action)\n",
    "    i = arr_lastOpponentAction2.count(0)\n",
    "    j = arr_lastOpponentAction2.count(1)\n",
    "    k = arr_lastOpponentAction2.count(2)\n",
    "    n = min(i,j,k)\n",
    "    if n == 0:\n",
    "        return 1\n",
    "    elif n == 1:\n",
    "        return 2\n",
    "    elif n == 2:\n",
    "        return 0"
   ]
  },
  {
   "cell_type": "code",
   "execution_count": 20,
   "id": "ed5c3eee",
   "metadata": {},
   "outputs": [
    {
     "name": "stdout",
     "output_type": "stream",
     "text": [
      "Writing less_frequent_giveaway.py\n"
     ]
    }
   ],
   "source": [
    "%%writefile less_frequent_giveaway.py\n",
    "def less_frequent_giveaway(observation, configuration):\n",
    "# Agent learns to give away the less frequent move of the opponent\n",
    "    global arr_lastOpponentAction3\n",
    "    if observation.step == 0:\n",
    "        arr_lastOpponentAction3 = []\n",
    "        return\n",
    "    action = observation.lastOpponentAction\n",
    "    arr_lastOpponentAction3.append(action)\n",
    "    i = arr_lastOpponentAction3.count(0)\n",
    "    j = arr_lastOpponentAction3.count(1)\n",
    "    k = arr_lastOpponentAction3.count(2)\n",
    "    n = min(i,j,k)\n",
    "    if n == 0:\n",
    "        return 2\n",
    "    elif n == 1:\n",
    "        return 0\n",
    "    elif n == 2:\n",
    "        return 1"
   ]
  },
  {
   "cell_type": "code",
   "execution_count": 42,
   "id": "1af678b6",
   "metadata": {},
   "outputs": [],
   "source": [
    "functions_dict = {0:'always_rock.py', 1: 'always_paper.py', 2: 'always_scissors.py', 3: 'random.py', 4: 'copy_opponent_old.py', \n",
    "                  5: 'statistical_old.py', 6: 'random_strategy_switch.py', 7: 'counteracting.py', 8: 'giveaway_gamer.py', \n",
    "                  9: 'most_frequent_counteracting.py', 10: 'counteracting_giveaway.py', 11: 'less_frequent_counteracting.py', \n",
    "                  12: 'less_frequent_giveaway.py'}\n",
    "for i in range(len(functions_dict)):\n",
    "    for j in range(len(functions_dict)):\n",
    "        functions_lst = []\n",
    "        functions_lst.append(functions_dict[i])\n",
    "        functions_lst.append(functions_dict[j])\n",
    "        evaluate(\"rps\", functions_lst,configuration={\"episodeSteps\": 10})     "
   ]
  },
  {
   "cell_type": "code",
   "execution_count": null,
   "id": "5795a683",
   "metadata": {},
   "outputs": [],
   "source": [
    "functions_dict = {0:'always_rock.py', 1: 'always_paper.py', 2: 'always_scissors.py', 3: 'random.py', 4: 'copy_opponent_old.py', \n",
    "                  5: 'statistical_old.py', 6: 'random_strategy_switch.py', 7: 'counteracting.py', 8: 'giveaway_gamer.py', \n",
    "                  9: 'most_frequent_counteracting.py', 10: 'counteracting_giveaway.py', 11: 'less_frequent_counteracting.py', \n",
    "                  12: 'less_frequent_giveaway.py'}\n",
    "for i in range(len(functions_dict)):\n",
    "    for j in range(len(functions_dict)):\n",
    "        functions_lst = []\n",
    "        functions_lst.append(functions_dict[i])\n",
    "        functions_lst.append(functions_dict[j])\n",
    "        rewards = evaluate(\"rps\", functions_lst, configuration={\"episodeSteps\": 100})\n",
    "        print(f'{[functions_lst]} : {rewards}')"
   ]
  }
 ],
 "metadata": {
  "kernelspec": {
   "display_name": "Python 3 (ipykernel)",
   "language": "python",
   "name": "python3"
  },
  "language_info": {
   "codemirror_mode": {
    "name": "ipython",
    "version": 3
   },
   "file_extension": ".py",
   "mimetype": "text/x-python",
   "name": "python",
   "nbconvert_exporter": "python",
   "pygments_lexer": "ipython3",
   "version": "3.9.12"
  }
 },
 "nbformat": 4,
 "nbformat_minor": 5
}
